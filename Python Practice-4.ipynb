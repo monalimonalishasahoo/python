{
 "cells": [
  {
   "cell_type": "code",
   "execution_count": 1,
   "id": "04a4b91d",
   "metadata": {},
   "outputs": [
    {
     "name": "stdout",
     "output_type": "stream",
     "text": [
      "The given list is : ['m', 'o', 'n', 'a', 'l', 'i']\n",
      "The sorted list is : ['a', 'i', 'l', 'm', 'n', 'o']\n"
     ]
    }
   ],
   "source": [
    "# Sort the string list alphabetically\n",
    "list=['m','o','n','a','l','i']\n",
    "print(\"The given list is :\",list)\n",
    "list.sort()\n",
    "print(\"The sorted list is :\",list)"
   ]
  },
  {
   "cell_type": "code",
   "execution_count": 2,
   "id": "dc04b15c",
   "metadata": {},
   "outputs": [
    {
     "name": "stdout",
     "output_type": "stream",
     "text": [
      "Enter a string :mnkdhwsbjs\n",
      "All characters are alphabetic\n"
     ]
    }
   ],
   "source": [
    "#check if all char in the string are alphabetic\n",
    "str=input(\"Enter a string :\")\n",
    "if str.isalpha() :\n",
    "    print(\"All characters are alphabetic\")\n",
    "else :\n",
    "    print(\"All the characters of the given string are not alphabetic\")"
   ]
  },
  {
   "cell_type": "code",
   "execution_count": 3,
   "id": "54a3d5e7",
   "metadata": {},
   "outputs": [
    {
     "name": "stdout",
     "output_type": "stream",
     "text": [
      "97\n"
     ]
    }
   ],
   "source": [
    "# Returns an integer value for the given character\n",
    "print(ord('a'))"
   ]
  },
  {
   "cell_type": "code",
   "execution_count": 4,
   "id": "1ae097f6",
   "metadata": {},
   "outputs": [
    {
     "name": "stdout",
     "output_type": "stream",
     "text": [
      "The list is : ['apple', '', '', 'banana', 'cherry', '']\n",
      "The modified list is : ['apple', 'banana', 'cherry']\n"
     ]
    }
   ],
   "source": [
    "# Remove empty strings from the list of strings\n",
    "l=[\"apple\",\"\",\"\",\"banana\",\"cherry\",\"\"]\n",
    "print(\"The list is :\",l)\n",
    "while( \"\" in l) :\n",
    "    l.remove(\"\")\n",
    "print(\"The modified list is :\",l)    "
   ]
  },
  {
   "cell_type": "code",
   "execution_count": 6,
   "id": "c38521f2",
   "metadata": {},
   "outputs": [
    {
     "name": "stdout",
     "output_type": "stream",
     "text": [
      "Enter a number :134\n",
      "The sum of digits of the number is : 8\n"
     ]
    }
   ],
   "source": [
    "#Python program to compute sum of digits in number\n",
    "n=int(input(\"Enter a number :\"))\n",
    "total=0\n",
    "while(n>0) :\n",
    "    digit=n%10\n",
    "    total=total+digit\n",
    "    n=n//10\n",
    "print(\"The sum of digits of the number is :\",total)    "
   ]
  },
  {
   "cell_type": "code",
   "execution_count": 7,
   "id": "fd014117",
   "metadata": {},
   "outputs": [
    {
     "name": "stdout",
     "output_type": "stream",
     "text": [
      "Enter a number :15\n",
      "Enter another number :5\n",
      "The remainder is : 0\n"
     ]
    }
   ],
   "source": [
    "#write a program to find and print the remainder of two numbers\n",
    "a=int(input(\"Enter a number :\"))\n",
    "b=int(input(\"Enter another number :\"))\n",
    "c=a%b\n",
    "print(\"The remainder is :\",c)"
   ]
  },
  {
   "cell_type": "code",
   "execution_count": 8,
   "id": "8a430e16",
   "metadata": {},
   "outputs": [
    {
     "name": "stdout",
     "output_type": "stream",
     "text": [
      "Enter a number :5\n",
      "Enter another number :6\n",
      "Before swapping : 5 6\n",
      "After swapping : 6 5\n"
     ]
    }
   ],
   "source": [
    "#Python Program to Swap Two Numbers\n",
    "a=int(input(\"Enter a number :\"))\n",
    "b=int(input(\"Enter another number :\"))\n",
    "print(\"Before swapping :\",a,b)\n",
    "a,b=b,a\n",
    "print(\"After swapping :\",a,b)"
   ]
  },
  {
   "cell_type": "code",
   "execution_count": 10,
   "id": "8aca3b22",
   "metadata": {},
   "outputs": [
    {
     "name": "stdout",
     "output_type": "stream",
     "text": [
      "Enter a string :malayalam\n",
      "It is palindrome\n"
     ]
    }
   ],
   "source": [
    "#Python Palindrome Program using Functions\n",
    "def pal(x) :\n",
    "    y=x[::-1]\n",
    "    if y == x :\n",
    "        return \"It is palindrome\"\n",
    "    else :\n",
    "        return \"It is not a palindrome\"\n",
    "       \n",
    "x=input(\"Enter a string :\")\n",
    "print(pal(x))"
   ]
  },
  {
   "cell_type": "code",
   "execution_count": 11,
   "id": "016715d4",
   "metadata": {},
   "outputs": [
    {
     "name": "stdout",
     "output_type": "stream",
     "text": [
      "The dictionary is : {'apple': 58, 'banana': 30, 'cherry': 40}\n"
     ]
    }
   ],
   "source": [
    "# Convert two lists into a dictionary\n",
    "l1=[\"apple\",\"banana\",\"cherry\"]\n",
    "l2=[58,30,40]\n",
    "d=dict(zip(l1,l2))\n",
    "print(\"The dictionary is :\",d)"
   ]
  },
  {
   "cell_type": "code",
   "execution_count": 12,
   "id": "055b05aa",
   "metadata": {},
   "outputs": [
    {
     "name": "stdout",
     "output_type": "stream",
     "text": [
      "{'apple': 60, 'banana': 40, 'cherry': 30, 'mango': 45, 'litchi': 80, 'grape': 20}\n"
     ]
    }
   ],
   "source": [
    "# Merge two dictionaries in a single expression\n",
    "d1={\"apple\":60,\"banana\":40,\"cherry\":30}\n",
    "d2={\"mango\":45,\"litchi\":80,\"grape\":20}\n",
    "d1.update(d2)\n",
    "print(d1)"
   ]
  }
 ],
 "metadata": {
  "kernelspec": {
   "display_name": "Python 3",
   "language": "python",
   "name": "python3"
  },
  "language_info": {
   "codemirror_mode": {
    "name": "ipython",
    "version": 3
   },
   "file_extension": ".py",
   "mimetype": "text/x-python",
   "name": "python",
   "nbconvert_exporter": "python",
   "pygments_lexer": "ipython3",
   "version": "3.8.8"
  }
 },
 "nbformat": 4,
 "nbformat_minor": 5
}
