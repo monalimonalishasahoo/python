{
 "cells": [
  {
   "cell_type": "code",
   "execution_count": 3,
   "id": "4cae2766",
   "metadata": {},
   "outputs": [
    {
     "name": "stdout",
     "output_type": "stream",
     "text": [
      "The nth fibbonacci number is : 34\n"
     ]
    }
   ],
   "source": [
    "#python function to return the nth fibonacci number\n",
    "def fib(n):\n",
    "    if n<=0 :\n",
    "        print(\"Please enter a possitve number\")\n",
    "    elif n==1 :\n",
    "        return 0\n",
    "    elif n==2 :\n",
    "        return 1\n",
    "    else :\n",
    "        return fib(n-1)+fib(n-2)\n",
    "    \n",
    "print(\"The nth fibbonacci number is :\",fib(10))"
   ]
  },
  {
   "cell_type": "code",
   "execution_count": 5,
   "id": "5be58042",
   "metadata": {},
   "outputs": [
    {
     "name": "stdout",
     "output_type": "stream",
     "text": [
      "Enter a number :5\n",
      "The factorial of  5  is  120\n"
     ]
    }
   ],
   "source": [
    "#python function to return the factorial of a number\n",
    "def fact(n) :\n",
    "    if n==0 :\n",
    "        return 1\n",
    "    else :\n",
    "        return n*fact(n-1)    \n",
    "    \n",
    "x=int(input(\"Enter a number :\"))\n",
    "print(\"The factorial of \",x,\" is \",fact(x))"
   ]
  },
  {
   "cell_type": "code",
   "execution_count": 2,
   "id": "e5e7d183",
   "metadata": {},
   "outputs": [
    {
     "name": "stdout",
     "output_type": "stream",
     "text": [
      "Enter the radius of the circle :5\n",
      "The area of the circle is 78.55 \n"
     ]
    }
   ],
   "source": [
    "#python function to find the area of a circle\n",
    "def area(n) :\n",
    "    pi=3.142\n",
    "    return pi*(r*r)\n",
    "    \n",
    "r=float(input(\"Enter the radius of the circle :\"))\n",
    "print(\"The area of the circle is %.2f \"%area(r))"
   ]
  },
  {
   "cell_type": "code",
   "execution_count": 3,
   "id": "317a3c96",
   "metadata": {},
   "outputs": [
    {
     "name": "stdout",
     "output_type": "stream",
     "text": [
      "[1, 2, 3, 4, 5]\n",
      "The average of given numbers is : 3.0\n"
     ]
    }
   ],
   "source": [
    "#python function to find the average of given numbers\n",
    "def avg(l) :\n",
    "    sum=0\n",
    "    for i in l :\n",
    "        sum+=i\n",
    "    avg=sum/len(l)\n",
    "    return avg       \n",
    "    \n",
    "l=[1,2,3,4,5] \n",
    "print(l)\n",
    "print(\"The average of given numbers is :\",avg(l))"
   ]
  },
  {
   "cell_type": "code",
   "execution_count": 5,
   "id": "dca4fd28",
   "metadata": {},
   "outputs": [
    {
     "name": "stdout",
     "output_type": "stream",
     "text": [
      "[1, 2, 3, 4, 5]\n",
      "The squares of the given list numbers : [1, 4, 9, 16, 25]\n"
     ]
    }
   ],
   "source": [
    "#python function to return the squares of a list of numbers\n",
    "def squ(l) :\n",
    "    x=[]\n",
    "    for i in l :\n",
    "        x.append(i ** 2)\n",
    "    return x\n",
    "    \n",
    "l=[1,2,3,4,5]\n",
    "print(l)\n",
    "print(\"The squares of the given list numbers :\",squ(l))"
   ]
  },
  {
   "cell_type": "code",
   "execution_count": 6,
   "id": "043fefda",
   "metadata": {},
   "outputs": [
    {
     "name": "stdout",
     "output_type": "stream",
     "text": [
      "[1, 4, 9, 16, 25]\n",
      "The square root of the given list of numbers are : [1.0, 2.0, 3.0, 4.0, 5.0]\n"
     ]
    }
   ],
   "source": [
    "#python function to return the squareroot of a list of numbers\n",
    "import math\n",
    "def root(l) :\n",
    "    x=[]\n",
    "    for i in l :\n",
    "        x.append(math.sqrt(i))\n",
    "    return x    \n",
    "    \n",
    "l=[1, 4, 9, 16, 25]\n",
    "print(l)\n",
    "print(\"The square root of the given list of numbers are :\",root(l))\n",
    "    "
   ]
  },
  {
   "cell_type": "code",
   "execution_count": 8,
   "id": "8f57d412",
   "metadata": {},
   "outputs": [
    {
     "name": "stdout",
     "output_type": "stream",
     "text": [
      "Enter a number :5\n",
      "5  is  a prime number\n"
     ]
    }
   ],
   "source": [
    "#python program to find whether a number is prime\n",
    "def prime(n) :\n",
    "    for i in range(2,n):\n",
    "        if n%i == 0 :\n",
    "            return \"not a prime number\"\n",
    "        else :\n",
    "            return \"a prime number\"\n",
    "    \n",
    "n=int(input(\"Enter a number :\"))\n",
    "print(n,\" is \",prime(n))"
   ]
  },
  {
   "cell_type": "code",
   "execution_count": 15,
   "id": "efab59f5",
   "metadata": {},
   "outputs": [
    {
     "name": "stdout",
     "output_type": "stream",
     "text": [
      "[2, 80, 64, 83, 5, 79, 44]\n",
      "The sum of even numbers of the given list is : 190\n"
     ]
    }
   ],
   "source": [
    "#python function to add even mubers in a list\n",
    "def sum(l) :\n",
    "    sum = 0\n",
    "    for i in l :\n",
    "        if i%2 == 0 :\n",
    "            sum += i\n",
    "    return sum   \n",
    "    \n",
    "l=[2,80,64,83,5,79,44]\n",
    "print(l)\n",
    "print(\"The sum of even numbers of the given list is :\",sum(l))"
   ]
  },
  {
   "cell_type": "code",
   "execution_count": 18,
   "id": "403f5fe4",
   "metadata": {},
   "outputs": [
    {
     "name": "stdout",
     "output_type": "stream",
     "text": [
      "[1, 2, 3, 4, 5]\n",
      "The cubes of the given list of numbers are : [1, 8, 27, 64, 125]\n"
     ]
    }
   ],
   "source": [
    "#python function to return the cubes of a list of numbers\n",
    "def cube(l) :\n",
    "    x=[]\n",
    "    for i in l :\n",
    "        x.append(i ** 3)\n",
    "    return x\n",
    "    \n",
    "l=[1,2,3,4,5]\n",
    "print(l)\n",
    "print(\"The cubes of the given list of numbers are :\",cube(l))"
   ]
  },
  {
   "cell_type": "code",
   "execution_count": 22,
   "id": "f545a8f8",
   "metadata": {},
   "outputs": [
    {
     "name": "stdout",
     "output_type": "stream",
     "text": [
      "('Apple', 'Banana', 'Orange')\n",
      "The modified tupple is : ['Apple', 'Banana', 'Orange', 'Mango']\n"
     ]
    }
   ],
   "source": [
    "#python function to modify a tuple\n",
    "def mod(t) :\n",
    "    x=list(t)\n",
    "    x.append(\"Mango\")\n",
    "    return x\n",
    "\n",
    "t=(\"Apple\",\"Banana\",\"Orange\")\n",
    "print(t)\n",
    "print(\"The modified tupple is :\",mod(t))"
   ]
  },
  {
   "cell_type": "code",
   "execution_count": 23,
   "id": "27021d5a",
   "metadata": {},
   "outputs": [
    {
     "name": "stdout",
     "output_type": "stream",
     "text": [
      "The value of a: 10\n",
      "The address of a is : 140735037319248\n"
     ]
    }
   ],
   "source": [
    "#python function for count of address reference\n",
    "def adr(a) :\n",
    "    x=id(a)\n",
    "    return x\n",
    "\n",
    "a=10\n",
    "print(\"The value of a:\",a)\n",
    "print(\"The address of a is :\",adr(a))"
   ]
  },
  {
   "cell_type": "code",
   "execution_count": 27,
   "id": "bba830b6",
   "metadata": {},
   "outputs": [
    {
     "name": "stdout",
     "output_type": "stream",
     "text": [
      "Today's date is : 2021-06-24\n",
      "Time : 17:30:56\n"
     ]
    }
   ],
   "source": [
    "#python function for datetime\n",
    "import datetime\n",
    "def date():\n",
    "    x=datetime.date.today()\n",
    "    return x\n",
    "def time():\n",
    "    y=datetime.time(17,30,56)\n",
    "    return y\n",
    "\n",
    "print(\"Today's date is :\",date())\n",
    "print(\"Time :\",time())"
   ]
  },
  {
   "cell_type": "code",
   "execution_count": 33,
   "id": "82e08814",
   "metadata": {},
   "outputs": [
    {
     "name": "stdout",
     "output_type": "stream",
     "text": [
      "A :0\n",
      "B :0\n",
      "C :1\n",
      "Sum and Carry are : (1, 0)\n"
     ]
    }
   ],
   "source": [
    "#python function to create adders\n",
    "def result(A, B, C):\n",
    "    Sum = C ^ (A ^ B)\n",
    "    C_Out = B&(not(A ^ B))| (not(A))&B\n",
    "    return Sum,C_Out\n",
    "\n",
    "A=int(input(\"A :\"))\n",
    "B=int(input(\"B :\"))\n",
    "C=int(input(\"C :\"))\n",
    "print(\"Sum and Carry are :\",result(A,B,C))\n"
   ]
  },
  {
   "cell_type": "code",
   "execution_count": 34,
   "id": "4ffc6774",
   "metadata": {},
   "outputs": [
    {
     "name": "stdout",
     "output_type": "stream",
     "text": [
      "Enter a number :0.5\n",
      "0.6224593312018546\n"
     ]
    }
   ],
   "source": [
    "#python sigmoid function\n",
    "def sigmoid(x):\n",
    "    return 1 / (1 + math.exp(-x))\n",
    "\n",
    "x=float(input(\"Enter a number :\"))\n",
    "print(sigmoid(x))"
   ]
  }
 ],
 "metadata": {
  "kernelspec": {
   "display_name": "Python 3",
   "language": "python",
   "name": "python3"
  },
  "language_info": {
   "codemirror_mode": {
    "name": "ipython",
    "version": 3
   },
   "file_extension": ".py",
   "mimetype": "text/x-python",
   "name": "python",
   "nbconvert_exporter": "python",
   "pygments_lexer": "ipython3",
   "version": "3.8.8"
  }
 },
 "nbformat": 4,
 "nbformat_minor": 5
}
