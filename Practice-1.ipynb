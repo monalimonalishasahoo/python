{
 "cells": [
  {
   "cell_type": "code",
   "execution_count": 5,
   "id": "aa5243a9",
   "metadata": {},
   "outputs": [
    {
     "data": {
      "text/plain": [
       "18"
      ]
     },
     "execution_count": 5,
     "metadata": {},
     "output_type": "execute_result"
    }
   ],
   "source": [
    "#Open and write to a file that is not writable\n",
    "f = open(\"file.txt\",'x')\n",
    "f.write(\"It is not writable\")"
   ]
  },
  {
   "cell_type": "code",
   "execution_count": 6,
   "id": "955c9127",
   "metadata": {},
   "outputs": [
    {
     "name": "stdout",
     "output_type": "stream",
     "text": [
      "It is not writable\n"
     ]
    }
   ],
   "source": [
    "f = open(\"file.txt\",'r')\n",
    "print(f.readline())\n",
    "f.close()"
   ]
  },
  {
   "cell_type": "code",
   "execution_count": 13,
   "id": "a47946a7",
   "metadata": {},
   "outputs": [
    {
     "name": "stdout",
     "output_type": "stream",
     "text": [
      "The addition of elements present in a tuple is : 14\n"
     ]
    }
   ],
   "source": [
    "#Define a function to add the elements present in a tuple. Tuple will be given as an argument.\n",
    "def add(t) :\n",
    "    res = sum(list(t)) \n",
    "    return res\n",
    "\n",
    "tuple =(2,3,4,5)\n",
    "print(\"The addition of elements present in a tuple is :\",add(tuple))"
   ]
  },
  {
   "cell_type": "code",
   "execution_count": 11,
   "id": "8ac16952",
   "metadata": {},
   "outputs": [
    {
     "name": "stdout",
     "output_type": "stream",
     "text": [
      "[(56, 12), (24, 85), (63, 89), (90, 12)]\n",
      "According to first element :\n",
      "[(24, 85), (56, 12), (63, 89), (90, 12)]\n",
      "According to second element :\n",
      "[(56, 12), (90, 12), (24, 85), (63, 89)]\n"
     ]
    }
   ],
   "source": [
    "#Using zip function make a list of tuples and then write a program to sort a list of tuples using Lambda. \n",
    "#Output1: [(56,12),(24,85),(63,89),(90,12)]\n",
    "#Output2: [(24, 85), (56, 12), (63, 89), (90, 12)] \n",
    "#Output3: [(56, 12), (90, 12), (24, 85), (63, 89)]\n",
    "l1 = [56,24,63,90]\n",
    "l2 = [12,85,89,12]\n",
    "l = list(zip(l1,l2))\n",
    "print(l)\n",
    "l.sort(key = lambda x:x[0])\n",
    "print(\"According to first element :\")\n",
    "print(l)\n",
    "print(\"According to second element :\")\n",
    "l.sort(key = lambda x:x[1])\n",
    "print(l)"
   ]
  },
  {
   "cell_type": "code",
   "execution_count": 21,
   "id": "6aa022c7",
   "metadata": {},
   "outputs": [
    {
     "name": "stdout",
     "output_type": "stream",
     "text": [
      "[('Sst', 82), ('Eng', 88), ('Sci', 90), ('Maths', 97)]\n"
     ]
    }
   ],
   "source": [
    "#Write a Python program to sort a list of tuples using Lambda. \n",
    "#Input: [('Eng', 88), ('Sci', 90), ('Maths', 97), ('Sst', 82)] \n",
    "#Output: [('Sst', 82), ('Eng', 88), ('Sci', 90), ('Maths', 97)]\n",
    "\n",
    "a = [('Eng', 88), ('Sci', 90), ('Maths', 97), ('Sst', 82)]\n",
    "a.sort(key = lambda x:x[1])\n",
    "print(a)       "
   ]
  },
  {
   "cell_type": "code",
   "execution_count": 23,
   "id": "b065dc1b",
   "metadata": {},
   "outputs": [
    {
     "name": "stdout",
     "output_type": "stream",
     "text": [
      "Coming from if\n"
     ]
    }
   ],
   "source": [
    "#Define a function with two arguments a and b. Check if a is equal to 1 then return 'coming from if',\n",
    "#check if b is equal to 1 ,then return 'coming from elif' otherwise return 'no condition is satisfied'\n",
    " \n",
    "def fun(a,b) :\n",
    "    if a == 1 :\n",
    "        return(\"Coming from if\")\n",
    "    elif b == 1 :\n",
    "        return (\"Coming from elif\")\n",
    "    else :\n",
    "        return(\"No condition satisfied\")\n",
    "    \n",
    "print(fun(1,5))    "
   ]
  },
  {
   "cell_type": "code",
   "execution_count": 1,
   "id": "7c347728",
   "metadata": {},
   "outputs": [
    {
     "name": "stdout",
     "output_type": "stream",
     "text": [
      "The average of physics subject : 66.0\n"
     ]
    }
   ],
   "source": [
    "#Take a Dictionary as given in input.Find the average of phy subject from the dict using function\n",
    "#Input:- dict={1:{'name':'Ram','Mark':{'phy':56,'chem':78}},2:{'name':'Hari','Mark':{'phy':76,'chem':88}}} Output:- 66.0\n",
    "\n",
    "def avg(x) :\n",
    "    s = 0\n",
    "    c = 0\n",
    "    for i in x.values() :\n",
    "        s = s + i['Mark']['phy']\n",
    "        c = c + 1\n",
    "    av = s /c\n",
    "    return av\n",
    "   \n",
    "dict={1:{'name':'Ram','Mark':{'phy':56,'chem':78}},\n",
    "      2:{'name':'Hari','Mark':{'phy':76,'chem':88}}\n",
    "     } \n",
    "print(\"The average of physics subject :\",avg(dict))"
   ]
  },
  {
   "cell_type": "code",
   "execution_count": 11,
   "id": "fd36a0f5",
   "metadata": {},
   "outputs": [
    {
     "name": "stdout",
     "output_type": "stream",
     "text": [
      "{1: 10, 2: 20, 3: 30, 4: 40, 5: 50, 6: 60}\n"
     ]
    }
   ],
   "source": [
    "#Create three dictionaries separately, then create one dictionary that will contain the other three dictionaries\n",
    "d1 = {1:10,2:20}\n",
    "d2 = {3:30,4:40}\n",
    "d3 = {5:50,6:60}\n",
    "d = {}\n",
    "for i in (d1,d2,d3) :\n",
    "    d.update(i)\n",
    "print(d)"
   ]
  },
  {
   "cell_type": "code",
   "execution_count": 20,
   "id": "14012519",
   "metadata": {},
   "outputs": [
    {
     "name": "stdout",
     "output_type": "stream",
     "text": [
      "Name:Monali \n",
      "Address:bbsr\n",
      "State:Odisha\n",
      "\n"
     ]
    }
   ],
   "source": [
    "#Create a dictionary of address using \"name\", \"address\", \"street\", \"state\" and print all the values using string formater\n",
    "d = {'Name':'Monali','Address':'bbsr','State':'Odisha'}\n",
    "print(\"Name:{} \\nAddress:{}\\nState:{}\\n\".format(d[\"Name\"], d[\"Address\"],d[\"State\"]))"
   ]
  },
  {
   "cell_type": "code",
   "execution_count": 12,
   "id": "e5991ef9",
   "metadata": {},
   "outputs": [
    {
     "name": "stdout",
     "output_type": "stream",
     "text": [
      "1200\n"
     ]
    }
   ],
   "source": [
    "#Write a program to multiply all elements of dictionary Input:- FruitDict = {'Apple': 10, 'banana': 5,'orange':4,'Guava':6} Output:- 1200\n",
    "FruitDict = {'Apple': 10, 'banana': 5,'orange':4,'Guava':6} \n",
    "result = 1\n",
    "for key in FruitDict :\n",
    "    result = result*FruitDict[key]\n",
    "print(result)"
   ]
  },
  {
   "cell_type": "code",
   "execution_count": 17,
   "id": "7958adcf",
   "metadata": {},
   "outputs": [
    {
     "name": "stdout",
     "output_type": "stream",
     "text": [
      "enter a n value:2\n",
      "hari\n",
      "59\n",
      "sunny\n",
      "10\n",
      "{'hari': 59, 'sunny': 10}\n",
      "59\n"
     ]
    }
   ],
   "source": [
    "#Create a user input dictionary having two key:value pair and check whether one of the key given by you is pesent in the dictionary Input:- {hari:59,sunny:60} Checking_input:- hari Output:- hari=59\n",
    "n = int(input(\"enter a n value:\"))\n",
    "d = {}\n",
    "for i in range(n):\n",
    "    keys = input()\n",
    "    values = int(input())\n",
    "    d[keys] = values\n",
    "print(d)\n",
    "print(d['hari'])"
   ]
  },
  {
   "cell_type": "code",
   "execution_count": null,
   "id": "c210304d",
   "metadata": {},
   "outputs": [],
   "source": []
  }
 ],
 "metadata": {
  "kernelspec": {
   "display_name": "Python 3",
   "language": "python",
   "name": "python3"
  },
  "language_info": {
   "codemirror_mode": {
    "name": "ipython",
    "version": 3
   },
   "file_extension": ".py",
   "mimetype": "text/x-python",
   "name": "python",
   "nbconvert_exporter": "python",
   "pygments_lexer": "ipython3",
   "version": "3.8.8"
  }
 },
 "nbformat": 4,
 "nbformat_minor": 5
}
