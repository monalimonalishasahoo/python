{
 "cells": [
  {
   "cell_type": "code",
   "execution_count": 1,
   "id": "8a882061",
   "metadata": {},
   "outputs": [],
   "source": [
    "import pandas as pd\n",
    "import numpy as np\n",
    "import seaborn as sns\n",
    "import matplotlib.pyplot as plt\n",
    "%matplotlib inline"
   ]
  },
  {
   "cell_type": "code",
   "execution_count": 2,
   "id": "8830d7f9",
   "metadata": {},
   "outputs": [
    {
     "data": {
      "text/html": [
       "<div>\n",
       "<style scoped>\n",
       "    .dataframe tbody tr th:only-of-type {\n",
       "        vertical-align: middle;\n",
       "    }\n",
       "\n",
       "    .dataframe tbody tr th {\n",
       "        vertical-align: top;\n",
       "    }\n",
       "\n",
       "    .dataframe thead th {\n",
       "        text-align: right;\n",
       "    }\n",
       "</style>\n",
       "<table border=\"1\" class=\"dataframe\">\n",
       "  <thead>\n",
       "    <tr style=\"text-align: right;\">\n",
       "      <th></th>\n",
       "      <th>uniq_id</th>\n",
       "      <th>crawl_timestamp</th>\n",
       "      <th>product_url</th>\n",
       "      <th>product_name</th>\n",
       "      <th>product_category_tree</th>\n",
       "      <th>pid</th>\n",
       "      <th>retail_price</th>\n",
       "      <th>discounted_price</th>\n",
       "      <th>discounted_price.1</th>\n",
       "      <th>is_FK_Advantage_product</th>\n",
       "      <th>description</th>\n",
       "      <th>product_rating</th>\n",
       "      <th>overall_rating</th>\n",
       "      <th>brand</th>\n",
       "      <th>product_specifications</th>\n",
       "    </tr>\n",
       "  </thead>\n",
       "  <tbody>\n",
       "    <tr>\n",
       "      <th>0</th>\n",
       "      <td>c2d766ca982eca8304150849735ffef9</td>\n",
       "      <td>2016-03-25 22:59:23 +0000</td>\n",
       "      <td>http://www.flipkart.com/alisha-solid-women-s-c...</td>\n",
       "      <td>Alisha Solid Women's Cycling Shorts</td>\n",
       "      <td>[\"Clothing &gt;&gt; Women's Clothing &gt;&gt; Lingerie, Sl...</td>\n",
       "      <td>SRTEH2FF9KEDEFGF</td>\n",
       "      <td>999.0</td>\n",
       "      <td>379.0</td>\n",
       "      <td>380.0</td>\n",
       "      <td>False</td>\n",
       "      <td>Key Features of Alisha Solid Women's Cycling S...</td>\n",
       "      <td>No rating available</td>\n",
       "      <td>No rating available</td>\n",
       "      <td>Alisha</td>\n",
       "      <td>{\"product_specification\"=&gt;[{\"key\"=&gt;\"Number of ...</td>\n",
       "    </tr>\n",
       "    <tr>\n",
       "      <th>1</th>\n",
       "      <td>7f7036a6d550aaa89d34c77bd39a5e48</td>\n",
       "      <td>2016-03-25 22:59:23 +0000</td>\n",
       "      <td>http://www.flipkart.com/fabhomedecor-fabric-do...</td>\n",
       "      <td>FabHomeDecor Fabric Double Sofa Bed</td>\n",
       "      <td>[\"Furniture &gt;&gt; Living Room Furniture &gt;&gt; Sofa B...</td>\n",
       "      <td>SBEEH3QGU7MFYJFY</td>\n",
       "      <td>32157.0</td>\n",
       "      <td>22646.0</td>\n",
       "      <td>22647.0</td>\n",
       "      <td>False</td>\n",
       "      <td>FabHomeDecor Fabric Double Sofa Bed (Finish Co...</td>\n",
       "      <td>No rating available</td>\n",
       "      <td>No rating available</td>\n",
       "      <td>FabHomeDecor</td>\n",
       "      <td>{\"product_specification\"=&gt;[{\"key\"=&gt;\"Installati...</td>\n",
       "    </tr>\n",
       "    <tr>\n",
       "      <th>2</th>\n",
       "      <td>f449ec65dcbc041b6ae5e6a32717d01b</td>\n",
       "      <td>2016-03-25 22:59:23 +0000</td>\n",
       "      <td>http://www.flipkart.com/aw-bellies/p/itmeh4grg...</td>\n",
       "      <td>AW Bellies</td>\n",
       "      <td>[\"Footwear &gt;&gt; Women's Footwear &gt;&gt; Ballerinas &gt;...</td>\n",
       "      <td>SHOEH4GRSUBJGZXE</td>\n",
       "      <td>999.0</td>\n",
       "      <td>499.0</td>\n",
       "      <td>500.0</td>\n",
       "      <td>False</td>\n",
       "      <td>Key Features of AW Bellies Sandals Wedges Heel...</td>\n",
       "      <td>No rating available</td>\n",
       "      <td>No rating available</td>\n",
       "      <td>AW</td>\n",
       "      <td>{\"product_specification\"=&gt;[{\"key\"=&gt;\"Ideal For\"...</td>\n",
       "    </tr>\n",
       "    <tr>\n",
       "      <th>3</th>\n",
       "      <td>0973b37acd0c664e3de26e97e5571454</td>\n",
       "      <td>2016-03-25 22:59:23 +0000</td>\n",
       "      <td>http://www.flipkart.com/alisha-solid-women-s-c...</td>\n",
       "      <td>Alisha Solid Women's Cycling Shorts</td>\n",
       "      <td>[\"Clothing &gt;&gt; Women's Clothing &gt;&gt; Lingerie, Sl...</td>\n",
       "      <td>SRTEH2F6HUZMQ6SJ</td>\n",
       "      <td>699.0</td>\n",
       "      <td>267.0</td>\n",
       "      <td>268.0</td>\n",
       "      <td>False</td>\n",
       "      <td>Key Features of Alisha Solid Women's Cycling S...</td>\n",
       "      <td>No rating available</td>\n",
       "      <td>No rating available</td>\n",
       "      <td>Alisha</td>\n",
       "      <td>{\"product_specification\"=&gt;[{\"key\"=&gt;\"Number of ...</td>\n",
       "    </tr>\n",
       "    <tr>\n",
       "      <th>4</th>\n",
       "      <td>bc940ea42ee6bef5ac7cea3fb5cfbee7</td>\n",
       "      <td>2016-03-25 22:59:23 +0000</td>\n",
       "      <td>http://www.flipkart.com/sicons-all-purpose-arn...</td>\n",
       "      <td>Sicons All Purpose Arnica Dog Shampoo</td>\n",
       "      <td>[\"Pet Supplies &gt;&gt; Grooming &gt;&gt; Skin &amp; Coat Care...</td>\n",
       "      <td>PSOEH3ZYDMSYARJ5</td>\n",
       "      <td>220.0</td>\n",
       "      <td>210.0</td>\n",
       "      <td>211.0</td>\n",
       "      <td>False</td>\n",
       "      <td>Specifications of Sicons All Purpose Arnica Do...</td>\n",
       "      <td>No rating available</td>\n",
       "      <td>No rating available</td>\n",
       "      <td>Sicons</td>\n",
       "      <td>{\"product_specification\"=&gt;[{\"key\"=&gt;\"Pet Type\",...</td>\n",
       "    </tr>\n",
       "    <tr>\n",
       "      <th>...</th>\n",
       "      <td>...</td>\n",
       "      <td>...</td>\n",
       "      <td>...</td>\n",
       "      <td>...</td>\n",
       "      <td>...</td>\n",
       "      <td>...</td>\n",
       "      <td>...</td>\n",
       "      <td>...</td>\n",
       "      <td>...</td>\n",
       "      <td>...</td>\n",
       "      <td>...</td>\n",
       "      <td>...</td>\n",
       "      <td>...</td>\n",
       "      <td>...</td>\n",
       "      <td>...</td>\n",
       "    </tr>\n",
       "    <tr>\n",
       "      <th>19995</th>\n",
       "      <td>7179d2f6c4ad50a17d014ca1d2815156</td>\n",
       "      <td>2015-12-01 10:15:43 +0000</td>\n",
       "      <td>http://www.flipkart.com/walldesign-small-vinyl...</td>\n",
       "      <td>WallDesign Small Vinyl Sticker</td>\n",
       "      <td>[\"Baby Care &gt;&gt; Baby &amp; Kids Gifts &gt;&gt; Stickers &gt;...</td>\n",
       "      <td>STIE7KFJAKSTDY9G</td>\n",
       "      <td>1500.0</td>\n",
       "      <td>730.0</td>\n",
       "      <td>731.0</td>\n",
       "      <td>False</td>\n",
       "      <td>Buy WallDesign Small Vinyl Sticker for Rs.730 ...</td>\n",
       "      <td>No rating available</td>\n",
       "      <td>No rating available</td>\n",
       "      <td>WallDesign</td>\n",
       "      <td>{\"product_specification\"=&gt;[{\"key\"=&gt;\"Number of ...</td>\n",
       "    </tr>\n",
       "    <tr>\n",
       "      <th>19996</th>\n",
       "      <td>71ac419198359d37b8fe5e3fffdfee09</td>\n",
       "      <td>2015-12-01 10:15:43 +0000</td>\n",
       "      <td>http://www.flipkart.com/wallmantra-large-vinyl...</td>\n",
       "      <td>Wallmantra Large Vinyl Stickers Sticker</td>\n",
       "      <td>[\"Baby Care &gt;&gt; Baby &amp; Kids Gifts &gt;&gt; Stickers &gt;...</td>\n",
       "      <td>STIE9F5URNQGJCGH</td>\n",
       "      <td>1429.0</td>\n",
       "      <td>1143.0</td>\n",
       "      <td>1144.0</td>\n",
       "      <td>False</td>\n",
       "      <td>Buy Wallmantra Large Vinyl Stickers Sticker fo...</td>\n",
       "      <td>No rating available</td>\n",
       "      <td>No rating available</td>\n",
       "      <td>Wallmantra</td>\n",
       "      <td>{\"product_specification\"=&gt;[{\"key\"=&gt;\"Number of ...</td>\n",
       "    </tr>\n",
       "    <tr>\n",
       "      <th>19997</th>\n",
       "      <td>93e9d343837400ce0d7980874ece471c</td>\n",
       "      <td>2015-12-01 10:15:43 +0000</td>\n",
       "      <td>http://www.flipkart.com/elite-collection-mediu...</td>\n",
       "      <td>Elite Collection Medium Acrylic Sticker</td>\n",
       "      <td>[\"Baby Care &gt;&gt; Baby &amp; Kids Gifts &gt;&gt; Stickers &gt;...</td>\n",
       "      <td>STIE7VAYDKQZEBSD</td>\n",
       "      <td>1299.0</td>\n",
       "      <td>999.0</td>\n",
       "      <td>1000.0</td>\n",
       "      <td>False</td>\n",
       "      <td>Buy Elite Collection Medium Acrylic Sticker fo...</td>\n",
       "      <td>No rating available</td>\n",
       "      <td>No rating available</td>\n",
       "      <td>Elite Collection</td>\n",
       "      <td>{\"product_specification\"=&gt;[{\"key\"=&gt;\"Number of ...</td>\n",
       "    </tr>\n",
       "    <tr>\n",
       "      <th>19998</th>\n",
       "      <td>669e79b8fa5d9ae020841c0c97d5e935</td>\n",
       "      <td>2015-12-01 10:15:43 +0000</td>\n",
       "      <td>http://www.flipkart.com/elite-collection-mediu...</td>\n",
       "      <td>Elite Collection Medium Acrylic Sticker</td>\n",
       "      <td>[\"Baby Care &gt;&gt; Baby &amp; Kids Gifts &gt;&gt; Stickers &gt;...</td>\n",
       "      <td>STIE8YSVEPPCZ42Y</td>\n",
       "      <td>1499.0</td>\n",
       "      <td>1199.0</td>\n",
       "      <td>1200.0</td>\n",
       "      <td>False</td>\n",
       "      <td>Buy Elite Collection Medium Acrylic Sticker fo...</td>\n",
       "      <td>No rating available</td>\n",
       "      <td>No rating available</td>\n",
       "      <td>Elite Collection</td>\n",
       "      <td>{\"product_specification\"=&gt;[{\"key\"=&gt;\"Number of ...</td>\n",
       "    </tr>\n",
       "    <tr>\n",
       "      <th>19999</th>\n",
       "      <td>cb4fa87a874f715fff567f7b7b3be79c</td>\n",
       "      <td>2015-12-01 10:15:43 +0000</td>\n",
       "      <td>http://www.flipkart.com/elite-collection-mediu...</td>\n",
       "      <td>Elite Collection Medium Acrylic Sticker</td>\n",
       "      <td>[\"Baby Care &gt;&gt; Baby &amp; Kids Gifts &gt;&gt; Stickers &gt;...</td>\n",
       "      <td>STIE88KN9ZDSGZKY</td>\n",
       "      <td>1499.0</td>\n",
       "      <td>999.0</td>\n",
       "      <td>1000.0</td>\n",
       "      <td>False</td>\n",
       "      <td>Buy Elite Collection Medium Acrylic Sticker fo...</td>\n",
       "      <td>No rating available</td>\n",
       "      <td>No rating available</td>\n",
       "      <td>Elite Collection</td>\n",
       "      <td>{\"product_specification\"=&gt;[{\"key\"=&gt;\"Number of ...</td>\n",
       "    </tr>\n",
       "  </tbody>\n",
       "</table>\n",
       "<p>20000 rows × 15 columns</p>\n",
       "</div>"
      ],
      "text/plain": [
       "                                uniq_id            crawl_timestamp  \\\n",
       "0      c2d766ca982eca8304150849735ffef9  2016-03-25 22:59:23 +0000   \n",
       "1      7f7036a6d550aaa89d34c77bd39a5e48  2016-03-25 22:59:23 +0000   \n",
       "2      f449ec65dcbc041b6ae5e6a32717d01b  2016-03-25 22:59:23 +0000   \n",
       "3      0973b37acd0c664e3de26e97e5571454  2016-03-25 22:59:23 +0000   \n",
       "4      bc940ea42ee6bef5ac7cea3fb5cfbee7  2016-03-25 22:59:23 +0000   \n",
       "...                                 ...                        ...   \n",
       "19995  7179d2f6c4ad50a17d014ca1d2815156  2015-12-01 10:15:43 +0000   \n",
       "19996  71ac419198359d37b8fe5e3fffdfee09  2015-12-01 10:15:43 +0000   \n",
       "19997  93e9d343837400ce0d7980874ece471c  2015-12-01 10:15:43 +0000   \n",
       "19998  669e79b8fa5d9ae020841c0c97d5e935  2015-12-01 10:15:43 +0000   \n",
       "19999  cb4fa87a874f715fff567f7b7b3be79c  2015-12-01 10:15:43 +0000   \n",
       "\n",
       "                                             product_url  \\\n",
       "0      http://www.flipkart.com/alisha-solid-women-s-c...   \n",
       "1      http://www.flipkart.com/fabhomedecor-fabric-do...   \n",
       "2      http://www.flipkart.com/aw-bellies/p/itmeh4grg...   \n",
       "3      http://www.flipkart.com/alisha-solid-women-s-c...   \n",
       "4      http://www.flipkart.com/sicons-all-purpose-arn...   \n",
       "...                                                  ...   \n",
       "19995  http://www.flipkart.com/walldesign-small-vinyl...   \n",
       "19996  http://www.flipkart.com/wallmantra-large-vinyl...   \n",
       "19997  http://www.flipkart.com/elite-collection-mediu...   \n",
       "19998  http://www.flipkart.com/elite-collection-mediu...   \n",
       "19999  http://www.flipkart.com/elite-collection-mediu...   \n",
       "\n",
       "                                  product_name  \\\n",
       "0          Alisha Solid Women's Cycling Shorts   \n",
       "1          FabHomeDecor Fabric Double Sofa Bed   \n",
       "2                                   AW Bellies   \n",
       "3          Alisha Solid Women's Cycling Shorts   \n",
       "4        Sicons All Purpose Arnica Dog Shampoo   \n",
       "...                                        ...   \n",
       "19995           WallDesign Small Vinyl Sticker   \n",
       "19996  Wallmantra Large Vinyl Stickers Sticker   \n",
       "19997  Elite Collection Medium Acrylic Sticker   \n",
       "19998  Elite Collection Medium Acrylic Sticker   \n",
       "19999  Elite Collection Medium Acrylic Sticker   \n",
       "\n",
       "                                   product_category_tree               pid  \\\n",
       "0      [\"Clothing >> Women's Clothing >> Lingerie, Sl...  SRTEH2FF9KEDEFGF   \n",
       "1      [\"Furniture >> Living Room Furniture >> Sofa B...  SBEEH3QGU7MFYJFY   \n",
       "2      [\"Footwear >> Women's Footwear >> Ballerinas >...  SHOEH4GRSUBJGZXE   \n",
       "3      [\"Clothing >> Women's Clothing >> Lingerie, Sl...  SRTEH2F6HUZMQ6SJ   \n",
       "4      [\"Pet Supplies >> Grooming >> Skin & Coat Care...  PSOEH3ZYDMSYARJ5   \n",
       "...                                                  ...               ...   \n",
       "19995  [\"Baby Care >> Baby & Kids Gifts >> Stickers >...  STIE7KFJAKSTDY9G   \n",
       "19996  [\"Baby Care >> Baby & Kids Gifts >> Stickers >...  STIE9F5URNQGJCGH   \n",
       "19997  [\"Baby Care >> Baby & Kids Gifts >> Stickers >...  STIE7VAYDKQZEBSD   \n",
       "19998  [\"Baby Care >> Baby & Kids Gifts >> Stickers >...  STIE8YSVEPPCZ42Y   \n",
       "19999  [\"Baby Care >> Baby & Kids Gifts >> Stickers >...  STIE88KN9ZDSGZKY   \n",
       "\n",
       "       retail_price  discounted_price  discounted_price.1  \\\n",
       "0             999.0             379.0               380.0   \n",
       "1           32157.0           22646.0             22647.0   \n",
       "2             999.0             499.0               500.0   \n",
       "3             699.0             267.0               268.0   \n",
       "4             220.0             210.0               211.0   \n",
       "...             ...               ...                 ...   \n",
       "19995        1500.0             730.0               731.0   \n",
       "19996        1429.0            1143.0              1144.0   \n",
       "19997        1299.0             999.0              1000.0   \n",
       "19998        1499.0            1199.0              1200.0   \n",
       "19999        1499.0             999.0              1000.0   \n",
       "\n",
       "       is_FK_Advantage_product  \\\n",
       "0                        False   \n",
       "1                        False   \n",
       "2                        False   \n",
       "3                        False   \n",
       "4                        False   \n",
       "...                        ...   \n",
       "19995                    False   \n",
       "19996                    False   \n",
       "19997                    False   \n",
       "19998                    False   \n",
       "19999                    False   \n",
       "\n",
       "                                             description       product_rating  \\\n",
       "0      Key Features of Alisha Solid Women's Cycling S...  No rating available   \n",
       "1      FabHomeDecor Fabric Double Sofa Bed (Finish Co...  No rating available   \n",
       "2      Key Features of AW Bellies Sandals Wedges Heel...  No rating available   \n",
       "3      Key Features of Alisha Solid Women's Cycling S...  No rating available   \n",
       "4      Specifications of Sicons All Purpose Arnica Do...  No rating available   \n",
       "...                                                  ...                  ...   \n",
       "19995  Buy WallDesign Small Vinyl Sticker for Rs.730 ...  No rating available   \n",
       "19996  Buy Wallmantra Large Vinyl Stickers Sticker fo...  No rating available   \n",
       "19997  Buy Elite Collection Medium Acrylic Sticker fo...  No rating available   \n",
       "19998  Buy Elite Collection Medium Acrylic Sticker fo...  No rating available   \n",
       "19999  Buy Elite Collection Medium Acrylic Sticker fo...  No rating available   \n",
       "\n",
       "            overall_rating             brand  \\\n",
       "0      No rating available            Alisha   \n",
       "1      No rating available      FabHomeDecor   \n",
       "2      No rating available                AW   \n",
       "3      No rating available            Alisha   \n",
       "4      No rating available            Sicons   \n",
       "...                    ...               ...   \n",
       "19995  No rating available        WallDesign   \n",
       "19996  No rating available        Wallmantra   \n",
       "19997  No rating available  Elite Collection   \n",
       "19998  No rating available  Elite Collection   \n",
       "19999  No rating available  Elite Collection   \n",
       "\n",
       "                                  product_specifications  \n",
       "0      {\"product_specification\"=>[{\"key\"=>\"Number of ...  \n",
       "1      {\"product_specification\"=>[{\"key\"=>\"Installati...  \n",
       "2      {\"product_specification\"=>[{\"key\"=>\"Ideal For\"...  \n",
       "3      {\"product_specification\"=>[{\"key\"=>\"Number of ...  \n",
       "4      {\"product_specification\"=>[{\"key\"=>\"Pet Type\",...  \n",
       "...                                                  ...  \n",
       "19995  {\"product_specification\"=>[{\"key\"=>\"Number of ...  \n",
       "19996  {\"product_specification\"=>[{\"key\"=>\"Number of ...  \n",
       "19997  {\"product_specification\"=>[{\"key\"=>\"Number of ...  \n",
       "19998  {\"product_specification\"=>[{\"key\"=>\"Number of ...  \n",
       "19999  {\"product_specification\"=>[{\"key\"=>\"Number of ...  \n",
       "\n",
       "[20000 rows x 15 columns]"
      ]
     },
     "execution_count": 2,
     "metadata": {},
     "output_type": "execute_result"
    }
   ],
   "source": [
    "ds=pd.read_csv('flipkart_com-ecommerce_sample.csv')\n",
    "ds"
   ]
  },
  {
   "cell_type": "code",
   "execution_count": 3,
   "id": "e042ff01",
   "metadata": {},
   "outputs": [
    {
     "name": "stdout",
     "output_type": "stream",
     "text": [
      "<class 'pandas.core.frame.DataFrame'>\n",
      "RangeIndex: 20000 entries, 0 to 19999\n",
      "Data columns (total 15 columns):\n",
      " #   Column                   Non-Null Count  Dtype  \n",
      "---  ------                   --------------  -----  \n",
      " 0   uniq_id                  20000 non-null  object \n",
      " 1   crawl_timestamp          20000 non-null  object \n",
      " 2   product_url              20000 non-null  object \n",
      " 3   product_name             20000 non-null  object \n",
      " 4   product_category_tree    20000 non-null  object \n",
      " 5   pid                      20000 non-null  object \n",
      " 6   retail_price             19922 non-null  float64\n",
      " 7   discounted_price         19922 non-null  float64\n",
      " 8   discounted_price.1       19922 non-null  float64\n",
      " 9   is_FK_Advantage_product  20000 non-null  bool   \n",
      " 10  description              19998 non-null  object \n",
      " 11  product_rating           20000 non-null  object \n",
      " 12  overall_rating           20000 non-null  object \n",
      " 13  brand                    14136 non-null  object \n",
      " 14  product_specifications   19986 non-null  object \n",
      "dtypes: bool(1), float64(3), object(11)\n",
      "memory usage: 2.2+ MB\n"
     ]
    }
   ],
   "source": [
    "ds.info()"
   ]
  },
  {
   "cell_type": "code",
   "execution_count": 4,
   "id": "59701598",
   "metadata": {},
   "outputs": [
    {
     "data": {
      "text/plain": [
       "(20000, 15)"
      ]
     },
     "execution_count": 4,
     "metadata": {},
     "output_type": "execute_result"
    }
   ],
   "source": [
    "ds.shape"
   ]
  },
  {
   "cell_type": "code",
   "execution_count": 5,
   "id": "4a2aff3e",
   "metadata": {},
   "outputs": [
    {
     "data": {
      "text/plain": [
       "Index(['uniq_id', 'crawl_timestamp', 'product_url', 'product_name',\n",
       "       'product_category_tree', 'pid', 'retail_price', 'discounted_price',\n",
       "       'discounted_price.1', 'is_FK_Advantage_product', 'description',\n",
       "       'product_rating', 'overall_rating', 'brand', 'product_specifications'],\n",
       "      dtype='object')"
      ]
     },
     "execution_count": 5,
     "metadata": {},
     "output_type": "execute_result"
    }
   ],
   "source": [
    "ds.columns"
   ]
  },
  {
   "cell_type": "code",
   "execution_count": 6,
   "id": "5c1dc3d5",
   "metadata": {},
   "outputs": [
    {
     "data": {
      "text/plain": [
       "uniq_id                       0\n",
       "crawl_timestamp               0\n",
       "product_url                   0\n",
       "product_name                  0\n",
       "product_category_tree         0\n",
       "pid                           0\n",
       "retail_price                 78\n",
       "discounted_price             78\n",
       "discounted_price.1           78\n",
       "is_FK_Advantage_product       0\n",
       "description                   2\n",
       "product_rating                0\n",
       "overall_rating                0\n",
       "brand                      5864\n",
       "product_specifications       14\n",
       "dtype: int64"
      ]
     },
     "execution_count": 6,
     "metadata": {},
     "output_type": "execute_result"
    }
   ],
   "source": [
    "ds.isnull().sum()"
   ]
  },
  {
   "cell_type": "code",
   "execution_count": 7,
   "id": "b0238f89",
   "metadata": {},
   "outputs": [
    {
     "data": {
      "text/plain": [
       "<AxesSubplot:>"
      ]
     },
     "execution_count": 7,
     "metadata": {},
     "output_type": "execute_result"
    },
    {
     "data": {
      "image/png": "[encoded data removed]",
      "text/plain": [
       "<Figure size 576x288 with 2 Axes>"
      ]
     },
     "metadata": {
      "needs_background": "light"
     },
     "output_type": "display_data"
    }
   ],
   "source": [
    "plt.figure(figsize =(8,4))\n",
    "sns.heatmap(ds.isnull(),yticklabels=False,cmap='viridis',cbar=True)"
   ]
  },
  {
   "cell_type": "markdown",
   "id": "a6b97150",
   "metadata": {},
   "source": [
    "The Brand column has lots of null values."
   ]
  },
  {
   "cell_type": "code",
   "execution_count": 8,
   "id": "333c0452",
   "metadata": {},
   "outputs": [
    {
     "data": {
      "text/plain": [
       "False    20000\n",
       "dtype: int64"
      ]
     },
     "execution_count": 8,
     "metadata": {},
     "output_type": "execute_result"
    }
   ],
   "source": [
    "ds.duplicated().value_counts()"
   ]
  },
  {
   "cell_type": "code",
   "execution_count": 9,
   "id": "69fa95bc",
   "metadata": {},
   "outputs": [
    {
     "data": {
      "text/plain": [
       "0       2016-03-25 22:59:23+00:00\n",
       "1       2016-03-25 22:59:23+00:00\n",
       "2       2016-03-25 22:59:23+00:00\n",
       "3       2016-03-25 22:59:23+00:00\n",
       "4       2016-03-25 22:59:23+00:00\n",
       "                   ...           \n",
       "19995   2015-12-01 10:15:43+00:00\n",
       "19996   2015-12-01 10:15:43+00:00\n",
       "19997   2015-12-01 10:15:43+00:00\n",
       "19998   2015-12-01 10:15:43+00:00\n",
       "19999   2015-12-01 10:15:43+00:00\n",
       "Name: crawl_timestamp, Length: 20000, dtype: datetime64[ns, UTC]"
      ]
     },
     "execution_count": 9,
     "metadata": {},
     "output_type": "execute_result"
    }
   ],
   "source": [
    "ds['crawl_timestamp']=pd.to_datetime(ds['crawl_timestamp'])\n",
    "ds['crawl_timestamp']"
   ]
  },
  {
   "cell_type": "code",
   "execution_count": 10,
   "id": "7d063935",
   "metadata": {},
   "outputs": [
    {
     "data": {
      "text/plain": [
       "0        2016\n",
       "1        2016\n",
       "2        2016\n",
       "3        2016\n",
       "4        2016\n",
       "         ... \n",
       "19995    2015\n",
       "19996    2015\n",
       "19997    2015\n",
       "19998    2015\n",
       "19999    2015\n",
       "Name: crawl_year, Length: 20000, dtype: int64"
      ]
     },
     "execution_count": 10,
     "metadata": {},
     "output_type": "execute_result"
    }
   ],
   "source": [
    "ds['crawl_year']=ds['crawl_timestamp'].apply(lambda x : x.year)\n",
    "ds['crawl_year']"
   ]
  },
  {
   "cell_type": "code",
   "execution_count": 11,
   "id": "cd88de50",
   "metadata": {},
   "outputs": [
    {
     "data": {
      "text/plain": [
       "0         3\n",
       "1         3\n",
       "2         3\n",
       "3         3\n",
       "4         3\n",
       "         ..\n",
       "19995    12\n",
       "19996    12\n",
       "19997    12\n",
       "19998    12\n",
       "19999    12\n",
       "Name: Month, Length: 20000, dtype: int64"
      ]
     },
     "execution_count": 11,
     "metadata": {},
     "output_type": "execute_result"
    }
   ],
   "source": [
    "ds['Month']=ds['crawl_timestamp'].apply(lambda x : x.month)\n",
    "ds['Month']"
   ]
  },
  {
   "cell_type": "code",
   "execution_count": 12,
   "id": "36b840fd",
   "metadata": {},
   "outputs": [
    {
     "data": {
      "text/plain": [
       "Text(0, 0.5, 'Sales')"
      ]
     },
     "execution_count": 12,
     "metadata": {},
     "output_type": "execute_result"
    },
    {
     "data": {
      "text/plain": [
       "<Figure size 10800x720 with 0 Axes>"
      ]
     },
     "metadata": {},
     "output_type": "display_data"
    },
    {
     "data": {
      "image/png": "[encoded data removed]",
      "text/plain": [
       "<Figure size 432x288 with 1 Axes>"
      ]
     },
     "metadata": {
      "needs_background": "light"
     },
     "output_type": "display_data"
    }
   ],
   "source": [
    "#sales by months\n",
    "plt.figure(figsize=(150,10))\n",
    "temp=ds.groupby(by='Month',axis=0).count().plot(kind='barh',legend=False)\n",
    "plt.ylabel('Sales')"
   ]
  },
  {
   "cell_type": "code",
   "execution_count": 13,
   "id": "2bbcaef1",
   "metadata": {},
   "outputs": [
    {
     "data": {
      "text/plain": [
       "Text(0, 0.5, 'Sales')"
      ]
     },
     "execution_count": 13,
     "metadata": {},
     "output_type": "execute_result"
    },
    {
     "data": {
      "image/png": "[encoded data removed]",
      "text/plain": [
       "<Figure size 432x288 with 1 Axes>"
      ]
     },
     "metadata": {
      "needs_background": "light"
     },
     "output_type": "display_data"
    }
   ],
   "source": [
    "#sales by year\n",
    "ds.groupby(by='crawl_year',axis=0).count().plot(kind='barh',legend=False)\n",
    "plt.ylabel('Sales')"
   ]
  },
  {
   "cell_type": "code",
   "execution_count": 14,
   "id": "c366de29",
   "metadata": {},
   "outputs": [
    {
     "data": {
      "text/plain": [
       "(array([   0., 1000., 2000., 3000., 4000., 5000., 6000., 7000.]),\n",
       " [Text(0, 0, ''),\n",
       "  Text(0, 0, ''),\n",
       "  Text(0, 0, ''),\n",
       "  Text(0, 0, ''),\n",
       "  Text(0, 0, ''),\n",
       "  Text(0, 0, ''),\n",
       "  Text(0, 0, ''),\n",
       "  Text(0, 0, '')])"
      ]
     },
     "execution_count": 14,
     "metadata": {},
     "output_type": "execute_result"
    },
    {
     "data": {
      "image/png": "[encoded data removed]",
      "text/plain": [
       "<Figure size 360x360 with 1 Axes>"
      ]
     },
     "metadata": {
      "needs_background": "light"
     },
     "output_type": "display_data"
    }
   ],
   "source": [
    "#finding the main category product and which main category product has maximum sale\n",
    "ds['main_category']=ds['product_category_tree'].apply(lambda x :x.split('>>')[0][2:len(x.split('>>')[0])-1])\n",
    "plt.figure(figsize=(5,5))\n",
    "ds['main_category'].value_counts()[:25].sort_values(ascending=False).plot(kind='barh')\n",
    "plt.yticks(fontsize=10)\n",
    "plt.xticks(fontsize=10)"
   ]
  },
  {
   "cell_type": "markdown",
   "id": "4ee104de",
   "metadata": {},
   "source": [
    "Most of the customer prefer getting Clothes from Flipkart."
   ]
  },
  {
   "cell_type": "code",
   "execution_count": 15,
   "id": "387a3f5a",
   "metadata": {},
   "outputs": [
    {
     "data": {
      "text/plain": [
       "Clothing                      6198\n",
       "Jewellery                     3531\n",
       "Footwear                      1227\n",
       "Mobiles & Accessories         1099\n",
       "Automotive                    1012\n",
       "Home Decor & Festive Needs     929\n",
       "Beauty and Personal Care       710\n",
       "Home Furnishing                700\n",
       "Kitchen & Dining               647\n",
       "Computers                      578\n",
       "Name: main_category, dtype: int64"
      ]
     },
     "execution_count": 15,
     "metadata": {},
     "output_type": "execute_result"
    }
   ],
   "source": [
    "ds['main_category'].value_counts()[:10].sort_values(ascending=False)"
   ]
  },
  {
   "cell_type": "code",
   "execution_count": 16,
   "id": "6dd84b1c",
   "metadata": {},
   "outputs": [],
   "source": [
    "def secondary_category(value):\n",
    "    try:\n",
    "        return value.split('>>')[1][1:len(value.split('>>')[1])-1]\n",
    "    except IndexError:\n",
    "        return 'None' \n",
    "def tertiary_category(value):\n",
    "    try:\n",
    "        return value.split('>>')[2][1:len(value.split('>>')[2])-1]\n",
    "    except IndexError:\n",
    "        return 'None'\n",
    "def quaternary_category(value):\n",
    "    try:\n",
    "        return value.split('>>')[3][1:len(value.split('>>')[3])-1]\n",
    "    except IndexError:\n",
    "        return 'None'\n",
    "    \n",
    "ds['secondary']=ds['product_category_tree'].apply(secondary_category)\n",
    "ds['tertiary']=ds['product_category_tree'].apply(tertiary_category)\n",
    "ds['quaternary']=ds['product_category_tree'].apply(quaternary_category)    "
   ]
  },
  {
   "cell_type": "code",
   "execution_count": 17,
   "id": "cbb5b9e1",
   "metadata": {},
   "outputs": [
    {
     "data": {
      "text/plain": [
       "Women's Clothing                3901\n",
       "Men's Clothing                  1773\n",
       "Necklaces & Chains              1606\n",
       "Accessories & Spare parts        925\n",
       "Tablet Accessories               801\n",
       "Women's Footwear                 781\n",
       "Bangles, Bracelets & Armlets     724\n",
       "Rings\"                           710\n",
       "Wrist Watches                    523\n",
       "Kids' Clothing                   520\n",
       "Name: secondary, dtype: int64"
      ]
     },
     "execution_count": 17,
     "metadata": {},
     "output_type": "execute_result"
    }
   ],
   "source": [
    "ds['secondary'].value_counts()[:10].sort_values(ascending=False)"
   ]
  },
  {
   "cell_type": "code",
   "execution_count": 18,
   "id": "2380c768",
   "metadata": {},
   "outputs": [
    {
     "data": {
      "text/plain": [
       "<AxesSubplot:>"
      ]
     },
     "execution_count": 18,
     "metadata": {},
     "output_type": "execute_result"
    },
    {
     "data": {
      "image/png": "[encoded data removed]",
      "text/plain": [
       "<Figure size 360x360 with 1 Axes>"
      ]
     },
     "metadata": {
      "needs_background": "light"
     },
     "output_type": "display_data"
    }
   ],
   "source": [
    "plt.figure(figsize=(5,5))\n",
    "ds['secondary'].value_counts()[:20].sort_values(ascending=False).plot(kind='barh')"
   ]
  },
  {
   "cell_type": "markdown",
   "id": "33f5e975",
   "metadata": {},
   "source": [
    "Ladies prefer more shopping on Flipkart compared to mens."
   ]
  },
  {
   "cell_type": "code",
   "execution_count": 19,
   "id": "1bd67558",
   "metadata": {},
   "outputs": [
    {
     "data": {
      "text/plain": [
       "Western Wear                  1981\n",
       "Necklaces\"                    1567\n",
       "None                          1457\n",
       "Lingerie, Sleep & Swimwear    1208\n",
       "T-Shirts                       903\n",
       "Cases & Covers                 796\n",
       "Car Interior & Exterior        677\n",
       "Ethnic Wear                    485\n",
       "Casual Shoes                   454\n",
       "Bangles\"                       430\n",
       "Name: tertiary, dtype: int64"
      ]
     },
     "execution_count": 19,
     "metadata": {},
     "output_type": "execute_result"
    }
   ],
   "source": [
    "ds['tertiary'].value_counts()[:10].sort_values(ascending=False)"
   ]
  },
  {
   "cell_type": "code",
   "execution_count": 20,
   "id": "3ef599c1",
   "metadata": {},
   "outputs": [
    {
     "data": {
      "text/plain": [
       "<AxesSubplot:>"
      ]
     },
     "execution_count": 20,
     "metadata": {},
     "output_type": "execute_result"
    },
    {
     "data": {
      "image/png": "[encoded data removed]",
      "text/plain": [
       "<Figure size 360x360 with 1 Axes>"
      ]
     },
     "metadata": {
      "needs_background": "light"
     },
     "output_type": "display_data"
    }
   ],
   "source": [
    "plt.figure(figsize=(5,5))\n",
    "ds['tertiary'].value_counts()[:20].plot(kind='barh')"
   ]
  },
  {
   "cell_type": "markdown",
   "id": "f36eb2b6",
   "metadata": {},
   "source": [
    "Ladies buy western clothes on Flipkart"
   ]
  },
  {
   "cell_type": "code",
   "execution_count": 21,
   "id": "5c2bfd1b",
   "metadata": {},
   "outputs": [
    {
     "data": {
      "text/plain": [
       "None                            5876\n",
       "Shirts, Tops & Tunics           1249\n",
       "Bras                            1036\n",
       "Car Interior                     659\n",
       "Dresses & Skirts                 620\n",
       "Combos                           375\n",
       "Plant Containers & Sets          333\n",
       "TheLostPuppy Cases & Covers\"     229\n",
       "Leggings & Jeggings              209\n",
       "Kurtas & Kurtis                  202\n",
       "Name: quaternary, dtype: int64"
      ]
     },
     "execution_count": 21,
     "metadata": {},
     "output_type": "execute_result"
    }
   ],
   "source": [
    "ds['quaternary'].value_counts()[:10].sort_values(ascending=False)"
   ]
  },
  {
   "cell_type": "code",
   "execution_count": 22,
   "id": "28c0f612",
   "metadata": {},
   "outputs": [
    {
     "data": {
      "text/plain": [
       "<AxesSubplot:>"
      ]
     },
     "execution_count": 22,
     "metadata": {},
     "output_type": "execute_result"
    },
    {
     "data": {
      "image/png": "[encoded data removed]",
      "text/plain": [
       "<Figure size 360x360 with 1 Axes>"
      ]
     },
     "metadata": {
      "needs_background": "light"
     },
     "output_type": "display_data"
    }
   ],
   "source": [
    "plt.figure(figsize=(5,5))\n",
    "ds['quaternary'].value_counts()[:20].plot(kind='barh')"
   ]
  },
  {
   "cell_type": "code",
   "execution_count": 23,
   "id": "2c0b3af3",
   "metadata": {},
   "outputs": [
    {
     "data": {
      "text/plain": [
       "571230.0"
      ]
     },
     "execution_count": 23,
     "metadata": {},
     "output_type": "execute_result"
    }
   ],
   "source": [
    "#max() function returns the item with the highest value\n",
    "ds['discounted_price'].max()"
   ]
  },
  {
   "cell_type": "code",
   "execution_count": 24,
   "id": "eca956b5",
   "metadata": {},
   "outputs": [
    {
     "data": {
      "text/plain": [
       "571231.0"
      ]
     },
     "execution_count": 24,
     "metadata": {},
     "output_type": "execute_result"
    }
   ],
   "source": [
    "ds['discounted_price.1'].max()"
   ]
  },
  {
   "cell_type": "code",
   "execution_count": 25,
   "id": "f7e34ce7",
   "metadata": {},
   "outputs": [],
   "source": [
    "# average discounted percentages and count of each product.\n",
    "ds['discounted_percentage']=round((ds['retail_price']-ds['discounted_price'])/ds['retail_price']*100,1)"
   ]
  },
  {
   "cell_type": "code",
   "execution_count": 26,
   "id": "a601f2ad",
   "metadata": {},
   "outputs": [
    {
     "data": {
      "text/html": [
       "<div>\n",
       "<style scoped>\n",
       "    .dataframe tbody tr th:only-of-type {\n",
       "        vertical-align: middle;\n",
       "    }\n",
       "\n",
       "    .dataframe tbody tr th {\n",
       "        vertical-align: top;\n",
       "    }\n",
       "\n",
       "    .dataframe thead th {\n",
       "        text-align: right;\n",
       "    }\n",
       "</style>\n",
       "<table border=\"1\" class=\"dataframe\">\n",
       "  <thead>\n",
       "    <tr style=\"text-align: right;\">\n",
       "      <th></th>\n",
       "      <th>discounted_percentage_mean</th>\n",
       "      <th>main_category_count</th>\n",
       "    </tr>\n",
       "    <tr>\n",
       "      <th>main_category</th>\n",
       "      <th></th>\n",
       "      <th></th>\n",
       "    </tr>\n",
       "  </thead>\n",
       "  <tbody>\n",
       "    <tr>\n",
       "      <th>883 Police Full Sleeve Solid Men's Jacket\"</th>\n",
       "      <td>15.0</td>\n",
       "      <td>1</td>\n",
       "    </tr>\n",
       "    <tr>\n",
       "      <th>ABEEZ Boys, Men, Girls (Black, Pack of 1)\"</th>\n",
       "      <td>27.6</td>\n",
       "      <td>1</td>\n",
       "    </tr>\n",
       "    <tr>\n",
       "      <th>ANAND ARCHIES Girls Flats\"</th>\n",
       "      <td>10.0</td>\n",
       "      <td>2</td>\n",
       "    </tr>\n",
       "    <tr>\n",
       "      <th>ANAND ARCHIES Girls Wedges\"</th>\n",
       "      <td>0.0</td>\n",
       "      <td>1</td>\n",
       "    </tr>\n",
       "    <tr>\n",
       "      <th>ANASAZI Casual 3/4 Sleeve Solid Women's Top\"</th>\n",
       "      <td>0.0</td>\n",
       "      <td>1</td>\n",
       "    </tr>\n",
       "    <tr>\n",
       "      <th>...</th>\n",
       "      <td>...</td>\n",
       "      <td>...</td>\n",
       "    </tr>\n",
       "    <tr>\n",
       "      <th>run of luck Solid Women's Round Neck Dark Blue T...\"</th>\n",
       "      <td>0.0</td>\n",
       "      <td>1</td>\n",
       "    </tr>\n",
       "    <tr>\n",
       "      <th>soie Fashion Women's Full Coverage Bra\"</th>\n",
       "      <td>10.0</td>\n",
       "      <td>1</td>\n",
       "    </tr>\n",
       "    <tr>\n",
       "      <th>soie Fashion Women's Sports Bra\"</th>\n",
       "      <td>10.0</td>\n",
       "      <td>1</td>\n",
       "    </tr>\n",
       "    <tr>\n",
       "      <th>tadd Men's, Women's Ankle Length Socks\"</th>\n",
       "      <td>60.1</td>\n",
       "      <td>1</td>\n",
       "    </tr>\n",
       "    <tr>\n",
       "      <th>xy decor Cotton Sofa Cover (white Pack of 6)\"</th>\n",
       "      <td>64.7</td>\n",
       "      <td>1</td>\n",
       "    </tr>\n",
       "  </tbody>\n",
       "</table>\n",
       "<p>266 rows × 2 columns</p>\n",
       "</div>"
      ],
      "text/plain": [
       "                                                    discounted_percentage_mean  \\\n",
       "main_category                                                                    \n",
       "883 Police Full Sleeve Solid Men's Jacket\"                                15.0   \n",
       "ABEEZ Boys, Men, Girls (Black, Pack of 1)\"                                27.6   \n",
       "ANAND ARCHIES Girls Flats\"                                                10.0   \n",
       "ANAND ARCHIES Girls Wedges\"                                                0.0   \n",
       "ANASAZI Casual 3/4 Sleeve Solid Women's Top\"                               0.0   \n",
       "...                                                                        ...   \n",
       "run of luck Solid Women's Round Neck Dark Blue ...                         0.0   \n",
       "soie Fashion Women's Full Coverage Bra\"                                   10.0   \n",
       "soie Fashion Women's Sports Bra\"                                          10.0   \n",
       "tadd Men's, Women's Ankle Length Socks\"                                   60.1   \n",
       "xy decor Cotton Sofa Cover (white Pack of 6)\"                             64.7   \n",
       "\n",
       "                                                    main_category_count  \n",
       "main_category                                                            \n",
       "883 Police Full Sleeve Solid Men's Jacket\"                            1  \n",
       "ABEEZ Boys, Men, Girls (Black, Pack of 1)\"                            1  \n",
       "ANAND ARCHIES Girls Flats\"                                            2  \n",
       "ANAND ARCHIES Girls Wedges\"                                           1  \n",
       "ANASAZI Casual 3/4 Sleeve Solid Women's Top\"                          1  \n",
       "...                                                                 ...  \n",
       "run of luck Solid Women's Round Neck Dark Blue ...                    1  \n",
       "soie Fashion Women's Full Coverage Bra\"                               1  \n",
       "soie Fashion Women's Sports Bra\"                                      1  \n",
       "tadd Men's, Women's Ankle Length Socks\"                               1  \n",
       "xy decor Cotton Sofa Cover (white Pack of 6)\"                         1  \n",
       "\n",
       "[266 rows x 2 columns]"
      ]
     },
     "execution_count": 26,
     "metadata": {},
     "output_type": "execute_result"
    }
   ],
   "source": [
    "main_category_discount_percentage=ds.groupby('main_category').agg({'discounted_percentage':[np.mean],'main_category':['count']})\n",
    "main_category_discount_percentage.columns=['_' .join(column) for column in main_category_discount_percentage.columns]\n",
    "main_category_discount_percentage"
   ]
  },
  {
   "cell_type": "code",
   "execution_count": 27,
   "id": "471bbaea",
   "metadata": {},
   "outputs": [
    {
     "data": {
      "text/html": [
       "<div>\n",
       "<style scoped>\n",
       "    .dataframe tbody tr th:only-of-type {\n",
       "        vertical-align: middle;\n",
       "    }\n",
       "\n",
       "    .dataframe tbody tr th {\n",
       "        vertical-align: top;\n",
       "    }\n",
       "\n",
       "    .dataframe thead th {\n",
       "        text-align: right;\n",
       "    }\n",
       "</style>\n",
       "<table border=\"1\" class=\"dataframe\">\n",
       "  <thead>\n",
       "    <tr style=\"text-align: right;\">\n",
       "      <th></th>\n",
       "      <th>discounted_percentage_mean</th>\n",
       "      <th>main_category_count</th>\n",
       "    </tr>\n",
       "    <tr>\n",
       "      <th>main_category</th>\n",
       "      <th></th>\n",
       "      <th></th>\n",
       "    </tr>\n",
       "  </thead>\n",
       "  <tbody>\n",
       "    <tr>\n",
       "      <th>Clothing</th>\n",
       "      <td>45.071301</td>\n",
       "      <td>6198</td>\n",
       "    </tr>\n",
       "    <tr>\n",
       "      <th>Jewellery</th>\n",
       "      <td>40.891198</td>\n",
       "      <td>3531</td>\n",
       "    </tr>\n",
       "    <tr>\n",
       "      <th>Footwear</th>\n",
       "      <td>36.267184</td>\n",
       "      <td>1227</td>\n",
       "    </tr>\n",
       "    <tr>\n",
       "      <th>Mobiles &amp; Accessories</th>\n",
       "      <td>51.001185</td>\n",
       "      <td>1099</td>\n",
       "    </tr>\n",
       "    <tr>\n",
       "      <th>Automotive</th>\n",
       "      <td>54.649901</td>\n",
       "      <td>1012</td>\n",
       "    </tr>\n",
       "    <tr>\n",
       "      <th>Home Decor &amp; Festive Needs</th>\n",
       "      <td>36.647573</td>\n",
       "      <td>929</td>\n",
       "    </tr>\n",
       "    <tr>\n",
       "      <th>Beauty and Personal Care</th>\n",
       "      <td>19.831735</td>\n",
       "      <td>710</td>\n",
       "    </tr>\n",
       "    <tr>\n",
       "      <th>Home Furnishing</th>\n",
       "      <td>37.218143</td>\n",
       "      <td>700</td>\n",
       "    </tr>\n",
       "    <tr>\n",
       "      <th>Kitchen &amp; Dining</th>\n",
       "      <td>43.769612</td>\n",
       "      <td>647</td>\n",
       "    </tr>\n",
       "    <tr>\n",
       "      <th>Computers</th>\n",
       "      <td>43.464223</td>\n",
       "      <td>578</td>\n",
       "    </tr>\n",
       "    <tr>\n",
       "      <th>Watches</th>\n",
       "      <td>20.169318</td>\n",
       "      <td>530</td>\n",
       "    </tr>\n",
       "    <tr>\n",
       "      <th>Baby Care</th>\n",
       "      <td>34.717672</td>\n",
       "      <td>483</td>\n",
       "    </tr>\n",
       "    <tr>\n",
       "      <th>Tools &amp; Hardware</th>\n",
       "      <td>29.327132</td>\n",
       "      <td>391</td>\n",
       "    </tr>\n",
       "    <tr>\n",
       "      <th>Toys &amp; School Supplies</th>\n",
       "      <td>27.742857</td>\n",
       "      <td>330</td>\n",
       "    </tr>\n",
       "    <tr>\n",
       "      <th>Pens &amp; Stationery</th>\n",
       "      <td>27.653355</td>\n",
       "      <td>313</td>\n",
       "    </tr>\n",
       "    <tr>\n",
       "      <th>Bags, Wallets &amp; Belts</th>\n",
       "      <td>48.271591</td>\n",
       "      <td>265</td>\n",
       "    </tr>\n",
       "    <tr>\n",
       "      <th>Furniture</th>\n",
       "      <td>29.717778</td>\n",
       "      <td>180</td>\n",
       "    </tr>\n",
       "    <tr>\n",
       "      <th>Sports &amp; Fitness</th>\n",
       "      <td>25.278916</td>\n",
       "      <td>166</td>\n",
       "    </tr>\n",
       "    <tr>\n",
       "      <th>Cameras &amp; Accessories</th>\n",
       "      <td>19.436111</td>\n",
       "      <td>82</td>\n",
       "    </tr>\n",
       "    <tr>\n",
       "      <th>Home Improvement</th>\n",
       "      <td>21.258228</td>\n",
       "      <td>81</td>\n",
       "    </tr>\n",
       "    <tr>\n",
       "      <th>Health &amp; Personal Care Appliances</th>\n",
       "      <td>33.825581</td>\n",
       "      <td>43</td>\n",
       "    </tr>\n",
       "    <tr>\n",
       "      <th>Gaming</th>\n",
       "      <td>48.542857</td>\n",
       "      <td>35</td>\n",
       "    </tr>\n",
       "    <tr>\n",
       "      <th>Sunglasses</th>\n",
       "      <td>59.568571</td>\n",
       "      <td>35</td>\n",
       "    </tr>\n",
       "    <tr>\n",
       "      <th>Pet Supplies</th>\n",
       "      <td>25.665517</td>\n",
       "      <td>30</td>\n",
       "    </tr>\n",
       "    <tr>\n",
       "      <th>Home &amp; Kitchen</th>\n",
       "      <td>32.579167</td>\n",
       "      <td>24</td>\n",
       "    </tr>\n",
       "    <tr>\n",
       "      <th>Home Entertainment</th>\n",
       "      <td>34.863158</td>\n",
       "      <td>19</td>\n",
       "    </tr>\n",
       "    <tr>\n",
       "      <th>eBooks</th>\n",
       "      <td>8.313333</td>\n",
       "      <td>15</td>\n",
       "    </tr>\n",
       "  </tbody>\n",
       "</table>\n",
       "</div>"
      ],
      "text/plain": [
       "                                   discounted_percentage_mean  \\\n",
       "main_category                                                   \n",
       "Clothing                                            45.071301   \n",
       "Jewellery                                           40.891198   \n",
       "Footwear                                            36.267184   \n",
       "Mobiles & Accessories                               51.001185   \n",
       "Automotive                                          54.649901   \n",
       "Home Decor & Festive Needs                          36.647573   \n",
       "Beauty and Personal Care                            19.831735   \n",
       "Home Furnishing                                     37.218143   \n",
       "Kitchen & Dining                                    43.769612   \n",
       "Computers                                           43.464223   \n",
       "Watches                                             20.169318   \n",
       "Baby Care                                           34.717672   \n",
       "Tools & Hardware                                    29.327132   \n",
       "Toys & School Supplies                              27.742857   \n",
       "Pens & Stationery                                   27.653355   \n",
       "Bags, Wallets & Belts                               48.271591   \n",
       "Furniture                                           29.717778   \n",
       "Sports & Fitness                                    25.278916   \n",
       "Cameras & Accessories                               19.436111   \n",
       "Home Improvement                                    21.258228   \n",
       "Health & Personal Care Appliances                   33.825581   \n",
       "Gaming                                              48.542857   \n",
       "Sunglasses                                          59.568571   \n",
       "Pet Supplies                                        25.665517   \n",
       "Home & Kitchen                                      32.579167   \n",
       "Home Entertainment                                  34.863158   \n",
       "eBooks                                               8.313333   \n",
       "\n",
       "                                   main_category_count  \n",
       "main_category                                           \n",
       "Clothing                                          6198  \n",
       "Jewellery                                         3531  \n",
       "Footwear                                          1227  \n",
       "Mobiles & Accessories                             1099  \n",
       "Automotive                                        1012  \n",
       "Home Decor & Festive Needs                         929  \n",
       "Beauty and Personal Care                           710  \n",
       "Home Furnishing                                    700  \n",
       "Kitchen & Dining                                   647  \n",
       "Computers                                          578  \n",
       "Watches                                            530  \n",
       "Baby Care                                          483  \n",
       "Tools & Hardware                                   391  \n",
       "Toys & School Supplies                             330  \n",
       "Pens & Stationery                                  313  \n",
       "Bags, Wallets & Belts                              265  \n",
       "Furniture                                          180  \n",
       "Sports & Fitness                                   166  \n",
       "Cameras & Accessories                               82  \n",
       "Home Improvement                                    81  \n",
       "Health & Personal Care Appliances                   43  \n",
       "Gaming                                              35  \n",
       "Sunglasses                                          35  \n",
       "Pet Supplies                                        30  \n",
       "Home & Kitchen                                      24  \n",
       "Home Entertainment                                  19  \n",
       "eBooks                                              15  "
      ]
     },
     "execution_count": 27,
     "metadata": {},
     "output_type": "execute_result"
    }
   ],
   "source": [
    "main_category_discount_percentage[main_category_discount_percentage['main_category_count']>10].sort_values(by='main_category_count',ascending=False)"
   ]
  },
  {
   "cell_type": "code",
   "execution_count": 28,
   "id": "4f6f3c35",
   "metadata": {},
   "outputs": [
    {
     "data": {
      "text/plain": [
       "<AxesSubplot:ylabel='main_category'>"
      ]
     },
     "execution_count": 28,
     "metadata": {},
     "output_type": "execute_result"
    },
    {
     "data": {
      "image/png": "[encoded data removed]",
      "text/plain": [
       "<Figure size 432x432 with 1 Axes>"
      ]
     },
     "metadata": {
      "needs_background": "light"
     },
     "output_type": "display_data"
    }
   ],
   "source": [
    "plt.figure(figsize=(6,6))\n",
    "main_category_discount_percentage[main_category_discount_percentage['main_category_count']>50].sort_values(by='discounted_percentage_mean',ascending=False)['discounted_percentage_mean'].plot(kind='barh',legend=False)"
   ]
  },
  {
   "cell_type": "code",
   "execution_count": 29,
   "id": "1520606c",
   "metadata": {},
   "outputs": [
    {
     "data": {
      "text/html": [
       "<div>\n",
       "<style scoped>\n",
       "    .dataframe tbody tr th:only-of-type {\n",
       "        vertical-align: middle;\n",
       "    }\n",
       "\n",
       "    .dataframe tbody tr th {\n",
       "        vertical-align: top;\n",
       "    }\n",
       "\n",
       "    .dataframe thead th {\n",
       "        text-align: right;\n",
       "    }\n",
       "</style>\n",
       "<table border=\"1\" class=\"dataframe\">\n",
       "  <thead>\n",
       "    <tr style=\"text-align: right;\">\n",
       "      <th></th>\n",
       "      <th>discounted_percentage_mean</th>\n",
       "      <th>secondary_count</th>\n",
       "    </tr>\n",
       "    <tr>\n",
       "      <th>secondary</th>\n",
       "      <th></th>\n",
       "      <th></th>\n",
       "    </tr>\n",
       "  </thead>\n",
       "  <tbody>\n",
       "    <tr>\n",
       "      <th>AAO+ Aviator Sunglasses\"</th>\n",
       "      <td>70.100000</td>\n",
       "      <td>3</td>\n",
       "    </tr>\n",
       "    <tr>\n",
       "      <th>ABCD Small Bean Bag  With Foam Filling (Black)\"</th>\n",
       "      <td>60.900000</td>\n",
       "      <td>1</td>\n",
       "    </tr>\n",
       "    <tr>\n",
       "      <th>Academic Texts</th>\n",
       "      <td>8.333333</td>\n",
       "      <td>9</td>\n",
       "    </tr>\n",
       "    <tr>\n",
       "      <th>Accessories</th>\n",
       "      <td>42.653982</td>\n",
       "      <td>114</td>\n",
       "    </tr>\n",
       "    <tr>\n",
       "      <th>Accessories &amp; Spare parts</th>\n",
       "      <td>55.370314</td>\n",
       "      <td>925</td>\n",
       "    </tr>\n",
       "    <tr>\n",
       "      <th>...</th>\n",
       "      <td>...</td>\n",
       "      <td>...</td>\n",
       "    </tr>\n",
       "    <tr>\n",
       "      <th>Zyaden Oval Sunglasses\"</th>\n",
       "      <td>60.100000</td>\n",
       "      <td>2</td>\n",
       "    </tr>\n",
       "    <tr>\n",
       "      <th>barbarik Wayfarer, Aviator Sunglasses\"</th>\n",
       "      <td>88.000000</td>\n",
       "      <td>1</td>\n",
       "    </tr>\n",
       "    <tr>\n",
       "      <th>fourgee Clothing</th>\n",
       "      <td>72.000000</td>\n",
       "      <td>1</td>\n",
       "    </tr>\n",
       "    <tr>\n",
       "      <th>piftif Clothing</th>\n",
       "      <td>53.800000</td>\n",
       "      <td>1</td>\n",
       "    </tr>\n",
       "    <tr>\n",
       "      <th>sovam Home Furnishing</th>\n",
       "      <td>59.400000</td>\n",
       "      <td>1</td>\n",
       "    </tr>\n",
       "  </tbody>\n",
       "</table>\n",
       "<p>223 rows × 2 columns</p>\n",
       "</div>"
      ],
      "text/plain": [
       "                                                 discounted_percentage_mean  \\\n",
       "secondary                                                                     \n",
       "AAO+ Aviator Sunglasses\"                                          70.100000   \n",
       "ABCD Small Bean Bag  With Foam Filling (Black)\"                   60.900000   \n",
       "Academic Texts                                                     8.333333   \n",
       "Accessories                                                       42.653982   \n",
       "Accessories & Spare parts                                         55.370314   \n",
       "...                                                                     ...   \n",
       "Zyaden Oval Sunglasses\"                                           60.100000   \n",
       "barbarik Wayfarer, Aviator Sunglasses\"                            88.000000   \n",
       "fourgee Clothing                                                  72.000000   \n",
       "piftif Clothing                                                   53.800000   \n",
       "sovam Home Furnishing                                             59.400000   \n",
       "\n",
       "                                                 secondary_count  \n",
       "secondary                                                         \n",
       "AAO+ Aviator Sunglasses\"                                       3  \n",
       "ABCD Small Bean Bag  With Foam Filling (Black)\"                1  \n",
       "Academic Texts                                                 9  \n",
       "Accessories                                                  114  \n",
       "Accessories & Spare parts                                    925  \n",
       "...                                                          ...  \n",
       "Zyaden Oval Sunglasses\"                                        2  \n",
       "barbarik Wayfarer, Aviator Sunglasses\"                         1  \n",
       "fourgee Clothing                                               1  \n",
       "piftif Clothing                                                1  \n",
       "sovam Home Furnishing                                          1  \n",
       "\n",
       "[223 rows x 2 columns]"
      ]
     },
     "execution_count": 29,
     "metadata": {},
     "output_type": "execute_result"
    }
   ],
   "source": [
    "secondary_discounted_percentage=ds.groupby('secondary').agg({'discounted_percentage':[np.mean],'secondary':['count']})\n",
    "secondary_discounted_percentage.columns=['_'.join (column) for column in secondary_discounted_percentage.columns]\n",
    "secondary_discounted_percentage"
   ]
  },
  {
   "cell_type": "code",
   "execution_count": 30,
   "id": "22dcc9c0",
   "metadata": {},
   "outputs": [
    {
     "data": {
      "text/html": [
       "<div>\n",
       "<style scoped>\n",
       "    .dataframe tbody tr th:only-of-type {\n",
       "        vertical-align: middle;\n",
       "    }\n",
       "\n",
       "    .dataframe tbody tr th {\n",
       "        vertical-align: top;\n",
       "    }\n",
       "\n",
       "    .dataframe thead th {\n",
       "        text-align: right;\n",
       "    }\n",
       "</style>\n",
       "<table border=\"1\" class=\"dataframe\">\n",
       "  <thead>\n",
       "    <tr style=\"text-align: right;\">\n",
       "      <th></th>\n",
       "      <th>discounted_percentage_mean</th>\n",
       "      <th>secondary_count</th>\n",
       "    </tr>\n",
       "    <tr>\n",
       "      <th>secondary</th>\n",
       "      <th></th>\n",
       "      <th></th>\n",
       "    </tr>\n",
       "  </thead>\n",
       "  <tbody>\n",
       "    <tr>\n",
       "      <th>Coffee Mugs</th>\n",
       "      <td>57.274172</td>\n",
       "      <td>302</td>\n",
       "    </tr>\n",
       "    <tr>\n",
       "      <th>Accessories &amp; Spare parts</th>\n",
       "      <td>55.370314</td>\n",
       "      <td>925</td>\n",
       "    </tr>\n",
       "    <tr>\n",
       "      <th>Mobile Accessories</th>\n",
       "      <td>54.318421</td>\n",
       "      <td>304</td>\n",
       "    </tr>\n",
       "    <tr>\n",
       "      <th>Bangles, Bracelets &amp; Armlets</th>\n",
       "      <td>52.560111</td>\n",
       "      <td>724</td>\n",
       "    </tr>\n",
       "    <tr>\n",
       "      <th>Women's Clothing</th>\n",
       "      <td>50.500619</td>\n",
       "      <td>3901</td>\n",
       "    </tr>\n",
       "    <tr>\n",
       "      <th>Tablet Accessories</th>\n",
       "      <td>49.673217</td>\n",
       "      <td>801</td>\n",
       "    </tr>\n",
       "    <tr>\n",
       "      <th>Laptop Accessories</th>\n",
       "      <td>49.320354</td>\n",
       "      <td>343</td>\n",
       "    </tr>\n",
       "    <tr>\n",
       "      <th>Bags</th>\n",
       "      <td>46.878351</td>\n",
       "      <td>195</td>\n",
       "    </tr>\n",
       "    <tr>\n",
       "      <th>Wall Decor &amp; Clocks</th>\n",
       "      <td>44.833213</td>\n",
       "      <td>278</td>\n",
       "    </tr>\n",
       "    <tr>\n",
       "      <th>Necklaces &amp; Chains</th>\n",
       "      <td>42.721611</td>\n",
       "      <td>1606</td>\n",
       "    </tr>\n",
       "    <tr>\n",
       "      <th>Accessories</th>\n",
       "      <td>42.653982</td>\n",
       "      <td>114</td>\n",
       "    </tr>\n",
       "    <tr>\n",
       "      <th>Baby &amp; Kids Gifts</th>\n",
       "      <td>39.424631</td>\n",
       "      <td>203</td>\n",
       "    </tr>\n",
       "    <tr>\n",
       "      <th>Jewellery Sets\"</th>\n",
       "      <td>39.223602</td>\n",
       "      <td>161</td>\n",
       "    </tr>\n",
       "    <tr>\n",
       "      <th>None</th>\n",
       "      <td>38.019385</td>\n",
       "      <td>328</td>\n",
       "    </tr>\n",
       "    <tr>\n",
       "      <th>Women's Footwear</th>\n",
       "      <td>37.906667</td>\n",
       "      <td>781</td>\n",
       "    </tr>\n",
       "    <tr>\n",
       "      <th>Bed Linen</th>\n",
       "      <td>37.249770</td>\n",
       "      <td>217</td>\n",
       "    </tr>\n",
       "    <tr>\n",
       "      <th>Kids' Clothing</th>\n",
       "      <td>36.518077</td>\n",
       "      <td>520</td>\n",
       "    </tr>\n",
       "    <tr>\n",
       "      <th>Kids' &amp; Infant Footwear</th>\n",
       "      <td>36.254286</td>\n",
       "      <td>105</td>\n",
       "    </tr>\n",
       "    <tr>\n",
       "      <th>Men's Clothing</th>\n",
       "      <td>35.715754</td>\n",
       "      <td>1773</td>\n",
       "    </tr>\n",
       "    <tr>\n",
       "      <th>Network Components</th>\n",
       "      <td>34.835323</td>\n",
       "      <td>202</td>\n",
       "    </tr>\n",
       "    <tr>\n",
       "      <th>Curtains &amp; Accessories</th>\n",
       "      <td>33.916667</td>\n",
       "      <td>162</td>\n",
       "    </tr>\n",
       "    <tr>\n",
       "      <th>Men's Footwear</th>\n",
       "      <td>32.458112</td>\n",
       "      <td>340</td>\n",
       "    </tr>\n",
       "    <tr>\n",
       "      <th>Showpieces</th>\n",
       "      <td>32.377483</td>\n",
       "      <td>303</td>\n",
       "    </tr>\n",
       "    <tr>\n",
       "      <th>Infant Wear</th>\n",
       "      <td>31.562903</td>\n",
       "      <td>187</td>\n",
       "    </tr>\n",
       "    <tr>\n",
       "      <th>Office Supplies</th>\n",
       "      <td>29.947857</td>\n",
       "      <td>140</td>\n",
       "    </tr>\n",
       "    <tr>\n",
       "      <th>School Supplies</th>\n",
       "      <td>29.571572</td>\n",
       "      <td>300</td>\n",
       "    </tr>\n",
       "    <tr>\n",
       "      <th>Tools</th>\n",
       "      <td>29.165664</td>\n",
       "      <td>403</td>\n",
       "    </tr>\n",
       "    <tr>\n",
       "      <th>Bath Linen</th>\n",
       "      <td>28.292381</td>\n",
       "      <td>105</td>\n",
       "    </tr>\n",
       "    <tr>\n",
       "      <th>Table Decor &amp; Handicrafts</th>\n",
       "      <td>27.042667</td>\n",
       "      <td>150</td>\n",
       "    </tr>\n",
       "    <tr>\n",
       "      <th>Rings\"</th>\n",
       "      <td>24.945275</td>\n",
       "      <td>710</td>\n",
       "    </tr>\n",
       "    <tr>\n",
       "      <th>Cookware</th>\n",
       "      <td>23.360784</td>\n",
       "      <td>102</td>\n",
       "    </tr>\n",
       "    <tr>\n",
       "      <th>Wrist Watches</th>\n",
       "      <td>19.988868</td>\n",
       "      <td>523</td>\n",
       "    </tr>\n",
       "    <tr>\n",
       "      <th>Fragrances</th>\n",
       "      <td>15.731714</td>\n",
       "      <td>391</td>\n",
       "    </tr>\n",
       "  </tbody>\n",
       "</table>\n",
       "</div>"
      ],
      "text/plain": [
       "                              discounted_percentage_mean  secondary_count\n",
       "secondary                                                                \n",
       "Coffee Mugs                                    57.274172              302\n",
       "Accessories & Spare parts                      55.370314              925\n",
       "Mobile Accessories                             54.318421              304\n",
       "Bangles, Bracelets & Armlets                   52.560111              724\n",
       "Women's Clothing                               50.500619             3901\n",
       "Tablet Accessories                             49.673217              801\n",
       "Laptop Accessories                             49.320354              343\n",
       "Bags                                           46.878351              195\n",
       "Wall Decor & Clocks                            44.833213              278\n",
       "Necklaces & Chains                             42.721611             1606\n",
       "Accessories                                    42.653982              114\n",
       "Baby & Kids Gifts                              39.424631              203\n",
       "Jewellery Sets\"                                39.223602              161\n",
       "None                                           38.019385              328\n",
       "Women's Footwear                               37.906667              781\n",
       "Bed Linen                                      37.249770              217\n",
       "Kids' Clothing                                 36.518077              520\n",
       "Kids' & Infant Footwear                        36.254286              105\n",
       "Men's Clothing                                 35.715754             1773\n",
       "Network Components                             34.835323              202\n",
       "Curtains & Accessories                         33.916667              162\n",
       "Men's Footwear                                 32.458112              340\n",
       "Showpieces                                     32.377483              303\n",
       "Infant Wear                                    31.562903              187\n",
       "Office Supplies                                29.947857              140\n",
       "School Supplies                                29.571572              300\n",
       "Tools                                          29.165664              403\n",
       "Bath Linen                                     28.292381              105\n",
       "Table Decor & Handicrafts                      27.042667              150\n",
       "Rings\"                                         24.945275              710\n",
       "Cookware                                       23.360784              102\n",
       "Wrist Watches                                  19.988868              523\n",
       "Fragrances                                     15.731714              391"
      ]
     },
     "execution_count": 30,
     "metadata": {},
     "output_type": "execute_result"
    }
   ],
   "source": [
    "secondary_discounted_percentage[secondary_discounted_percentage['secondary_count']>100].sort_values(by='discounted_percentage_mean',ascending=False)"
   ]
  },
  {
   "cell_type": "code",
   "execution_count": 31,
   "id": "4acf7ccb",
   "metadata": {},
   "outputs": [
    {
     "data": {
      "text/plain": [
       "<AxesSubplot:ylabel='secondary'>"
      ]
     },
     "execution_count": 31,
     "metadata": {},
     "output_type": "execute_result"
    },
    {
     "data": {
      "image/png": "[encoded data removed]",
      "text/plain": [
       "<Figure size 720x720 with 1 Axes>"
      ]
     },
     "metadata": {
      "needs_background": "light"
     },
     "output_type": "display_data"
    }
   ],
   "source": [
    "plt.figure(figsize=(10,10))\n",
    "plt.yticks(size=10)\n",
    "plt.xticks(size=10)\n",
    "secondary_discounted_percentage[secondary_discounted_percentage['secondary_count']>50].sort_values(by='discounted_percentage_mean',ascending=False)['discounted_percentage_mean'].plot(kind='barh')"
   ]
  },
  {
   "cell_type": "code",
   "execution_count": 32,
   "id": "a34b7f48",
   "metadata": {},
   "outputs": [
    {
     "data": {
      "text/html": [
       "<div>\n",
       "<style scoped>\n",
       "    .dataframe tbody tr th:only-of-type {\n",
       "        vertical-align: middle;\n",
       "    }\n",
       "\n",
       "    .dataframe tbody tr th {\n",
       "        vertical-align: top;\n",
       "    }\n",
       "\n",
       "    .dataframe thead th {\n",
       "        text-align: right;\n",
       "    }\n",
       "</style>\n",
       "<table border=\"1\" class=\"dataframe\">\n",
       "  <thead>\n",
       "    <tr style=\"text-align: right;\">\n",
       "      <th></th>\n",
       "      <th>discounted_percentage_mean</th>\n",
       "      <th>tertiary_count</th>\n",
       "    </tr>\n",
       "    <tr>\n",
       "      <th>tertiary</th>\n",
       "      <th></th>\n",
       "      <th></th>\n",
       "    </tr>\n",
       "  </thead>\n",
       "  <tbody>\n",
       "    <tr>\n",
       "      <th>3wish Wrist Watches\"</th>\n",
       "      <td>66.8</td>\n",
       "      <td>1</td>\n",
       "    </tr>\n",
       "    <tr>\n",
       "      <th>A Avon Wrist Watches\"</th>\n",
       "      <td>50.4</td>\n",
       "      <td>2</td>\n",
       "    </tr>\n",
       "    <tr>\n",
       "      <th>A R ENTERPRISES Musical Instruments &amp; Toys</th>\n",
       "      <td>70.1</td>\n",
       "      <td>1</td>\n",
       "    </tr>\n",
       "    <tr>\n",
       "      <th>ABCD XL Bean Bag  With Foam Filling (Orange)\"</th>\n",
       "      <td>70.5</td>\n",
       "      <td>1</td>\n",
       "    </tr>\n",
       "    <tr>\n",
       "      <th>AKUP Coffee Mugs</th>\n",
       "      <td>48.2</td>\n",
       "      <td>22</td>\n",
       "    </tr>\n",
       "    <tr>\n",
       "      <th>...</th>\n",
       "      <td>...</td>\n",
       "      <td>...</td>\n",
       "    </tr>\n",
       "    <tr>\n",
       "      <th>piftif Women's Sports Bra\"</th>\n",
       "      <td>53.8</td>\n",
       "      <td>1</td>\n",
       "    </tr>\n",
       "    <tr>\n",
       "      <th>posterchacha Coffee Mugs</th>\n",
       "      <td>12.5</td>\n",
       "      <td>1</td>\n",
       "    </tr>\n",
       "    <tr>\n",
       "      <th>sovam Checkered Cushions Cover (Pack of 5, 32 cm...\"</th>\n",
       "      <td>59.4</td>\n",
       "      <td>1</td>\n",
       "    </tr>\n",
       "    <tr>\n",
       "      <th>the jewelbox Cufflinks</th>\n",
       "      <td>70.0</td>\n",
       "      <td>1</td>\n",
       "    </tr>\n",
       "    <tr>\n",
       "      <th>walletsnbags Suspenders</th>\n",
       "      <td>41.7</td>\n",
       "      <td>1</td>\n",
       "    </tr>\n",
       "  </tbody>\n",
       "</table>\n",
       "<p>899 rows × 2 columns</p>\n",
       "</div>"
      ],
      "text/plain": [
       "                                                    discounted_percentage_mean  \\\n",
       "tertiary                                                                         \n",
       "3wish Wrist Watches\"                                                      66.8   \n",
       "A Avon Wrist Watches\"                                                     50.4   \n",
       "A R ENTERPRISES Musical Instruments & Toys                                70.1   \n",
       "ABCD XL Bean Bag  With Foam Filling (Orange)\"                             70.5   \n",
       "AKUP Coffee Mugs                                                          48.2   \n",
       "...                                                                        ...   \n",
       "piftif Women's Sports Bra\"                                                53.8   \n",
       "posterchacha Coffee Mugs                                                  12.5   \n",
       "sovam Checkered Cushions Cover (Pack of 5, 32 c...                        59.4   \n",
       "the jewelbox Cufflinks                                                    70.0   \n",
       "walletsnbags Suspenders                                                   41.7   \n",
       "\n",
       "                                                    tertiary_count  \n",
       "tertiary                                                            \n",
       "3wish Wrist Watches\"                                             1  \n",
       "A Avon Wrist Watches\"                                            2  \n",
       "A R ENTERPRISES Musical Instruments & Toys                       1  \n",
       "ABCD XL Bean Bag  With Foam Filling (Orange)\"                    1  \n",
       "AKUP Coffee Mugs                                                22  \n",
       "...                                                            ...  \n",
       "piftif Women's Sports Bra\"                                       1  \n",
       "posterchacha Coffee Mugs                                         1  \n",
       "sovam Checkered Cushions Cover (Pack of 5, 32 c...               1  \n",
       "the jewelbox Cufflinks                                           1  \n",
       "walletsnbags Suspenders                                          1  \n",
       "\n",
       "[899 rows x 2 columns]"
      ]
     },
     "execution_count": 32,
     "metadata": {},
     "output_type": "execute_result"
    }
   ],
   "source": [
    "tertiary_discount_percentage=ds.groupby('tertiary').agg({'discounted_percentage':[np.mean],'tertiary':['count']})\n",
    "tertiary_discount_percentage.columns=['_'.join(column) for column in tertiary_discount_percentage.columns]\n",
    "tertiary_discount_percentage"
   ]
  },
  {
   "cell_type": "code",
   "execution_count": 33,
   "id": "612e6a47",
   "metadata": {},
   "outputs": [
    {
     "data": {
      "text/html": [
       "<div>\n",
       "<style scoped>\n",
       "    .dataframe tbody tr th:only-of-type {\n",
       "        vertical-align: middle;\n",
       "    }\n",
       "\n",
       "    .dataframe tbody tr th {\n",
       "        vertical-align: top;\n",
       "    }\n",
       "\n",
       "    .dataframe thead th {\n",
       "        text-align: right;\n",
       "    }\n",
       "</style>\n",
       "<table border=\"1\" class=\"dataframe\">\n",
       "  <thead>\n",
       "    <tr style=\"text-align: right;\">\n",
       "      <th></th>\n",
       "      <th>discounted_percentage_mean</th>\n",
       "      <th>tertiary_count</th>\n",
       "    </tr>\n",
       "    <tr>\n",
       "      <th>tertiary</th>\n",
       "      <th></th>\n",
       "      <th></th>\n",
       "    </tr>\n",
       "  </thead>\n",
       "  <tbody>\n",
       "    <tr>\n",
       "      <th>Car Interior &amp; Exterior</th>\n",
       "      <td>60.212741</td>\n",
       "      <td>677</td>\n",
       "    </tr>\n",
       "    <tr>\n",
       "      <th>Bangles\"</th>\n",
       "      <td>60.057809</td>\n",
       "      <td>430</td>\n",
       "    </tr>\n",
       "    <tr>\n",
       "      <th>Lingerie, Sleep &amp; Swimwear</th>\n",
       "      <td>59.606716</td>\n",
       "      <td>1208</td>\n",
       "    </tr>\n",
       "    <tr>\n",
       "      <th>Ethnic Wear</th>\n",
       "      <td>51.112810</td>\n",
       "      <td>485</td>\n",
       "    </tr>\n",
       "    <tr>\n",
       "      <th>Cases &amp; Covers</th>\n",
       "      <td>49.741058</td>\n",
       "      <td>796</td>\n",
       "    </tr>\n",
       "    <tr>\n",
       "      <th>Wall Decals &amp; Stickers</th>\n",
       "      <td>49.519835</td>\n",
       "      <td>122</td>\n",
       "    </tr>\n",
       "    <tr>\n",
       "      <th>Western Wear</th>\n",
       "      <td>46.082203</td>\n",
       "      <td>1981</td>\n",
       "    </tr>\n",
       "    <tr>\n",
       "      <th>USB Gadgets</th>\n",
       "      <td>45.507237</td>\n",
       "      <td>154</td>\n",
       "    </tr>\n",
       "    <tr>\n",
       "      <th>Necklaces\"</th>\n",
       "      <td>42.543918</td>\n",
       "      <td>1567</td>\n",
       "    </tr>\n",
       "    <tr>\n",
       "      <th>Brooches</th>\n",
       "      <td>42.492857</td>\n",
       "      <td>113</td>\n",
       "    </tr>\n",
       "    <tr>\n",
       "      <th>Spares &amp; Performance Parts</th>\n",
       "      <td>42.484685</td>\n",
       "      <td>111</td>\n",
       "    </tr>\n",
       "    <tr>\n",
       "      <th>Bracelets\"</th>\n",
       "      <td>41.830400</td>\n",
       "      <td>251</td>\n",
       "    </tr>\n",
       "    <tr>\n",
       "      <th>Girls Wear</th>\n",
       "      <td>40.346690</td>\n",
       "      <td>287</td>\n",
       "    </tr>\n",
       "    <tr>\n",
       "      <th>Stickers</th>\n",
       "      <td>39.879897</td>\n",
       "      <td>194</td>\n",
       "    </tr>\n",
       "    <tr>\n",
       "      <th>Wedges\"</th>\n",
       "      <td>39.681183</td>\n",
       "      <td>186</td>\n",
       "    </tr>\n",
       "    <tr>\n",
       "      <th>Winter &amp; Seasonal Wear</th>\n",
       "      <td>37.723556</td>\n",
       "      <td>225</td>\n",
       "    </tr>\n",
       "    <tr>\n",
       "      <th>Shirts</th>\n",
       "      <td>37.511538</td>\n",
       "      <td>234</td>\n",
       "    </tr>\n",
       "    <tr>\n",
       "      <th>Curtains\"</th>\n",
       "      <td>37.248855</td>\n",
       "      <td>131</td>\n",
       "    </tr>\n",
       "    <tr>\n",
       "      <th>T-Shirts</th>\n",
       "      <td>35.830233</td>\n",
       "      <td>903</td>\n",
       "    </tr>\n",
       "    <tr>\n",
       "      <th>Blankets, Quilts &amp; Dohars\"</th>\n",
       "      <td>34.769474</td>\n",
       "      <td>190</td>\n",
       "    </tr>\n",
       "    <tr>\n",
       "      <th>Routers</th>\n",
       "      <td>34.769192</td>\n",
       "      <td>199</td>\n",
       "    </tr>\n",
       "    <tr>\n",
       "      <th>Casual Shoes</th>\n",
       "      <td>33.753097</td>\n",
       "      <td>454</td>\n",
       "    </tr>\n",
       "    <tr>\n",
       "      <th>Boys Wear</th>\n",
       "      <td>33.361538</td>\n",
       "      <td>169</td>\n",
       "    </tr>\n",
       "    <tr>\n",
       "      <th>None</th>\n",
       "      <td>32.319890</td>\n",
       "      <td>1457</td>\n",
       "    </tr>\n",
       "    <tr>\n",
       "      <th>Ethnic</th>\n",
       "      <td>32.023392</td>\n",
       "      <td>172</td>\n",
       "    </tr>\n",
       "    <tr>\n",
       "      <th>Gardening Tools</th>\n",
       "      <td>30.651327</td>\n",
       "      <td>343</td>\n",
       "    </tr>\n",
       "    <tr>\n",
       "      <th>Geometry &amp; Pencil Boxes</th>\n",
       "      <td>27.717273</td>\n",
       "      <td>221</td>\n",
       "    </tr>\n",
       "    <tr>\n",
       "      <th>Showpieces</th>\n",
       "      <td>26.423214</td>\n",
       "      <td>112</td>\n",
       "    </tr>\n",
       "    <tr>\n",
       "      <th>Accessories &amp; Combo Sets</th>\n",
       "      <td>24.426667</td>\n",
       "      <td>135</td>\n",
       "    </tr>\n",
       "    <tr>\n",
       "      <th>Deodorants</th>\n",
       "      <td>15.781186</td>\n",
       "      <td>388</td>\n",
       "    </tr>\n",
       "  </tbody>\n",
       "</table>\n",
       "</div>"
      ],
      "text/plain": [
       "                            discounted_percentage_mean  tertiary_count\n",
       "tertiary                                                              \n",
       "Car Interior & Exterior                      60.212741             677\n",
       "Bangles\"                                     60.057809             430\n",
       "Lingerie, Sleep & Swimwear                   59.606716            1208\n",
       "Ethnic Wear                                  51.112810             485\n",
       "Cases & Covers                               49.741058             796\n",
       "Wall Decals & Stickers                       49.519835             122\n",
       "Western Wear                                 46.082203            1981\n",
       "USB Gadgets                                  45.507237             154\n",
       "Necklaces\"                                   42.543918            1567\n",
       "Brooches                                     42.492857             113\n",
       "Spares & Performance Parts                   42.484685             111\n",
       "Bracelets\"                                   41.830400             251\n",
       "Girls Wear                                   40.346690             287\n",
       "Stickers                                     39.879897             194\n",
       "Wedges\"                                      39.681183             186\n",
       "Winter & Seasonal Wear                       37.723556             225\n",
       "Shirts                                       37.511538             234\n",
       "Curtains\"                                    37.248855             131\n",
       "T-Shirts                                     35.830233             903\n",
       "Blankets, Quilts & Dohars\"                   34.769474             190\n",
       "Routers                                      34.769192             199\n",
       "Casual Shoes                                 33.753097             454\n",
       "Boys Wear                                    33.361538             169\n",
       "None                                         32.319890            1457\n",
       "Ethnic                                       32.023392             172\n",
       "Gardening Tools                              30.651327             343\n",
       "Geometry & Pencil Boxes                      27.717273             221\n",
       "Showpieces                                   26.423214             112\n",
       "Accessories & Combo Sets                     24.426667             135\n",
       "Deodorants                                   15.781186             388"
      ]
     },
     "execution_count": 33,
     "metadata": {},
     "output_type": "execute_result"
    }
   ],
   "source": [
    "tertiary_discount_percentage[tertiary_discount_percentage['tertiary_count']>100].sort_values(by='discounted_percentage_mean',ascending=False)"
   ]
  },
  {
   "cell_type": "code",
   "execution_count": 34,
   "id": "7db9fc52",
   "metadata": {},
   "outputs": [
    {
     "data": {
      "text/plain": [
       "(array([ 0,  1,  2,  3,  4,  5,  6,  7,  8,  9, 10, 11, 12, 13, 14, 15, 16,\n",
       "        17, 18, 19, 20, 21, 22, 23, 24, 25, 26, 27, 28, 29, 30, 31, 32, 33,\n",
       "        34, 35, 36, 37, 38, 39, 40, 41, 42, 43, 44, 45, 46, 47, 48, 49, 50,\n",
       "        51, 52, 53, 54, 55, 56, 57, 58]),\n",
       " [Text(0, 0, 'Prithish Coffee Mugs\"'),\n",
       "  Text(0, 1, 'Car Interior & Exterior'),\n",
       "  Text(0, 2, 'Bangles\"'),\n",
       "  Text(0, 3, 'Lingerie, Sleep & Swimwear'),\n",
       "  Text(0, 4, 'Rockmantra Coffee Mugs\"'),\n",
       "  Text(0, 5, 'Printland Coffee Mugs\"'),\n",
       "  Text(0, 6, 'Hand Bags'),\n",
       "  Text(0, 7, 'Ethnic Wear'),\n",
       "  Text(0, 8, 'Cushion Covers\"'),\n",
       "  Text(0, 9, 'Cases & Covers'),\n",
       "  Text(0, 10, 'Wall Decals & Stickers'),\n",
       "  Text(0, 11, 'Heels\"'),\n",
       "  Text(0, 12, 'Backpacks'),\n",
       "  Text(0, 13, 'Batteries'),\n",
       "  Text(0, 14, 'Western Wear'),\n",
       "  Text(0, 15, 'USB Gadgets'),\n",
       "  Text(0, 16, 'Fusion Wear'),\n",
       "  Text(0, 17, 'Clocks'),\n",
       "  Text(0, 18, 'Series Lights'),\n",
       "  Text(0, 19, 'Necklaces\"'),\n",
       "  Text(0, 20, 'Brooches'),\n",
       "  Text(0, 21, 'Spares & Performance Parts'),\n",
       "  Text(0, 22, 'Bracelets\"'),\n",
       "  Text(0, 23, 'Formal Shoes'),\n",
       "  Text(0, 24, 'Kitchen Implements'),\n",
       "  Text(0, 25, 'Inner Wear & Sleep Wear'),\n",
       "  Text(0, 26, 'Girls Wear'),\n",
       "  Text(0, 27, 'Stickers'),\n",
       "  Text(0, 28, 'Wedges\"'),\n",
       "  Text(0, 29, 'Winter & Seasonal Wear'),\n",
       "  Text(0, 30, 'Shirts'),\n",
       "  Text(0, 31, 'Curtains\"'),\n",
       "  Text(0, 32, 'Car Electronics & Accessories'),\n",
       "  Text(0, 33, 'Paintings'),\n",
       "  Text(0, 34, 'T-Shirts'),\n",
       "  Text(0, 35, \"Baby Boys' Clothes\"),\n",
       "  Text(0, 36, 'Jeans'),\n",
       "  Text(0, 37, 'Blankets, Quilts & Dohars\"'),\n",
       "  Text(0, 38, 'Routers'),\n",
       "  Text(0, 39, 'For Boys'),\n",
       "  Text(0, 40, 'Geometry, Pen & Pencil boxes'),\n",
       "  Text(0, 41, 'Casual Shoes'),\n",
       "  Text(0, 42, 'Boys Wear'),\n",
       "  Text(0, 43, 'None'),\n",
       "  Text(0, 44, 'Ethnic'),\n",
       "  Text(0, 45, 'Gardening Tools'),\n",
       "  Text(0, 46, 'Towels\"'),\n",
       "  Text(0, 47, 'Infants Wear'),\n",
       "  Text(0, 48, 'Geometry & Pencil Boxes'),\n",
       "  Text(0, 49, \"Baby Girls' Clothes\"),\n",
       "  Text(0, 50, 'Showpieces'),\n",
       "  Text(0, 51, 'Flats\"'),\n",
       "  Text(0, 52, 'Accessories & Combo Sets'),\n",
       "  Text(0, 53, 'Pots & Pans'),\n",
       "  Text(0, 54, 'Sofas & Sectionals\"'),\n",
       "  Text(0, 55, 'Lens Hoods'),\n",
       "  Text(0, 56, 'Deodorants'),\n",
       "  Text(0, 57, 'Maxima Wrist Watches\"'),\n",
       "  Text(0, 58, 'Sonata Wrist Watches\"')])"
      ]
     },
     "execution_count": 34,
     "metadata": {},
     "output_type": "execute_result"
    },
    {
     "data": {
      "image/png": "[encoded data removed]",
      "text/plain": [
       "<Figure size 720x720 with 1 Axes>"
      ]
     },
     "metadata": {
      "needs_background": "light"
     },
     "output_type": "display_data"
    }
   ],
   "source": [
    "plt.figure(figsize=(10,10))\n",
    "tertiary_discount_percentage[tertiary_discount_percentage['tertiary_count']>50].sort_values(by='discounted_percentage_mean',ascending=False)['discounted_percentage_mean'].plot(kind='barh')\n",
    "plt.xticks(size=10)\n",
    "plt.yticks(size=10)"
   ]
  },
  {
   "cell_type": "code",
   "execution_count": 35,
   "id": "0ca3165a",
   "metadata": {},
   "outputs": [
    {
     "data": {
      "text/html": [
       "<div>\n",
       "<style scoped>\n",
       "    .dataframe tbody tr th:only-of-type {\n",
       "        vertical-align: middle;\n",
       "    }\n",
       "\n",
       "    .dataframe tbody tr th {\n",
       "        vertical-align: top;\n",
       "    }\n",
       "\n",
       "    .dataframe thead th {\n",
       "        text-align: right;\n",
       "    }\n",
       "</style>\n",
       "<table border=\"1\" class=\"dataframe\">\n",
       "  <thead>\n",
       "    <tr style=\"text-align: right;\">\n",
       "      <th></th>\n",
       "      <th>discounted_percentage_mean</th>\n",
       "      <th>quaternary_count</th>\n",
       "    </tr>\n",
       "    <tr>\n",
       "      <th>quaternary</th>\n",
       "      <th></th>\n",
       "      <th></th>\n",
       "    </tr>\n",
       "  </thead>\n",
       "  <tbody>\n",
       "    <tr>\n",
       "      <th>24 Carat Formal Shoes\"</th>\n",
       "      <td>63.400000</td>\n",
       "      <td>1</td>\n",
       "    </tr>\n",
       "    <tr>\n",
       "      <th>3kFactory Baby Shower Caps</th>\n",
       "      <td>56.400000</td>\n",
       "      <td>1</td>\n",
       "    </tr>\n",
       "    <tr>\n",
       "      <th>4D Batteries\"</th>\n",
       "      <td>54.560000</td>\n",
       "      <td>5</td>\n",
       "    </tr>\n",
       "    <tr>\n",
       "      <th>4thneed T-Shirts\"</th>\n",
       "      <td>45.900000</td>\n",
       "      <td>1</td>\n",
       "    </tr>\n",
       "    <tr>\n",
       "      <th>99 Moves Casual Shoes\"</th>\n",
       "      <td>44.700000</td>\n",
       "      <td>1</td>\n",
       "    </tr>\n",
       "    <tr>\n",
       "      <th>...</th>\n",
       "      <td>...</td>\n",
       "      <td>...</td>\n",
       "    </tr>\n",
       "    <tr>\n",
       "      <th>wallskart Wallpapers</th>\n",
       "      <td>50.100000</td>\n",
       "      <td>2</td>\n",
       "    </tr>\n",
       "    <tr>\n",
       "      <th>womaniya Alloy Bracelet\"</th>\n",
       "      <td>40.000000</td>\n",
       "      <td>1</td>\n",
       "    </tr>\n",
       "    <tr>\n",
       "      <th>www.thepaper.asia Geometry &amp; Pencil Boxes\"</th>\n",
       "      <td>24.366667</td>\n",
       "      <td>6</td>\n",
       "    </tr>\n",
       "    <tr>\n",
       "      <th>zaidis Cables</th>\n",
       "      <td>14.000000</td>\n",
       "      <td>1</td>\n",
       "    </tr>\n",
       "    <tr>\n",
       "      <th>Tarkan Umbrellas</th>\n",
       "      <td>82.500000</td>\n",
       "      <td>1</td>\n",
       "    </tr>\n",
       "  </tbody>\n",
       "</table>\n",
       "<p>2371 rows × 2 columns</p>\n",
       "</div>"
      ],
      "text/plain": [
       "                                            discounted_percentage_mean  \\\n",
       "quaternary                                                               \n",
       "24 Carat Formal Shoes\"                                       63.400000   \n",
       "3kFactory Baby Shower Caps                                   56.400000   \n",
       "4D Batteries\"                                                54.560000   \n",
       "4thneed T-Shirts\"                                            45.900000   \n",
       "99 Moves Casual Shoes\"                                       44.700000   \n",
       "...                                                                ...   \n",
       "wallskart Wallpapers                                         50.100000   \n",
       "womaniya Alloy Bracelet\"                                     40.000000   \n",
       "www.thepaper.asia Geometry & Pencil Boxes\"                   24.366667   \n",
       "zaidis Cables                                                14.000000   \n",
       " Tarkan Umbrellas                                            82.500000   \n",
       "\n",
       "                                            quaternary_count  \n",
       "quaternary                                                    \n",
       "24 Carat Formal Shoes\"                                     1  \n",
       "3kFactory Baby Shower Caps                                 1  \n",
       "4D Batteries\"                                              5  \n",
       "4thneed T-Shirts\"                                          1  \n",
       "99 Moves Casual Shoes\"                                     1  \n",
       "...                                                      ...  \n",
       "wallskart Wallpapers                                       2  \n",
       "womaniya Alloy Bracelet\"                                   1  \n",
       "www.thepaper.asia Geometry & Pencil Boxes\"                 6  \n",
       "zaidis Cables                                              1  \n",
       " Tarkan Umbrellas                                          1  \n",
       "\n",
       "[2371 rows x 2 columns]"
      ]
     },
     "execution_count": 35,
     "metadata": {},
     "output_type": "execute_result"
    }
   ],
   "source": [
    "quaternary_discount_percentage=ds.groupby('quaternary').agg({'discounted_percentage':[np.mean],'quaternary':['count']})\n",
    "quaternary_discount_percentage.columns=['_'.join(column) for column in quaternary_discount_percentage.columns]\n",
    "quaternary_discount_percentage"
   ]
  },
  {
   "cell_type": "code",
   "execution_count": 36,
   "id": "449a9d46",
   "metadata": {},
   "outputs": [
    {
     "data": {
      "text/html": [
       "<div>\n",
       "<style scoped>\n",
       "    .dataframe tbody tr th:only-of-type {\n",
       "        vertical-align: middle;\n",
       "    }\n",
       "\n",
       "    .dataframe tbody tr th {\n",
       "        vertical-align: top;\n",
       "    }\n",
       "\n",
       "    .dataframe thead th {\n",
       "        text-align: right;\n",
       "    }\n",
       "</style>\n",
       "<table border=\"1\" class=\"dataframe\">\n",
       "  <thead>\n",
       "    <tr style=\"text-align: right;\">\n",
       "      <th></th>\n",
       "      <th>discounted_percentage_mean</th>\n",
       "      <th>quaternary_count</th>\n",
       "    </tr>\n",
       "    <tr>\n",
       "      <th>quaternary</th>\n",
       "      <th></th>\n",
       "      <th></th>\n",
       "    </tr>\n",
       "  </thead>\n",
       "  <tbody>\n",
       "    <tr>\n",
       "      <th>TheLostPuppy Cases &amp; Covers\"</th>\n",
       "      <td>70.651528</td>\n",
       "      <td>229</td>\n",
       "    </tr>\n",
       "    <tr>\n",
       "      <th>Bras</th>\n",
       "      <td>61.739034</td>\n",
       "      <td>1036</td>\n",
       "    </tr>\n",
       "    <tr>\n",
       "      <th>Car Interior</th>\n",
       "      <td>60.784170</td>\n",
       "      <td>659</td>\n",
       "    </tr>\n",
       "    <tr>\n",
       "      <th>Kurtas &amp; Kurtis</th>\n",
       "      <td>54.601485</td>\n",
       "      <td>202</td>\n",
       "    </tr>\n",
       "    <tr>\n",
       "      <th>Leggings &amp; Jeggings</th>\n",
       "      <td>51.212019</td>\n",
       "      <td>209</td>\n",
       "    </tr>\n",
       "    <tr>\n",
       "      <th>Fabric</th>\n",
       "      <td>47.405738</td>\n",
       "      <td>122</td>\n",
       "    </tr>\n",
       "    <tr>\n",
       "      <th>Shirts, Tops &amp; Tunics</th>\n",
       "      <td>45.196107</td>\n",
       "      <td>1249</td>\n",
       "    </tr>\n",
       "    <tr>\n",
       "      <th>Enthopia Cases &amp; Covers\"</th>\n",
       "      <td>43.826733</td>\n",
       "      <td>101</td>\n",
       "    </tr>\n",
       "    <tr>\n",
       "      <th>Dresses &amp; Skirts</th>\n",
       "      <td>42.472403</td>\n",
       "      <td>620</td>\n",
       "    </tr>\n",
       "    <tr>\n",
       "      <th>Casual &amp; Party Wear Shirts</th>\n",
       "      <td>41.167925</td>\n",
       "      <td>106</td>\n",
       "    </tr>\n",
       "    <tr>\n",
       "      <th>None</th>\n",
       "      <td>38.191148</td>\n",
       "      <td>5876</td>\n",
       "    </tr>\n",
       "    <tr>\n",
       "      <th>Boots\"</th>\n",
       "      <td>37.572034</td>\n",
       "      <td>118</td>\n",
       "    </tr>\n",
       "    <tr>\n",
       "      <th>Formal Shirts</th>\n",
       "      <td>34.483594</td>\n",
       "      <td>128</td>\n",
       "    </tr>\n",
       "    <tr>\n",
       "      <th>Plant Containers &amp; Sets</th>\n",
       "      <td>30.211550</td>\n",
       "      <td>333</td>\n",
       "    </tr>\n",
       "    <tr>\n",
       "      <th>Numero Uno T-Shirts\"</th>\n",
       "      <td>21.068148</td>\n",
       "      <td>135</td>\n",
       "    </tr>\n",
       "    <tr>\n",
       "      <th>Combos</th>\n",
       "      <td>15.742933</td>\n",
       "      <td>375</td>\n",
       "    </tr>\n",
       "    <tr>\n",
       "      <th>DailyObjects Cases &amp; Covers\"</th>\n",
       "      <td>15.700000</td>\n",
       "      <td>144</td>\n",
       "    </tr>\n",
       "  </tbody>\n",
       "</table>\n",
       "</div>"
      ],
      "text/plain": [
       "                              discounted_percentage_mean  quaternary_count\n",
       "quaternary                                                                \n",
       "TheLostPuppy Cases & Covers\"                   70.651528               229\n",
       "Bras                                           61.739034              1036\n",
       "Car Interior                                   60.784170               659\n",
       "Kurtas & Kurtis                                54.601485               202\n",
       "Leggings & Jeggings                            51.212019               209\n",
       "Fabric                                         47.405738               122\n",
       "Shirts, Tops & Tunics                          45.196107              1249\n",
       "Enthopia Cases & Covers\"                       43.826733               101\n",
       "Dresses & Skirts                               42.472403               620\n",
       "Casual & Party Wear Shirts                     41.167925               106\n",
       "None                                           38.191148              5876\n",
       "Boots\"                                         37.572034               118\n",
       "Formal Shirts                                  34.483594               128\n",
       "Plant Containers & Sets                        30.211550               333\n",
       "Numero Uno T-Shirts\"                           21.068148               135\n",
       "Combos                                         15.742933               375\n",
       "DailyObjects Cases & Covers\"                   15.700000               144"
      ]
     },
     "execution_count": 36,
     "metadata": {},
     "output_type": "execute_result"
    }
   ],
   "source": [
    "quaternary_discount_percentage[quaternary_discount_percentage['quaternary_count']>100].sort_values(by='discounted_percentage_mean',ascending=False)"
   ]
  },
  {
   "cell_type": "code",
   "execution_count": 37,
   "id": "d8632b6a",
   "metadata": {},
   "outputs": [
    {
     "data": {
      "text/plain": [
       "(array([ 0,  1,  2,  3,  4,  5,  6,  7,  8,  9, 10, 11, 12, 13, 14, 15, 16,\n",
       "        17, 18, 19, 20, 21, 22, 23, 24, 25, 26, 27, 28, 29, 30, 31, 32, 33,\n",
       "        34]),\n",
       " [Text(0, 0, 'TheLostPuppy Cases & Covers\"'),\n",
       "  Text(0, 1, 'Bras'),\n",
       "  Text(0, 2, 'Car Interior'),\n",
       "  Text(0, 3, 'Kurtas & Kurtis'),\n",
       "  Text(0, 4, 'Ethnic Wear'),\n",
       "  Text(0, 5, 'Leggings & Jeggings'),\n",
       "  Text(0, 6, 'WallDesign Stickers\"'),\n",
       "  Text(0, 7, 'DeStudio Wall Decals & Stickers\"'),\n",
       "  Text(0, 8, 'Fabric'),\n",
       "  Text(0, 9, 'Oviyon T-Shirts\"'),\n",
       "  Text(0, 10, 'Shirts, Tops & Tunics'),\n",
       "  Text(0, 11, 'Enthopia Cases & Covers\"'),\n",
       "  Text(0, 12, 'Wall Clocks'),\n",
       "  Text(0, 13, 'Car Spare Parts'),\n",
       "  Text(0, 14, 'Dresses & Skirts'),\n",
       "  Text(0, 15, 'Pizza Cutters'),\n",
       "  Text(0, 16, 'Casual & Party Wear Shirts'),\n",
       "  Text(0, 17, 'Dungarees & Jumpsuits'),\n",
       "  Text(0, 18, 'Sweatshirts'),\n",
       "  Text(0, 19, 'None'),\n",
       "  Text(0, 20, 'Boots\"'),\n",
       "  Text(0, 21, 'Loafers\"'),\n",
       "  Text(0, 22, 'Wallmantra Stickers\"'),\n",
       "  Text(0, 23, 'Formal Shirts'),\n",
       "  Text(0, 24, 'Sweaters'),\n",
       "  Text(0, 25, 'Polos & T-Shirts'),\n",
       "  Text(0, 26, 'Pencil Boxes'),\n",
       "  Text(0, 27, 'Plant Containers & Sets'),\n",
       "  Text(0, 28, 'Religious Idols'),\n",
       "  Text(0, 29, 'Woks & Kadhais'),\n",
       "  Text(0, 30, 'Numero Uno T-Shirts\"'),\n",
       "  Text(0, 31, 'Combos'),\n",
       "  Text(0, 32, 'DailyObjects Cases & Covers\"'),\n",
       "  Text(0, 33, 'Ties'),\n",
       "  Text(0, 34, 'Okane T-Shirts\"')])"
      ]
     },
     "execution_count": 37,
     "metadata": {},
     "output_type": "execute_result"
    },
    {
     "data": {
      "image/png": "[encoded data removed]",
      "text/plain": [
       "<Figure size 720x720 with 1 Axes>"
      ]
     },
     "metadata": {
      "needs_background": "light"
     },
     "output_type": "display_data"
    }
   ],
   "source": [
    "plt.figure(figsize=(10,10))\n",
    "quaternary_discount_percentage[quaternary_discount_percentage['quaternary_count']>50].sort_values(by='discounted_percentage_mean',ascending=False)['discounted_percentage_mean'].plot(kind='barh')\n",
    "plt.xticks(size=10)\n",
    "plt.yticks(size=10)"
   ]
  },
  {
   "cell_type": "code",
   "execution_count": 38,
   "id": "5b621084",
   "metadata": {},
   "outputs": [
    {
     "data": {
      "text/plain": [
       "<seaborn.axisgrid.PairGrid at 0x144a0be6670>"
      ]
     },
     "execution_count": 38,
     "metadata": {},
     "output_type": "execute_result"
    },
    {
     "data": {
      "image/png": "[encoded data removed]",
      "text/plain": [
       "<Figure size 1260x1260 with 56 Axes>"
      ]
     },
     "metadata": {
      "needs_background": "light"
     },
     "output_type": "display_data"
    }
   ],
   "source": [
    "sns.pairplot(ds,diag_kind='kde')"
   ]
  },
  {
   "cell_type": "code",
   "execution_count": 39,
   "id": "19a92fc2",
   "metadata": {},
   "outputs": [
    {
     "data": {
      "text/html": [
       "<div>\n",
       "<style scoped>\n",
       "    .dataframe tbody tr th:only-of-type {\n",
       "        vertical-align: middle;\n",
       "    }\n",
       "\n",
       "    .dataframe tbody tr th {\n",
       "        vertical-align: top;\n",
       "    }\n",
       "\n",
       "    .dataframe thead th {\n",
       "        text-align: right;\n",
       "    }\n",
       "</style>\n",
       "<table border=\"1\" class=\"dataframe\">\n",
       "  <thead>\n",
       "    <tr style=\"text-align: right;\">\n",
       "      <th></th>\n",
       "      <th>count</th>\n",
       "      <th>mean</th>\n",
       "      <th>std</th>\n",
       "      <th>min</th>\n",
       "      <th>25%</th>\n",
       "      <th>50%</th>\n",
       "      <th>75%</th>\n",
       "      <th>max</th>\n",
       "    </tr>\n",
       "  </thead>\n",
       "  <tbody>\n",
       "    <tr>\n",
       "      <th>retail_price</th>\n",
       "      <td>19922.0</td>\n",
       "      <td>2979.206104</td>\n",
       "      <td>9009.639341</td>\n",
       "      <td>35.0</td>\n",
       "      <td>666.0</td>\n",
       "      <td>1040.0</td>\n",
       "      <td>1999.0</td>\n",
       "      <td>571230.0</td>\n",
       "    </tr>\n",
       "    <tr>\n",
       "      <th>discounted_price</th>\n",
       "      <td>19922.0</td>\n",
       "      <td>1973.401767</td>\n",
       "      <td>7333.586040</td>\n",
       "      <td>35.0</td>\n",
       "      <td>350.0</td>\n",
       "      <td>550.0</td>\n",
       "      <td>999.0</td>\n",
       "      <td>571230.0</td>\n",
       "    </tr>\n",
       "    <tr>\n",
       "      <th>discounted_price.1</th>\n",
       "      <td>19922.0</td>\n",
       "      <td>1974.401767</td>\n",
       "      <td>7333.586040</td>\n",
       "      <td>36.0</td>\n",
       "      <td>351.0</td>\n",
       "      <td>551.0</td>\n",
       "      <td>1000.0</td>\n",
       "      <td>571231.0</td>\n",
       "    </tr>\n",
       "    <tr>\n",
       "      <th>crawl_year</th>\n",
       "      <td>20000.0</td>\n",
       "      <td>2015.484250</td>\n",
       "      <td>0.499764</td>\n",
       "      <td>2015.0</td>\n",
       "      <td>2015.0</td>\n",
       "      <td>2015.0</td>\n",
       "      <td>2016.0</td>\n",
       "      <td>2016.0</td>\n",
       "    </tr>\n",
       "    <tr>\n",
       "      <th>Month</th>\n",
       "      <td>20000.0</td>\n",
       "      <td>7.435550</td>\n",
       "      <td>4.875165</td>\n",
       "      <td>1.0</td>\n",
       "      <td>2.0</td>\n",
       "      <td>12.0</td>\n",
       "      <td>12.0</td>\n",
       "      <td>12.0</td>\n",
       "    </tr>\n",
       "    <tr>\n",
       "      <th>discounted_percentage</th>\n",
       "      <td>19922.0</td>\n",
       "      <td>40.524285</td>\n",
       "      <td>23.548116</td>\n",
       "      <td>0.0</td>\n",
       "      <td>21.1</td>\n",
       "      <td>45.0</td>\n",
       "      <td>60.0</td>\n",
       "      <td>96.5</td>\n",
       "    </tr>\n",
       "  </tbody>\n",
       "</table>\n",
       "</div>"
      ],
      "text/plain": [
       "                         count         mean          std     min     25%  \\\n",
       "retail_price           19922.0  2979.206104  9009.639341    35.0   666.0   \n",
       "discounted_price       19922.0  1973.401767  7333.586040    35.0   350.0   \n",
       "discounted_price.1     19922.0  1974.401767  7333.586040    36.0   351.0   \n",
       "crawl_year             20000.0  2015.484250     0.499764  2015.0  2015.0   \n",
       "Month                  20000.0     7.435550     4.875165     1.0     2.0   \n",
       "discounted_percentage  19922.0    40.524285    23.548116     0.0    21.1   \n",
       "\n",
       "                          50%     75%       max  \n",
       "retail_price           1040.0  1999.0  571230.0  \n",
       "discounted_price        550.0   999.0  571230.0  \n",
       "discounted_price.1      551.0  1000.0  571231.0  \n",
       "crawl_year             2015.0  2016.0    2016.0  \n",
       "Month                    12.0    12.0      12.0  \n",
       "discounted_percentage    45.0    60.0      96.5  "
      ]
     },
     "execution_count": 39,
     "metadata": {},
     "output_type": "execute_result"
    }
   ],
   "source": [
    "ds.describe().transpose()"
   ]
  },
  {
   "cell_type": "code",
   "execution_count": 40,
   "id": "5a2832b5",
   "metadata": {},
   "outputs": [
    {
     "data": {
      "text/plain": [
       "uniq_id                                 object\n",
       "crawl_timestamp            datetime64[ns, UTC]\n",
       "product_url                             object\n",
       "product_name                            object\n",
       "product_category_tree                   object\n",
       "pid                                     object\n",
       "retail_price                           float64\n",
       "discounted_price                       float64\n",
       "discounted_price.1                     float64\n",
       "is_FK_Advantage_product                   bool\n",
       "description                             object\n",
       "product_rating                          object\n",
       "overall_rating                          object\n",
       "brand                                   object\n",
       "product_specifications                  object\n",
       "crawl_year                               int64\n",
       "Month                                    int64\n",
       "main_category                           object\n",
       "secondary                               object\n",
       "tertiary                                object\n",
       "quaternary                              object\n",
       "discounted_percentage                  float64\n",
       "dtype: object"
      ]
     },
     "execution_count": 40,
     "metadata": {},
     "output_type": "execute_result"
    }
   ],
   "source": [
    "ds.dtypes"
   ]
  },
  {
   "cell_type": "code",
   "execution_count": 41,
   "id": "230b49f2",
   "metadata": {},
   "outputs": [],
   "source": [
    "import re \n",
    "import nltk \n",
    "from sklearn import preprocessing\n",
    "from sklearn.model_selection import train_test_split\n",
    "from sklearn.feature_extraction.text import CountVectorizer\n",
    "from sklearn.metrics import classification_report\n",
    "from sklearn.feature_extraction.text import TfidfVectorizer"
   ]
  },
  {
   "cell_type": "markdown",
   "id": "b6d660f0",
   "metadata": {},
   "source": [
    "# Data Cleaning"
   ]
  },
  {
   "cell_type": "code",
   "execution_count": 42,
   "id": "62fef424",
   "metadata": {},
   "outputs": [],
   "source": [
    "#This fuction cleans the text,str_arg --> Takes string to clean,cleaned_str --> Gives back cleaned string\n",
    "def preprocess_string(str_arg):\n",
    "    cleaned_str=re.sub('[^a-z\\s]+',' ',str_arg,flags=re.IGNORECASE) #every char except alphabets is replaced\n",
    "    cleaned_str=re.sub('(\\s+)',' ',cleaned_str) #multiple spaces are replaced by single space\n",
    "    cleaned_str=cleaned_str.lower() #converting the cleaned string to lower case\n",
    "    \n",
    "    return cleaned_str # Returning the preprocessed string in tokenized form"
   ]
  },
  {
   "cell_type": "code",
   "execution_count": 43,
   "id": "c3f6228e",
   "metadata": {},
   "outputs": [
    {
     "name": "stdout",
     "output_type": "stream",
     "text": [
      "['Clothing', 'Footwear', 'Beauty and Personal Care', 'Home Decor & Festive Needs', 'Automotive', 'Home Furnishing', 'Mobiles & Accessories', 'Jewellery', 'Kitchen & Dining', 'Computers']\n"
     ]
    }
   ],
   "source": [
    "#This code for cleaning the data\n",
    "# Category processing. \n",
    "ds['product_category_tree'] = ds['product_category_tree'].apply(lambda x : x.split('>>')[0][2:].strip())\n",
    "\n",
    "topcategory = list(ds.groupby('product_category_tree').count().sort_values(by='uniq_id',ascending=False).head(10).index) \n",
    "\n",
    "# Selecting only relevant columns\n",
    "processed_ds = ds[ds['product_category_tree'].isin(topcategory)][['product_category_tree','description']]\n",
    "\n",
    "# Cleaning strings\n",
    "processed_ds['description'] = processed_ds['description'].astype('str').apply(preprocess_string)\n",
    "\n",
    "categorylist = list(processed_ds['product_category_tree'].unique())\n",
    "print(categorylist)\n",
    "\n",
    "# Encoding the product category\n",
    "le = preprocessing.LabelEncoder() \n",
    "#normalize label,It can also be used to transform non-numerical labels to numerical labels\n",
    "category_encoded=le.fit_transform(processed_ds['product_category_tree'])\n",
    "#fit_transform fit the data and the data perform according to the tranformation\n",
    "processed_ds['product_category_tree'] = category_encoded"
   ]
  },
  {
   "cell_type": "code",
   "execution_count": 44,
   "id": "dcf6e74e",
   "metadata": {},
   "outputs": [],
   "source": [
    "X_train,X_test,Y_train,Y_test = train_test_split(processed_ds['description'],processed_ds['product_category_tree'],test_size=0.2)"
   ]
  },
  {
   "cell_type": "code",
   "execution_count": 45,
   "id": "38d41032",
   "metadata": {},
   "outputs": [],
   "source": [
    "#This code block is for converting the training data to Tf-Idf form\n",
    "vectorizer = TfidfVectorizer(stop_words='english')\n",
    "# Removing stop words\n",
    "X_train_tfidf = vectorizer.fit_transform(X_train)\n",
    "X_test_tfidf = vectorizer.transform(X_test) "
   ]
  },
  {
   "cell_type": "markdown",
   "id": "44297042",
   "metadata": {},
   "source": [
    "# Multinomial naive bayes"
   ]
  },
  {
   "cell_type": "code",
   "execution_count": 46,
   "id": "1b18a030",
   "metadata": {},
   "outputs": [],
   "source": [
    "from sklearn.naive_bayes import MultinomialNB"
   ]
  },
  {
   "cell_type": "code",
   "execution_count": 47,
   "id": "3d472ddb",
   "metadata": {},
   "outputs": [
    {
     "name": "stdout",
     "output_type": "stream",
     "text": [
      "0.9630186410102225\n",
      "0.9525097685602645\n"
     ]
    }
   ],
   "source": [
    "#This code block is for training, predicting & scoring test data\n",
    "a = MultinomialNB()\n",
    "a.fit(X_train_tfidf, Y_train) \n",
    "print(a.score(X_train_tfidf, Y_train))\n",
    "print(a.score(X_test_tfidf, Y_test))"
   ]
  },
  {
   "cell_type": "markdown",
   "id": "a208dbae",
   "metadata": {},
   "source": [
    "# Support vector machine"
   ]
  },
  {
   "cell_type": "code",
   "execution_count": 48,
   "id": "8155701f",
   "metadata": {},
   "outputs": [],
   "source": [
    "from sklearn import svm"
   ]
  },
  {
   "cell_type": "code",
   "execution_count": 49,
   "id": "871fe4c1",
   "metadata": {},
   "outputs": [
    {
     "name": "stdout",
     "output_type": "stream",
     "text": [
      "0.9996241731809982\n",
      "0.9915840096182748\n"
     ]
    }
   ],
   "source": [
    "b = svm.SVC()\n",
    "b.fit(X_train_tfidf , Y_train)\n",
    "print(b.score(X_train_tfidf, Y_train))\n",
    "print(b.score(X_test_tfidf, Y_test))"
   ]
  },
  {
   "cell_type": "markdown",
   "id": "aaac7bce",
   "metadata": {},
   "source": [
    "# Decision Tree "
   ]
  },
  {
   "cell_type": "code",
   "execution_count": 50,
   "id": "64089bbd",
   "metadata": {},
   "outputs": [],
   "source": [
    "from sklearn.tree import DecisionTreeClassifier"
   ]
  },
  {
   "cell_type": "code",
   "execution_count": 51,
   "id": "691a8fc5",
   "metadata": {},
   "outputs": [
    {
     "name": "stdout",
     "output_type": "stream",
     "text": [
      "0.9999248346361996\n",
      "0.9642320408776676\n"
     ]
    }
   ],
   "source": [
    "c = DecisionTreeClassifier(criterion = 'entropy')\n",
    "c.fit(X_train_tfidf,Y_train)\n",
    "print(c.score(X_train_tfidf, Y_train))\n",
    "print(c.score(X_test_tfidf,Y_test))"
   ]
  },
  {
   "cell_type": "markdown",
   "id": "da3c6a3e",
   "metadata": {},
   "source": [
    "# Random forest"
   ]
  },
  {
   "cell_type": "code",
   "execution_count": 52,
   "id": "203a2eae",
   "metadata": {},
   "outputs": [],
   "source": [
    "from sklearn.ensemble import RandomForestClassifier"
   ]
  },
  {
   "cell_type": "code",
   "execution_count": 53,
   "id": "7abd8e3e",
   "metadata": {},
   "outputs": [
    {
     "name": "stdout",
     "output_type": "stream",
     "text": [
      "0.9999248346361996\n",
      "0.9822663059813646\n"
     ]
    }
   ],
   "source": [
    "d = RandomForestClassifier()\n",
    "d.fit(X_train_tfidf, Y_train)\n",
    "print(d.score(X_train_tfidf, Y_train))\n",
    "print(d.score(X_test_tfidf, Y_test))"
   ]
  },
  {
   "cell_type": "markdown",
   "id": "53646b23",
   "metadata": {},
   "source": [
    "# Logistic Regression"
   ]
  },
  {
   "cell_type": "code",
   "execution_count": 54,
   "id": "e0ede1d7",
   "metadata": {},
   "outputs": [],
   "source": [
    "from sklearn.linear_model import LogisticRegression"
   ]
  },
  {
   "cell_type": "code",
   "execution_count": 55,
   "id": "42aef799",
   "metadata": {},
   "outputs": [
    {
     "name": "stdout",
     "output_type": "stream",
     "text": [
      "0.9953397474443776\n",
      "0.9894800120228434\n"
     ]
    }
   ],
   "source": [
    "d = LogisticRegression()\n",
    "d.fit(X_train_tfidf, Y_train)\n",
    "print(d.score(X_train_tfidf, Y_train))\n",
    "print(d.score(X_test_tfidf, Y_test))"
   ]
  }
 ],
 "metadata": {
  "kernelspec": {
   "display_name": "Python 3",
   "language": "python",
   "name": "python3"
  },
  "language_info": {
   "codemirror_mode": {
    "name": "ipython",
    "version": 3
   },
   "file_extension": ".py",
   "mimetype": "text/x-python",
   "name": "python",
   "nbconvert_exporter": "python",
   "pygments_lexer": "ipython3",
   "version": "3.8.8"
  }
 },
 "nbformat": 4,
 "nbformat_minor": 5
}
