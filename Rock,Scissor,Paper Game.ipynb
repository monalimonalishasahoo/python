{
 "cells": [
  {
   "cell_type": "code",
   "execution_count": null,
   "id": "98a34e6a",
   "metadata": {},
   "outputs": [
    {
     "name": "stdout",
     "output_type": "stream",
     "text": [
      "\t Welcome to Rock,Scissor,Papar Game\n",
      "Rock,Scissor,Paper ?Paper\n",
      "You win\n",
      "Rock,Scissor,Paper ?Rock\n",
      "You win\n",
      "Rock,Scissor,Paper ?scissor\n",
      "Enter correctly\n",
      "Rock,Scissor,Paper ?Scissor\n",
      "It is TIE !\n",
      "Rock,Scissor,Paper ?Paper\n",
      "You lose\n"
     ]
    }
   ],
   "source": [
    "from random import randint\n",
    "x=['Rock','Scissor','Paper']\n",
    "print(\"\\t Welcome to Rock,Scissor,Papar Game\")\n",
    "y=x[randint(0,2)]\n",
    "player=False\n",
    "while player==False :\n",
    "    player=input(\"Rock,Scissor,Paper ?\")\n",
    "    if player==y :\n",
    "        print(\"It is TIE !\")\n",
    "    elif player==\"Rock\" :\n",
    "        if y==\"Scissor\" :\n",
    "            print(\"You win\")\n",
    "        else :\n",
    "            print(\"You lose\")\n",
    "    elif player==\"Scissor\" :\n",
    "        if y==\"Paper\" :\n",
    "            print(\"You win\")\n",
    "        else :\n",
    "            print(\"You lose\")\n",
    "    elif player==\"Paper\" :\n",
    "        if y==\"Rock\":\n",
    "            print(\"You win\")\n",
    "        else :\n",
    "            print(\"You lose\")\n",
    "    else :\n",
    "        print(\"Enter correctly\")\n",
    "    player=False\n",
    "    y=x[randint(0,2)]           "
   ]
  },
  {
   "cell_type": "code",
   "execution_count": null,
   "id": "fa2d6075",
   "metadata": {},
   "outputs": [],
   "source": []
  }
 ],
 "metadata": {
  "kernelspec": {
   "display_name": "Python 3",
   "language": "python",
   "name": "python3"
  },
  "language_info": {
   "codemirror_mode": {
    "name": "ipython",
    "version": 3
   },
   "file_extension": ".py",
   "mimetype": "text/x-python",
   "name": "python",
   "nbconvert_exporter": "python",
   "pygments_lexer": "ipython3",
   "version": "3.8.8"
  }
 },
 "nbformat": 4,
 "nbformat_minor": 5
}
