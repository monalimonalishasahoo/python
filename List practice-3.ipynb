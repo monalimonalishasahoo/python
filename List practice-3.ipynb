{
 "cells": [
  {
   "cell_type": "code",
   "execution_count": 1,
   "id": "ffe05cf4",
   "metadata": {},
   "outputs": [
    {
     "name": "stdout",
     "output_type": "stream",
     "text": [
      "The original list is : [1, 2, 0, 3, 4, 5]\n",
      "The second smallest number of the given list is : 1\n"
     ]
    }
   ],
   "source": [
    "#Write a Python program to find the second smallest number in a list.\n",
    "def second_smallest(l):\n",
    "    if (len(l)<2):\n",
    "        return\n",
    "    if ((len(l)==2)  and (l[0] == l[1]) ):\n",
    "        return\n",
    "    dup_items = set()\n",
    "    uniq_items = []\n",
    "    for x in l:\n",
    "        if x not in dup_items:\n",
    "            uniq_items.append(x)\n",
    "            dup_items.add(x)\n",
    "    uniq_items.sort()\n",
    "    return  uniq_items[1]   \n",
    "l=[1,2,0,3,4,5]\n",
    "print(\"The original list is :\",l)\n",
    "print(\"The second smallest number of the given list is :\",second_smallest(l))"
   ]
  },
  {
   "cell_type": "code",
   "execution_count": 2,
   "id": "f600a51d",
   "metadata": {},
   "outputs": [
    {
     "name": "stdout",
     "output_type": "stream",
     "text": [
      "The original list is : [1, 2, 0, 3, 4, 5]\n",
      "The second largest number of the given list is : 4\n"
     ]
    }
   ],
   "source": [
    "#Write a Python program to find the second largest number in a list.\n",
    "def second_largest(numbers):\n",
    "    if (len(numbers)<2):\n",
    "        return\n",
    "    if ((len(numbers)==2)  and (numbers[0] == numbers[1]) ):\n",
    "        return\n",
    "    dup_items = set()\n",
    "    uniq_items = []\n",
    "    for x in numbers:\n",
    "        if x not in dup_items:\n",
    "            uniq_items.append(x)\n",
    "            dup_items.add(x)\n",
    "    uniq_items.sort()\n",
    "    return  uniq_items[-2] \n",
    "l=[1,2,0,3,4,5]\n",
    "print(\"The original list is :\",l)\n",
    "print(\"The second largest number of the given list is :\",second_largest(l))"
   ]
  },
  {
   "cell_type": "code",
   "execution_count": 3,
   "id": "32f9020c",
   "metadata": {},
   "outputs": [
    {
     "name": "stdout",
     "output_type": "stream",
     "text": [
      "Original List :  [10, 10, 10, 10, 20, 20, 20, 20, 40, 40, 50, 50, 30]\n",
      "Frequency of the elements in the List :  Counter({10: 4, 20: 4, 40: 2, 50: 2, 30: 1})\n"
     ]
    }
   ],
   "source": [
    "#Write a Python program to get the frequency of the elements in a list\n",
    "import collections\n",
    "my_list = [10,10,10,10,20,20,20,20,40,40,50,50,30]\n",
    "print(\"Original List : \",my_list)\n",
    "count = collections.Counter(my_list)\n",
    "print(\"Frequency of the elements in the List : \",count)"
   ]
  },
  {
   "cell_type": "code",
   "execution_count": 4,
   "id": "4ea1cecc",
   "metadata": {},
   "outputs": [
    {
     "name": "stdout",
     "output_type": "stream",
     "text": [
      "True\n",
      "False\n"
     ]
    }
   ],
   "source": [
    "#Write a Python program to check whether a list contains a sublist.\n",
    "def is_Sublist(l, s):\n",
    "    sub_set = False\n",
    "    if s == []:\n",
    "        sub_set = True\n",
    "    elif s == l:\n",
    "        sub_set = True\n",
    "    elif len(s) > len(l):\n",
    "        sub_set = False\n",
    "\n",
    "    else:\n",
    "        for i in range(len(l)):\n",
    "            if l[i] == s[0]:\n",
    "                n = 1\n",
    "                while (n < len(s)) and (l[i+n] == s[n]):\n",
    "                    n += 1\n",
    "                    if n == len(s):\n",
    "                        sub_set = True\n",
    "\n",
    "    return sub_set\n",
    "\n",
    "a = [2,4,3,5,7]\n",
    "b = [4,3]\n",
    "c = [3,7]\n",
    "print(is_Sublist(a, b))\n",
    "print(is_Sublist(a, c))\n"
   ]
  },
  {
   "cell_type": "code",
   "execution_count": 5,
   "id": "d36bfc8e",
   "metadata": {},
   "outputs": [
    {
     "name": "stdout",
     "output_type": "stream",
     "text": [
      "The originallist is : [10, 20, 30]\n",
      "The subsets are : [(), (10,), (20,), (30,), (10, 20), (10, 30), (20, 30), (10, 20, 30)]\n"
     ]
    }
   ],
   "source": [
    "# Write a Python program to generate all sublists of a list.\n",
    "from itertools import combinations\n",
    "def sub_lists(l):\n",
    "    subs = []\n",
    "    for i in range(0, len(l)+1):\n",
    "        temp = [x for x in combinations(l, i)]\n",
    "        if len(temp)>0:\n",
    "            subs.extend(temp)\n",
    "    return subs\n",
    "l=[10,20,30]\n",
    "print(\"The originallist is :\",l)\n",
    "print(\"The subsets are :\",sub_lists(l))"
   ]
  },
  {
   "cell_type": "code",
   "execution_count": 6,
   "id": "0c2b678a",
   "metadata": {},
   "outputs": [
    {
     "name": "stdout",
     "output_type": "stream",
     "text": [
      "The given list is : ['a', 'b']\n",
      "The updated list is : ['[2, 4, 3, 5, 7][4, 3]', '[2, 4, 3, 5, 7][4, 3]', '[2, 4, 3, 5, 7][4, 3]', '[2, 4, 3, 5, 7][4, 3]']\n"
     ]
    }
   ],
   "source": [
    "#Write a Python program to create a list by concatenating a given list which range goes from 1 to n.\n",
    "l = ['a', 'b']\n",
    "print(\"The given list is :\",l)\n",
    "n = 2\n",
    "list = ['{}{}'.format(a, b) for i in range(1, n+1) for j in l]\n",
    "print(\"The updated list is :\",list)"
   ]
  },
  {
   "cell_type": "code",
   "execution_count": 7,
   "id": "5b095803",
   "metadata": {},
   "outputs": [
    {
     "name": "stdout",
     "output_type": "stream",
     "text": [
      "Unique id of a is : 140726644320336\n",
      "Unique id if b is : 1692328462704\n"
     ]
    }
   ],
   "source": [
    "#Write a Python program to get variable unique identification number or string.\n",
    "a=10\n",
    "print(\"Unique id of a is :\",format(id(a)))\n",
    "b='Monali'\n",
    "print(\"Unique id if b is :\",format(id(b)))"
   ]
  },
  {
   "cell_type": "code",
   "execution_count": 8,
   "id": "64b24e53",
   "metadata": {},
   "outputs": [
    {
     "name": "stdout",
     "output_type": "stream",
     "text": [
      "The common items are : [30, 40]\n"
     ]
    }
   ],
   "source": [
    "#Write a Python program to find common items from two lists. \n",
    "a=[10,20,30,40]\n",
    "b=[30,40,50,60]\n",
    "x=[]\n",
    "for i in a :\n",
    "    for j in b :\n",
    "        if i == j :\n",
    "            x.append(i)\n",
    "print(\"The common items are :\",x)"
   ]
  },
  {
   "cell_type": "code",
   "execution_count": 9,
   "id": "f0681a22",
   "metadata": {},
   "outputs": [
    {
     "name": "stdout",
     "output_type": "stream",
     "text": [
      "Original List is :  [18, 5, 1]\n",
      "Single Integer is :  1851\n"
     ]
    }
   ],
   "source": [
    "#Write a Python program to convert a list of multiple integers into a single integer\n",
    "l = [18,5,1]\n",
    "print(\"Original List is : \",l)\n",
    "x = int(\"\".join(map(str, l)))\n",
    "print(\"Single Integer is : \",x)"
   ]
  },
  {
   "cell_type": "code",
   "execution_count": 10,
   "id": "debd08fe",
   "metadata": {},
   "outputs": [
    {
     "name": "stdout",
     "output_type": "stream",
     "text": [
      "h\n",
      "k\n",
      "r\n",
      "v\n"
     ]
    }
   ],
   "source": [
    "#Write a Python program to split a list based on first character of word\n",
    "from itertools import groupby\n",
    "from operator import itemgetter\n",
    "l=['ram','hari','keshav','vishnu']\n",
    "for i,j in groupby(sorted(l), key=itemgetter(0)):\n",
    "    print(i)"
   ]
  }
 ],
 "metadata": {
  "kernelspec": {
   "display_name": "Python 3",
   "language": "python",
   "name": "python3"
  },
  "language_info": {
   "codemirror_mode": {
    "name": "ipython",
    "version": 3
   },
   "file_extension": ".py",
   "mimetype": "text/x-python",
   "name": "python",
   "nbconvert_exporter": "python",
   "pygments_lexer": "ipython3",
   "version": "3.8.8"
  }
 },
 "nbformat": 4,
 "nbformat_minor": 5
}
