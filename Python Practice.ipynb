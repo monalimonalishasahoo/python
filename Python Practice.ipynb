{
 "cells": [
  {
   "cell_type": "code",
   "execution_count": 7,
   "id": "34200170",
   "metadata": {},
   "outputs": [
    {
     "name": "stdout",
     "output_type": "stream",
     "text": [
      "Kilometer:4.2\n",
      "Miles is equal to : 2.6097582\n"
     ]
    }
   ],
   "source": [
    "#convert kilometers to miles\n",
    "kilometers=float(input(\"Kilometer:\"))\n",
    "factor=0.621371\n",
    "miles=kilometers*factor\n",
    "print(\"Miles is equal to :\",miles)"
   ]
  },
  {
   "cell_type": "code",
   "execution_count": 9,
   "id": "0721b833",
   "metadata": {},
   "outputs": [
    {
     "name": "stdout",
     "output_type": "stream",
     "text": [
      "Enter temperature in celsius:30.4\n",
      "Fahrenheit is equal to: 86.72\n"
     ]
    }
   ],
   "source": [
    "#convert celcius to fahrenheit\n",
    "c=float(input(\"Enter temperature in celsius:\"))\n",
    "f=(c*1.8)+32\n",
    "print(\"Fahrenheit is equal to:\",f)"
   ]
  },
  {
   "cell_type": "code",
   "execution_count": 12,
   "id": "009ce747",
   "metadata": {},
   "outputs": [
    {
     "name": "stdout",
     "output_type": "stream",
     "text": [
      "Enter a number:0\n",
      "It is Zero\n"
     ]
    }
   ],
   "source": [
    "#check a number is positive,negative or zero\n",
    "num=int(input(\"Enter a number:\"))\n",
    "if num>0 :\n",
    "    print(\"It is a possitive number\")\n",
    "elif num<0 :\n",
    "    print(\"It is a negative number\")\n",
    "else :\n",
    "    print(\"It is Zero\")\n"
   ]
  },
  {
   "cell_type": "code",
   "execution_count": 15,
   "id": "f37eef24",
   "metadata": {},
   "outputs": [
    {
     "name": "stdout",
     "output_type": "stream",
     "text": [
      "Enter a number :7\n",
      "It is a negative number\n"
     ]
    }
   ],
   "source": [
    "#check a number is odd or even\n",
    "num=int(input(\"Enter a number :\"))\n",
    "if (num%2 == 0) :\n",
    "    print(\"It is a possitive number\")\n",
    "else :\n",
    "    print(\"It is a negative number\")"
   ]
  },
  {
   "cell_type": "code",
   "execution_count": 16,
   "id": "4baf2a97",
   "metadata": {},
   "outputs": [
    {
     "name": "stdout",
     "output_type": "stream",
     "text": [
      "Enter a year:2021\n",
      "It is not a leap year\n"
     ]
    }
   ],
   "source": [
    "#check a year is leap or not\n",
    "year=int(input(\"Enter a year:\"))\n",
    "if(num%4 ==0) :\n",
    "    if(num%400 ==0) :\n",
    "        if(num%100 ==0) :\n",
    "            print(\"It is a leap year\")\n",
    "         \n",
    "        else :\n",
    "            print(\"It is not a leap year\")\n",
    "    else :\n",
    "        print(\"It is not a leap year\")\n",
    "else :\n",
    "    print(\"It is not a leap year\")\n",
    "        \n",
    "        "
   ]
  },
  {
   "cell_type": "code",
   "execution_count": 17,
   "id": "50485785",
   "metadata": {},
   "outputs": [
    {
     "name": "stdout",
     "output_type": "stream",
     "text": [
      "Enter first number:3\n",
      "Enter second number:8\n",
      "Enter third number:1\n",
      "The largest number is : 8\n"
     ]
    }
   ],
   "source": [
    "#find the largest number among three numbers\n",
    "num1=int(input(\"Enter first number:\"))\n",
    "num2=int(input(\"Enter second number:\"))\n",
    "num3=int(input(\"Enter third number:\"))\n",
    "if (num1>num2) and (num1>num3) :\n",
    "    print(\"The largest number is :\",num1)\n",
    "elif (num2>num1) and (num2>num3) :\n",
    "    print(\"The largest number is :\",num2)\n",
    "else :\n",
    "    print(\"The largest number is :\",num3)"
   ]
  },
  {
   "cell_type": "code",
   "execution_count": 20,
   "id": "e518ca6f",
   "metadata": {},
   "outputs": [
    {
     "name": "stdout",
     "output_type": "stream",
     "text": [
      "Enter a number:5\n",
      "5  is a prime number\n"
     ]
    }
   ],
   "source": [
    "#check a number is prime or not \n",
    "n=int(input(\"Enter a number:\"))\n",
    "if n>1 :\n",
    "    for i in range(2,n) :\n",
    "        if (n%i == 0) :\n",
    "            print(\"It is not a prime number\")\n",
    "        else :\n",
    "            print(n,\" is a prime number\")\n",
    "        break    \n",
    "else :\n",
    "    print(n,\" is not a prime number\")"
   ]
  },
  {
   "cell_type": "code",
   "execution_count": 30,
   "id": "fa3b1dd7",
   "metadata": {
    "scrolled": true
   },
   "outputs": [
    {
     "name": "stdout",
     "output_type": "stream",
     "text": [
      "Enter the lower value :2\n",
      "Enter the higher value :19\n",
      "2  is a prime number\n",
      "3  is a prime number\n",
      "5  is a prime number\n",
      "7  is a prime number\n",
      "11  is a prime number\n",
      "13  is a prime number\n",
      "17  is a prime number\n",
      "19  is a prime number\n"
     ]
    }
   ],
   "source": [
    "#display all the prime numbers withim a range\n",
    "lower_value=int(input(\"Enter the lower value :\"))\n",
    "higher_value=int(input(\"Enter the higher value :\"))\n",
    "for j in range(lower_value,higher_value + 1) :\n",
    "    if j>1 :\n",
    "        for i in range(2,j) :\n",
    "            if (j%i == 0) :\n",
    "                break\n",
    "        else :\n",
    "                print(j,\" is a prime number\")"
   ]
  },
  {
   "cell_type": "code",
   "execution_count": 31,
   "id": "5c911393",
   "metadata": {},
   "outputs": [
    {
     "name": "stdout",
     "output_type": "stream",
     "text": [
      "Enter a number :5\n",
      "5  factorial is  120\n"
     ]
    }
   ],
   "source": [
    "#find the factorial of a number\n",
    "num=int(input(\"Enter a number :\"))\n",
    "fact=1\n",
    "for i in range(1,num+1) :\n",
    "    fact=fact*i \n",
    "print(num,\" factorial is \",fact)    "
   ]
  },
  {
   "cell_type": "code",
   "execution_count": 32,
   "id": "9fb18332",
   "metadata": {},
   "outputs": [
    {
     "name": "stdout",
     "output_type": "stream",
     "text": [
      "Enter a number :5\n",
      "5 multiplication of  1  is  5\n",
      "5 multiplication of  2  is  10\n",
      "5 multiplication of  3  is  15\n",
      "5 multiplication of  4  is  20\n",
      "5 multiplication of  5  is  25\n",
      "5 multiplication of  6  is  30\n",
      "5 multiplication of  7  is  35\n",
      "5 multiplication of  8  is  40\n",
      "5 multiplication of  9  is  45\n",
      "5 multiplication of  10  is  50\n"
     ]
    }
   ],
   "source": [
    "#display the multiplication table\n",
    "num=int(input(\"Enter a number :\"))\n",
    "m=1\n",
    "for i in range(1,11) :\n",
    "    m=num*i\n",
    "    print(num,\"multiplication of \",i,\" is \",m)\n",
    "    "
   ]
  },
  {
   "cell_type": "code",
   "execution_count": 39,
   "id": "6b9401f8",
   "metadata": {},
   "outputs": [
    {
     "name": "stdout",
     "output_type": "stream",
     "text": [
      "Enter the number of terms:10\n",
      "Fibonacci sequence...\n",
      "0\n",
      "1\n",
      "1\n",
      "2\n",
      "3\n",
      "5\n",
      "8\n",
      "13\n",
      "21\n",
      "34\n",
      "55\n"
     ]
    }
   ],
   "source": [
    "#fibonacci sequence\n",
    "r=int(input(\"Enter the number of terms:\"))\n",
    "n1=0\n",
    "n2=1\n",
    "if r<=0 :\n",
    "    print(\"Enter a positive integer\")\n",
    "elif r==1 :\n",
    "    print(\"Fibonacci sequence...\")\n",
    "    print(n2)\n",
    "else :\n",
    "    print(\"Fibonacci sequence...\")\n",
    "    print(n1)\n",
    "    print(n2)\n",
    "    for i in range(1,r) :\n",
    "        c=n1+n2\n",
    "        n1=n2\n",
    "        n2=c\n",
    "        print(c)\n",
    "    "
   ]
  },
  {
   "cell_type": "code",
   "execution_count": 40,
   "id": "baabf823",
   "metadata": {},
   "outputs": [
    {
     "name": "stdout",
     "output_type": "stream",
     "text": [
      "Enter a number: 293\n",
      "293 is not an Armstrong number\n"
     ]
    }
   ],
   "source": [
    "#check Armstrong number\n",
    "num = int(input(\"Enter a number: \"))\n",
    "sum = 0\n",
    "temp = num\n",
    "while temp > 0 :\n",
    "    n = temp % 10\n",
    "    sum += n**3\n",
    "    temp //=10\n",
    "if num == sum :\n",
    "    print(num,\"is an Armstrong number\")\n",
    "else :\n",
    "    print(num,\"is not an Armstrong number\")"
   ]
  },
  {
   "cell_type": "code",
   "execution_count": null,
   "id": "5a2739b8",
   "metadata": {},
   "outputs": [],
   "source": []
  }
 ],
 "metadata": {
  "kernelspec": {
   "display_name": "Python 3",
   "language": "python",
   "name": "python3"
  },
  "language_info": {
   "codemirror_mode": {
    "name": "ipython",
    "version": 3
   },
   "file_extension": ".py",
   "mimetype": "text/x-python",
   "name": "python",
   "nbconvert_exporter": "python",
   "pygments_lexer": "ipython3",
   "version": "3.8.8"
  }
 },
 "nbformat": 4,
 "nbformat_minor": 5
}
