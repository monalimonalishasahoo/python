{
 "cells": [
  {
   "cell_type": "code",
   "execution_count": 1,
   "id": "e5631dce",
   "metadata": {},
   "outputs": [
    {
     "name": "stdout",
     "output_type": "stream",
     "text": [
      "The name of the Microsoft programmeer is Sam and name of the product is Facebook\n",
      "The name of the Microsoft programmeer is Kevin and name of the product is Instagram\n"
     ]
    }
   ],
   "source": [
    "#create a class programmer for storing information of few programmers working at microsoft\n",
    "class Programmer :\n",
    "    company = \"Microsoft\"\n",
    "    def __init__(self,name,product) :\n",
    "        self.name = name\n",
    "        self.product =product\n",
    "    def getInfo(self) :\n",
    "        print(f\"The name of the {self.company} programmeer is {self.name} and name of the product is {self.product}\")\n",
    "        \n",
    "sam = Programmer(\"Sam\",\"Facebook\")\n",
    "kev = Programmer(\"Kevin\",\"Instagram\")\n",
    "sam.getInfo()\n",
    "kev.getInfo()"
   ]
  },
  {
   "cell_type": "code",
   "execution_count": 2,
   "id": "313233a2",
   "metadata": {},
   "outputs": [
    {
     "name": "stdout",
     "output_type": "stream",
     "text": [
      "The value of 5 square is 25\n",
      "The value of 5 squareroot is 2.23606797749979\n",
      "The value of 5 cube is 125\n"
     ]
    }
   ],
   "source": [
    "#write a class calculator capable of finding suare,square root,cube of a number\n",
    "class Calculator :\n",
    "    def __init__(self,num) :\n",
    "        self.number = num\n",
    "    def square(self) :\n",
    "        print(f\"The value of {self.number} square is {self.number ** 2}\")\n",
    "    def squareroot(self) :\n",
    "        print(f\"The value of {self.number} squareroot is {self.number ** 0.5}\")\n",
    "    def cube(self) :\n",
    "        print(f\"The value of {self.number} cube is {self.number ** 3}\")\n",
    "       \n",
    "a = Calculator(5)\n",
    "a.square()\n",
    "a.squareroot()\n",
    "a.cube()"
   ]
  },
  {
   "cell_type": "code",
   "execution_count": 3,
   "id": "62c3b77a",
   "metadata": {},
   "outputs": [
    {
     "name": "stdout",
     "output_type": "stream",
     "text": [
      "Monali\n",
      "Selly\n"
     ]
    }
   ],
   "source": [
    "#create a class with  a class attribute a ;create an object from it and set a directly using object.a=0.Does this change the class attribute?\n",
    "class Test :\n",
    "    a=\"Monali\"\n",
    "    \n",
    "obj = Test()\n",
    "obj.a=\"Selly\"\n",
    "print(Test.a)\n",
    "print(obj.a)"
   ]
  },
  {
   "cell_type": "code",
   "execution_count": 4,
   "id": "2b8485bd",
   "metadata": {},
   "outputs": [
    {
     "name": "stdout",
     "output_type": "stream",
     "text": [
      "Hello,welcome to our calculator\n",
      "The value of 9 square is 81\n",
      "The value of 9 squareroot is 3.0\n",
      "The value of 9 cube is 729\n"
     ]
    }
   ],
   "source": [
    "#add a static method in problem no 2 to greet the user\n",
    "class Calculator :\n",
    "    def __init__(self,num) :\n",
    "        self.number = num\n",
    "    def square(self) :\n",
    "        print(f\"The value of {self.number} square is {self.number ** 2}\")\n",
    "    def squareroot(self) :\n",
    "        print(f\"The value of {self.number} squareroot is {self.number ** 0.5}\")\n",
    "    def cube(self) :\n",
    "        print(f\"The value of {self.number} cube is {self.number ** 3}\")\n",
    "    @staticmethod\n",
    "    def greet() :\n",
    "        print(\"Hello,welcome to our calculator\")\n",
    "       \n",
    "a = Calculator(9)\n",
    "a.greet()\n",
    "a.square()\n",
    "a.squareroot()\n",
    "a.cube()"
   ]
  },
  {
   "cell_type": "code",
   "execution_count": 5,
   "id": "3f18ca2a",
   "metadata": {},
   "outputs": [
    {
     "name": "stdout",
     "output_type": "stream",
     "text": [
      "The name of the train is Rajdhani\n",
      "The no. of seats available in the train Rajdhani are 3\n",
      "The price of the ticket is rs 1000\n",
      "Your ticket has been booked.Your seat no is 3\n",
      "Your ticket has been booked.Your seat no is 2\n",
      "Your ticket has been booked.Your seat no is 1\n",
      "SORRY ! This Train is full\n"
     ]
    }
   ],
   "source": [
    "#write a class Train which has methods to book a ticket,getStatus(no. of seats) and get fare information of trains running under Indian Railways\n",
    "class Train :\n",
    "    def __init__(self,name,seats,fare) :\n",
    "        self.name = name\n",
    "        self.seats = seats\n",
    "        self.fare = fare\n",
    "    def getStatus(self) :\n",
    "        print(f\"The name of the train is {self.name}\")\n",
    "        print(f\"The no. of seats available in the train {self.name} are {self.seats}\")\n",
    "    def getFareInfo(self) :\n",
    "        print(f\"The price of the ticket is rs {self.fare}\")\n",
    "    def bookTicket(self) :\n",
    "        if(self.seats > 0):\n",
    "            print(f\"Your ticket has been booked.Your seat no is {self.seats}\")\n",
    "            self.seats = self.seats - 1\n",
    "        else :\n",
    "            print(\"SORRY ! This Train is full\")\n",
    "        \n",
    "obj = Train(\"Rajdhani\",3,1000)\n",
    "obj.getStatus()\n",
    "obj.getFareInfo()\n",
    "obj.bookTicket()\n",
    "obj.bookTicket()\n",
    "obj.bookTicket()\n",
    "obj.bookTicket()"
   ]
  },
  {
   "cell_type": "code",
   "execution_count": 6,
   "id": "50b1835a",
   "metadata": {},
   "outputs": [
    {
     "name": "stdout",
     "output_type": "stream",
     "text": [
      "Monali\n"
     ]
    }
   ],
   "source": [
    "#can you change self parameter inside a class to something else.Try it and see the effects\n",
    "class Test :\n",
    "    def __init__(monali,name) :\n",
    "        monali.name = name\n",
    "obj = Test(\"Monali\")\n",
    "print(obj.name)"
   ]
  }
 ],
 "metadata": {
  "kernelspec": {
   "display_name": "Python 3",
   "language": "python",
   "name": "python3"
  },
  "language_info": {
   "codemirror_mode": {
    "name": "ipython",
    "version": 3
   },
   "file_extension": ".py",
   "mimetype": "text/x-python",
   "name": "python",
   "nbconvert_exporter": "python",
   "pygments_lexer": "ipython3",
   "version": "3.8.8"
  }
 },
 "nbformat": 4,
 "nbformat_minor": 5
}
