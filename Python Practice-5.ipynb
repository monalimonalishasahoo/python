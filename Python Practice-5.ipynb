{
 "cells": [
  {
   "cell_type": "code",
   "execution_count": 1,
   "id": "207ef2c4",
   "metadata": {},
   "outputs": [
    {
     "name": "stdout",
     "output_type": "stream",
     "text": [
      "Enter an integer :392863789\n",
      "The reversed order is :\n",
      "9\n",
      "8\n",
      "7\n",
      "3\n",
      "6\n",
      "8\n",
      "2\n",
      "9\n",
      "3\n"
     ]
    }
   ],
   "source": [
    "#Write a program to extract each digit from an integer, in the reverse order\n",
    "num=int(input(\"Enter an integer :\"))\n",
    "n=0\n",
    "print(\"The reversed order is :\")\n",
    "while num>0 :\n",
    "    a=num%10\n",
    "    num=num-a\n",
    "    num=num/10\n",
    "    print(int(a))\n",
    "    n=n+1"
   ]
  },
  {
   "cell_type": "code",
   "execution_count": 2,
   "id": "6de92f32",
   "metadata": {},
   "outputs": [
    {
     "name": "stdout",
     "output_type": "stream",
     "text": [
      "[7, 8, 2, 4, 3, 5, 6, 1, 0]\n"
     ]
    }
   ],
   "source": [
    "#  Given a Python list, remove all occurrence of a given number from the list\n",
    "list=[7,8,4,2,4,3,5,6,1,0]\n",
    "list.remove(4)\n",
    "print(list)"
   ]
  },
  {
   "cell_type": "code",
   "execution_count": 3,
   "id": "f9f62e8e",
   "metadata": {},
   "outputs": [
    {
     "name": "stdout",
     "output_type": "stream",
     "text": [
      "The given list is : ['apple', 'banana', 'cherry', 'dragonfruit', 'litchi', 'mango', 'grapes', 'orange']\n",
      "The shuffled list is : ['orange', 'dragonfruit', 'cherry', 'grapes', 'mango', 'apple', 'banana', 'litchi']\n"
     ]
    }
   ],
   "source": [
    "# Shuffle a list randomly\n",
    "import random\n",
    "l=[\"apple\",\"banana\",\"cherry\",\"dragonfruit\",\"litchi\",\"mango\",\"grapes\",\"orange\"]\n",
    "print(\"The given list is :\",l)\n",
    "random.shuffle(l)\n",
    "print(\"The shuffled list is :\",l)"
   ]
  },
  {
   "cell_type": "code",
   "execution_count": 4,
   "id": "096a4960",
   "metadata": {},
   "outputs": [
    {
     "name": "stdout",
     "output_type": "stream",
     "text": [
      "The size of the given list is : 136 bytes\n"
     ]
    }
   ],
   "source": [
    "# Calculate memory is being used by an list in Python\n",
    "import sys\n",
    "l=[1,2,3,4,5,6,7,8,9,10]\n",
    "print(\"The size of the given list is :\",sys.getsizeof(l),\"bytes\")"
   ]
  },
  {
   "cell_type": "code",
   "execution_count": 5,
   "id": "c19a8bf6",
   "metadata": {},
   "outputs": [
    {
     "name": "stdout",
     "output_type": "stream",
     "text": [
      "Sorted array is:\n",
      " 8\n",
      " 17\n",
      " 25\n",
      " 36\n",
      " 64\n",
      " 73\n",
      " 90\n"
     ]
    }
   ],
   "source": [
    "# Bubble sort in python\n",
    "def bubbleSort(arr):\n",
    "    n = len(arr)\n",
    "    for i in range(n-1):\n",
    "        for j in range(0, n-i-1):\n",
    "            if arr[j] > arr[j + 1] :\n",
    "                arr[j], arr[j + 1] = arr[j + 1], arr[j]\n",
    "\n",
    "arr = [64, 8, 25, 17, 36, 73, 90]\n",
    "bubbleSort(arr)\n",
    "print (\"Sorted array is:\")\n",
    "for i in range(len(arr)):\n",
    "    print (\"% d\" % arr[i]),"
   ]
  },
  {
   "cell_type": "code",
   "execution_count": 6,
   "id": "2d51d93b",
   "metadata": {},
   "outputs": [
    {
     "name": "stdout",
     "output_type": "stream",
     "text": [
      "The given vectors are : \n",
      " A : [1, 2, 3] \n",
      " B : [4, 5, 6]\n",
      "The addition of the given vectors is : [5 7 9]\n"
     ]
    }
   ],
   "source": [
    "# Addition of two vector\n",
    "import numpy as np\n",
    "a=[1,2,3]\n",
    "b=[4,5,6]\n",
    "print(\"The given vectors are : \\n\",\"A :\",a,\"\\n B :\",b)\n",
    "c=np.add(a,b)\n",
    "print(\"The addition of the given vectors is :\",c)"
   ]
  },
  {
   "cell_type": "code",
   "execution_count": 7,
   "id": "dce34083",
   "metadata": {},
   "outputs": [
    {
     "name": "stdout",
     "output_type": "stream",
     "text": [
      "The given stack is : ['apple', 'banana', 'cherry']\n",
      "After deleting the last index the given stack is : ['apple', 'banana']\n"
     ]
    }
   ],
   "source": [
    "# Remove the last element from the stack\n",
    "stack=['apple','banana','cherry']\n",
    "print(\"The given stack is :\",stack)\n",
    "stack.pop()\n",
    "print(\"After deleting the last index the given stack is :\",stack)"
   ]
  },
  {
   "cell_type": "code",
   "execution_count": 8,
   "id": "48f80f7a",
   "metadata": {},
   "outputs": [
    {
     "name": "stdout",
     "output_type": "stream",
     "text": [
      "Enter a string :monali\n",
      "a\n"
     ]
    }
   ],
   "source": [
    "# Pick a random character from a given String\n",
    "import random\n",
    "str=input(\"Enter a string :\")\n",
    "x=random.choice(str)\n",
    "print(x)"
   ]
  },
  {
   "cell_type": "code",
   "execution_count": 9,
   "id": "dbcb17c1",
   "metadata": {},
   "outputs": [
    {
     "name": "stdout",
     "output_type": "stream",
     "text": [
      "The generated random string is : KQlOs\n"
     ]
    }
   ],
   "source": [
    "# Generate  random String of length 5\n",
    "import string\n",
    "import random\n",
    "x=5\n",
    "result=''.join(random.choices(string.ascii_lowercase+string.ascii_uppercase+string.digits,k=x))\n",
    "print(\"The generated random string is :\",result)"
   ]
  },
  {
   "cell_type": "code",
   "execution_count": 10,
   "id": "a83550db",
   "metadata": {},
   "outputs": [
    {
     "name": "stdout",
     "output_type": "stream",
     "text": [
      "Enter a string :monali\n",
      "The reversed string is : ilanom\n"
     ]
    }
   ],
   "source": [
    "# Reverse a given string\n",
    "str=input(\"Enter a string :\")\n",
    "x=str[::-1]\n",
    "print(\"The reversed string is :\",x)"
   ]
  },
  {
   "cell_type": "code",
   "execution_count": 11,
   "id": "df5b486c",
   "metadata": {},
   "outputs": [
    {
     "name": "stdout",
     "output_type": "stream",
     "text": [
      "Enter a string :monali monalisha sahoo\n",
      "{'m': 2, 'o': 4, 'n': 2, 'a': 4, 'l': 2, 'i': 2, ' ': 2, 's': 2, 'h': 2}\n"
     ]
    }
   ],
   "source": [
    "# Given an input string, count occurrences of all characters within a string\n",
    "str=input(\"Enter a string :\")\n",
    "x={}\n",
    "for i in str :\n",
    "    if i in x :\n",
    "        x[i] += 1\n",
    "    else :\n",
    "        x[i] = 1\n",
    "print(x)    "
   ]
  },
  {
   "cell_type": "code",
   "execution_count": 12,
   "id": "9309fa9d",
   "metadata": {},
   "outputs": [
    {
     "name": "stdout",
     "output_type": "stream",
     "text": [
      "Enter a num :678\n",
      "The octal value of  678  is : 0o1246\n"
     ]
    }
   ],
   "source": [
    "# Convert decimal number to octal\n",
    "n=int(input(\"Enter a num :\"))\n",
    "print(\"The octal value of \",n,\" is :\",oct(n))"
   ]
  },
  {
   "cell_type": "code",
   "execution_count": 13,
   "id": "e6481d2c",
   "metadata": {},
   "outputs": [
    {
     "name": "stdout",
     "output_type": "stream",
     "text": [
      "The sum of numbers from 0 to 10 is : 55\n"
     ]
    }
   ],
   "source": [
    "# Write a recursive function to calculate the sum of numbers from 0 to 10\n",
    "def sum(n) :\n",
    "    if n==0 :\n",
    "        return 0\n",
    "    else :\n",
    "        return n+sum(n-1)\n",
    "n=10\n",
    "if n<0 :\n",
    "    print(\"Enter a possitive number\")\n",
    "else :\n",
    "    print(\"The sum of numbers from 0 to 10 is :\",sum(n))"
   ]
  }
 ],
 "metadata": {
  "kernelspec": {
   "display_name": "Python 3",
   "language": "python",
   "name": "python3"
  },
  "language_info": {
   "codemirror_mode": {
    "name": "ipython",
    "version": 3
   },
   "file_extension": ".py",
   "mimetype": "text/x-python",
   "name": "python",
   "nbconvert_exporter": "python",
   "pygments_lexer": "ipython3",
   "version": "3.8.8"
  }
 },
 "nbformat": 4,
 "nbformat_minor": 5
}
