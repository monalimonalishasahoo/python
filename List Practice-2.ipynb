{
 "cells": [
  {
   "cell_type": "code",
   "execution_count": 1,
   "id": "0f9727c3",
   "metadata": {},
   "outputs": [
    {
     "name": "stdout",
     "output_type": "stream",
     "text": [
      "Two lists are : [1, 2, 3, 4, 5] [8, 7, 6, 5, 9]\n",
      "There is a common element in the given lists: True\n"
     ]
    }
   ],
   "source": [
    "#Write a Python function that takes two lists and returns True if they have at least one common member\n",
    "def check(l1,l2) :\n",
    "    for i in l1 :\n",
    "        for j in l2 :\n",
    "            if i == j :\n",
    "                result = True\n",
    "                return result\n",
    "l1=[1,2,3,4,5]\n",
    "l2=[8,7,6,5,9]\n",
    "print(\"Two lists are :\",l1,l2)\n",
    "print(\"There is a common element in the given lists:\",check(l1,l2))"
   ]
  },
  {
   "cell_type": "code",
   "execution_count": 2,
   "id": "cafb3035",
   "metadata": {},
   "outputs": [
    {
     "name": "stdout",
     "output_type": "stream",
     "text": [
      "The given list is : [1, 2, 3, 4, 5, 6, 7, 8]\n",
      "The updated list is : [2, 3, 4, 7, 8]\n"
     ]
    }
   ],
   "source": [
    "#Write a Python program to print a specified list after removing the 0th, 4th and 5th elements. \n",
    "l=[1,2,3,4,5,6,7,8]\n",
    "print(\"The given list is :\",l)\n",
    "list=[x for (i,x) in enumerate(l) if i not in (0,4,5) ]\n",
    "print(\"The updated list is :\",list)"
   ]
  },
  {
   "cell_type": "code",
   "execution_count": 3,
   "id": "60531eda",
   "metadata": {},
   "outputs": [
    {
     "name": "stdout",
     "output_type": "stream",
     "text": [
      "[[['*', '*', '*', '*', '*', '*'], ['*', '*', '*', '*', '*', '*'], ['*', '*', '*', '*', '*', '*'], ['*', '*', '*', '*', '*', '*']], [['*', '*', '*', '*', '*', '*'], ['*', '*', '*', '*', '*', '*'], ['*', '*', '*', '*', '*', '*'], ['*', '*', '*', '*', '*', '*']], [['*', '*', '*', '*', '*', '*'], ['*', '*', '*', '*', '*', '*'], ['*', '*', '*', '*', '*', '*'], ['*', '*', '*', '*', '*', '*']]]\n"
     ]
    }
   ],
   "source": [
    "#Write a Python program to generate a 3*4*6 3D array whose each element is *\n",
    "x=[[['*' for col in range(6)] for col in range(4)] for col in range(3)]\n",
    "print(x)"
   ]
  },
  {
   "cell_type": "code",
   "execution_count": 4,
   "id": "b4dd7a09",
   "metadata": {},
   "outputs": [
    {
     "name": "stdout",
     "output_type": "stream",
     "text": [
      "The original list is : [10, 20, 30, 40, 50]\n",
      "The shuffled list is: [50, 10, 40, 30, 20]\n"
     ]
    }
   ],
   "source": [
    "#Write a Python program to shuffle and print a specified list.\n",
    "import random\n",
    "l=[10,20,30,40,50]\n",
    "print(\"The original list is :\",l)\n",
    "random.shuffle(l)\n",
    "print(\"The shuffled list is:\",l)"
   ]
  },
  {
   "cell_type": "code",
   "execution_count": 5,
   "id": "a3dcbc6e",
   "metadata": {},
   "outputs": [
    {
     "name": "stdout",
     "output_type": "stream",
     "text": [
      "The first 5 elements are : [1, 4, 9, 16, 25]\n",
      "The last 5 elements are : [625, 676, 729, 784, 841]\n"
     ]
    }
   ],
   "source": [
    "#Write a Python program to generate and print a list of first and last 5 elements where the values are square of numbers between 1 and 30 (both included).\n",
    "l=[]\n",
    "for i in range(1,30):\n",
    "    l.append(i**2)\n",
    "    \n",
    "print(\"The first 5 elements are :\",l[:5])\n",
    "print(\"The last 5 elements are :\",l[-5:])"
   ]
  },
  {
   "cell_type": "code",
   "execution_count": 6,
   "id": "707a04fe",
   "metadata": {},
   "outputs": [
    {
     "name": "stdout",
     "output_type": "stream",
     "text": [
      "The last 5 elements are : [36, 49, 64, 81, 100, 121, 144, 169, 196, 225, 256, 289, 324, 361, 400, 441, 484, 529, 576, 625, 676, 729, 784, 841]\n"
     ]
    }
   ],
   "source": [
    "#Write a Python program to generate and print a list except for the first 5 elements, where the values are square of numbers between 1 and 30\n",
    "l=[]\n",
    "for i in range(1,30):\n",
    "    l.append(i**2)\n",
    "print(\"The last 5 elements are :\",l[5:])    "
   ]
  },
  {
   "cell_type": "code",
   "execution_count": 7,
   "id": "d27af53d",
   "metadata": {},
   "outputs": [
    {
     "name": "stdout",
     "output_type": "stream",
     "text": [
      "0 10\n",
      "1 20\n",
      "2 30\n",
      "3 40\n",
      "4 50\n"
     ]
    }
   ],
   "source": [
    "# Write a Python program access the index of a list. \n",
    "l=[10,20,30,40,50]\n",
    "for i,j in enumerate(l) :\n",
    "    print(i,j)"
   ]
  },
  {
   "cell_type": "code",
   "execution_count": 8,
   "id": "6edde2f3",
   "metadata": {},
   "outputs": [
    {
     "name": "stdout",
     "output_type": "stream",
     "text": [
      "monali\n"
     ]
    }
   ],
   "source": [
    "#Write a Python program to convert a list of characters into a string.\n",
    "l1=['m','o','n','a','l','i']\n",
    "l=''.join(l1)\n",
    "print(l)"
   ]
  },
  {
   "cell_type": "code",
   "execution_count": 9,
   "id": "9ab75637",
   "metadata": {},
   "outputs": [
    {
     "name": "stdout",
     "output_type": "stream",
     "text": [
      "50\n"
     ]
    }
   ],
   "source": [
    "#Write a Python program to find the index of an item in a specified list. \n",
    "l=[10,20,30,40,50]\n",
    "print(l[4])"
   ]
  },
  {
   "cell_type": "code",
   "execution_count": 10,
   "id": "4f8822bd",
   "metadata": {},
   "outputs": [
    {
     "name": "stdout",
     "output_type": "stream",
     "text": [
      "The elements in first list is : [10, 20, 30, 40, 50]\n",
      "The elements in second list : [10, 20, 30, 40, 50, 60, 70, 80, 90, 100]\n"
     ]
    }
   ],
   "source": [
    "# Write a Python program to append a list to the second list. \n",
    "l1=[10,20,30,40,50]\n",
    "print(\"The elements in first list is :\",l1)\n",
    "l2=[60,70,80,90,100]\n",
    "l=l1+l2\n",
    "print(\"The elements in second list :\",l)"
   ]
  },
  {
   "cell_type": "code",
   "execution_count": 11,
   "id": "c26448f9",
   "metadata": {},
   "outputs": [
    {
     "name": "stdout",
     "output_type": "stream",
     "text": [
      "the list is : [10, 20, 30, 40, 50]\n",
      "The random selected item is : 30\n"
     ]
    }
   ],
   "source": [
    "#Write a Python program to select an item randomly from a list.\n",
    "import random\n",
    "l=[10,20,30,40,50]\n",
    "print(\"the list is :\",l)\n",
    "list=random.choice(l)\n",
    "print(\"The random selected item is :\",list)"
   ]
  }
 ],
 "metadata": {
  "kernelspec": {
   "display_name": "Python 3",
   "language": "python",
   "name": "python3"
  },
  "language_info": {
   "codemirror_mode": {
    "name": "ipython",
    "version": 3
   },
   "file_extension": ".py",
   "mimetype": "text/x-python",
   "name": "python",
   "nbconvert_exporter": "python",
   "pygments_lexer": "ipython3",
   "version": "3.8.8"
  }
 },
 "nbformat": 4,
 "nbformat_minor": 5
}
