{
 "cells": [
  {
   "cell_type": "code",
   "execution_count": 2,
   "id": "9e9bea98",
   "metadata": {},
   "outputs": [
    {
     "name": "stdout",
     "output_type": "stream",
     "text": [
      "Enter a string :malayalam\n",
      "malayalam  is a palindrome string\n"
     ]
    }
   ],
   "source": [
    "#Python Program to Check Whether a String is Palindrome or Not\n",
    "s = input(\"Enter a string :\")\n",
    "temp = reversed(s)\n",
    "if list(s) == list(temp) :#this function returns a reversed object, we use the list() function to convert them into a list before comparing.\n",
    "    print(s,\" is a palindrome string\")\n",
    "else :\n",
    "    print(s,\" is not a palindrome string\")"
   ]
  },
  {
   "cell_type": "code",
   "execution_count": 3,
   "id": "a450979d",
   "metadata": {},
   "outputs": [
    {
     "name": "stdout",
     "output_type": "stream",
     "text": [
      "Enter a string :m.@o{n,al:\"i!;\n",
      "The string after removing punctuation : monali\n"
     ]
    }
   ],
   "source": [
    "#Python Program to Remove Punctuations From a String\n",
    "s = input(\"Enter a string :\")\n",
    "punc = '''!()-[]{};:'\"\\, <>./?@#$%^&*_~'''\n",
    "for i in s :\n",
    "    if i in punc :\n",
    "        s = s.replace(i,\"\")\n",
    "print(\"The string after removing punctuation :\",s)        "
   ]
  },
  {
   "cell_type": "code",
   "execution_count": 12,
   "id": "83931c20",
   "metadata": {},
   "outputs": [
    {
     "name": "stdout",
     "output_type": "stream",
     "text": [
      "Enter a string :my name is monali\n",
      "The sorted words are :\n",
      "is\n",
      "monali\n",
      "my\n",
      "name\n"
     ]
    }
   ],
   "source": [
    "#Python Program to Sort Words in Alphabetic Order\n",
    "s = input(\"Enter a string :\")\n",
    "temp = [i.lower() for i in s.split()]\n",
    "temp.sort()\n",
    "print(\"The sorted words are :\")\n",
    "for i in temp :\n",
    "    print(i)"
   ]
  },
  {
   "cell_type": "code",
   "execution_count": 15,
   "id": "666f9ca4",
   "metadata": {},
   "outputs": [
    {
     "name": "stdout",
     "output_type": "stream",
     "text": [
      "Enter a string :My name is Monali Monalisha Sahoo.I'm a student\n",
      "The number of each vowel :\n",
      "{'a': 6, 'i': 4, 'e': 2, 'o': 4, 'u': 1}\n"
     ]
    }
   ],
   "source": [
    "#Python Program to Count the Number of Each Vowel\n",
    "str = input(\"Enter a string :\")\n",
    "vowel =\"aieou\"\n",
    "str =str.casefold()\n",
    "count ={}.fromkeys(vowel,0)\n",
    "print(\"The number of each vowel :\")\n",
    "for i in str :\n",
    "    if i in count :\n",
    "        count[i] +=1\n",
    "print(count)        "
   ]
  },
  {
   "cell_type": "code",
   "execution_count": 16,
   "id": "c4671a97",
   "metadata": {},
   "outputs": [
    {
     "name": "stdout",
     "output_type": "stream",
     "text": [
      "Enter a string :Monali\n",
      "M\n"
     ]
    }
   ],
   "source": [
    "#access first characters in a string\n",
    "s = input(\"Enter a string :\")\n",
    "print(s[0])"
   ]
  },
  {
   "cell_type": "code",
   "execution_count": 18,
   "id": "014caa8e",
   "metadata": {},
   "outputs": [
    {
     "name": "stdout",
     "output_type": "stream",
     "text": [
      "Enter a string :Monali\n",
      "i\n"
     ]
    }
   ],
   "source": [
    "#access Last characters in a string\n",
    "s = input(\"Enter a string :\")\n",
    "print(s[-1])"
   ]
  },
  {
   "cell_type": "code",
   "execution_count": 20,
   "id": "b870d1a4",
   "metadata": {},
   "outputs": [
    {
     "name": "stdout",
     "output_type": "stream",
     "text": [
      "Enter an expression :x*(x+2)\n",
      "Enter value of x :5\n",
      "y = 35\n"
     ]
    }
   ],
   "source": [
    "#evaluate a string\n",
    "str =input(\"Enter an expression :\")\n",
    "x = int(input(\"Enter value of x :\"))\n",
    "y = eval(str)\n",
    "print(\"y =\",y)"
   ]
  },
  {
   "cell_type": "code",
   "execution_count": 21,
   "id": "1a404eaf",
   "metadata": {},
   "outputs": [
    {
     "name": "stdout",
     "output_type": "stream",
     "text": [
      "Enter an expression :Monali\n",
      "Length of the string is : 6\n"
     ]
    }
   ],
   "source": [
    "#length of the string\n",
    "str =input(\"Enter an expression :\")\n",
    "print(\"Length of the string is :\",len(str))"
   ]
  },
  {
   "cell_type": "code",
   "execution_count": 23,
   "id": "2b34ab33",
   "metadata": {},
   "outputs": [
    {
     "name": "stdout",
     "output_type": "stream",
     "text": [
      "Enter an expression :M O N A L I\n",
      "MONALI\n"
     ]
    }
   ],
   "source": [
    "#remove whitespace in a string\n",
    "str =input(\"Enter an expression :\")\n",
    "print(str.replace(\" \",\"\"))"
   ]
  },
  {
   "cell_type": "code",
   "execution_count": 27,
   "id": "cd20a1b6",
   "metadata": {},
   "outputs": [
    {
     "name": "stdout",
     "output_type": "stream",
     "text": [
      "Enter an expression :  Monali  \n",
      "Monali\n"
     ]
    }
   ],
   "source": [
    "#remove leading character\n",
    "str =input(\"Enter an expression :\")\n",
    "print(str.strip())"
   ]
  },
  {
   "cell_type": "code",
   "execution_count": 1,
   "id": "2817260e",
   "metadata": {},
   "outputs": [
    {
     "name": "stdout",
     "output_type": "stream",
     "text": [
      "Enter a string :monali moanlisha\n",
      "MONALI MOANLISHA\n"
     ]
    }
   ],
   "source": [
    "#Python Program to Convert String to Uppercase\n",
    "str =input(\"Enter a string :\")\n",
    "print(str.upper())"
   ]
  },
  {
   "cell_type": "code",
   "execution_count": 1,
   "id": "64e05c90",
   "metadata": {},
   "outputs": [
    {
     "name": "stdout",
     "output_type": "stream",
     "text": [
      "Enter a string :Hello,\n",
      "Enter another string :I'm Monali\n",
      "Hello,I'm Monali\n"
     ]
    }
   ],
   "source": [
    "#Python Program to Concatenate Strings\n",
    "str1 = input(\"Enter a string :\")\n",
    "str2 = input(\"Enter another string :\")\n",
    "print(str1+str2)"
   ]
  },
  {
   "cell_type": "code",
   "execution_count": 2,
   "id": "2a04d82f",
   "metadata": {},
   "outputs": [
    {
     "name": "stdout",
     "output_type": "stream",
     "text": [
      "Enter a string :Hey\n",
      "Enter another string :Hi\n",
      "Are the above strings are same ?\n",
      "No\n"
     ]
    }
   ],
   "source": [
    "#python program to compare strings\n",
    "str1 = input(\"Enter a string :\")\n",
    "str2 = input(\"Enter another string :\")\n",
    "print(\"Are the above strings are same ?\")\n",
    "if str1 == str2 :\n",
    "    print(\"Yes\")\n",
    "else :\n",
    "    print(\"No\")"
   ]
  },
  {
   "cell_type": "code",
   "execution_count": 8,
   "id": "9454bfa4",
   "metadata": {
    "scrolled": true
   },
   "outputs": [
    {
     "name": "stdout",
     "output_type": "stream",
     "text": [
      "Enter a string :monali\n",
      "The alternate case in string : MoNaLi\n"
     ]
    }
   ],
   "source": [
    "# Alternate cases in String\n",
    "str =input(\"Enter a string :\")\n",
    "res = \"\"\n",
    "for i in range(len(str)) :\n",
    "    if not i % 2 :\n",
    "        res = res +str[i].upper()\n",
    "    else :\n",
    "        res = res +str[i].lower()\n",
    "print(\"The alternate case in string :\",res)        "
   ]
  },
  {
   "cell_type": "code",
   "execution_count": 14,
   "id": "2a00f9fc",
   "metadata": {},
   "outputs": [
    {
     "name": "stdout",
     "output_type": "stream",
     "text": [
      "Enter a string :MonAli\n",
      "The number of characters in lower case : 4\n"
     ]
    }
   ],
   "source": [
    "# Counting total lower Case in a string\n",
    "str =input(\"Enter a string :\")\n",
    "str.casefold()\n",
    "count = 0\n",
    "for i in str :\n",
    "    if (i.islower()) :\n",
    "        count += 1\n",
    "print(\"The number of characters in lower case :\",count)        "
   ]
  },
  {
   "cell_type": "code",
   "execution_count": 15,
   "id": "3f1fe29c",
   "metadata": {},
   "outputs": [
    {
     "name": "stdout",
     "output_type": "stream",
     "text": [
      "Enter a string :MONali\n",
      "The number of characters in upper case : 3\n"
     ]
    }
   ],
   "source": [
    "# Counting total Upper Case in a string\n",
    "str =input(\"Enter a string :\")\n",
    "str.casefold()\n",
    "count = 0\n",
    "for i in str :\n",
    "    if (i.isupper()) :\n",
    "        count += 1\n",
    "print(\"The number of characters in upper case :\",count)        "
   ]
  },
  {
   "cell_type": "code",
   "execution_count": 16,
   "id": "e84f4793",
   "metadata": {},
   "outputs": [
    {
     "name": "stdout",
     "output_type": "stream",
     "text": [
      "Enter a string :M167on23a056l8i95\n",
      "The number of digits in the given string : 11\n"
     ]
    }
   ],
   "source": [
    "# Counting total Digits in a string\n",
    "str =input(\"Enter a string :\")\n",
    "count = 0\n",
    "for i in str :\n",
    "    if (i.isdigit()) :\n",
    "        count += 1\n",
    "print(\"The number of digits in the given string :\",count)        "
   ]
  },
  {
   "cell_type": "code",
   "execution_count": 17,
   "id": "a65d02e8",
   "metadata": {},
   "outputs": [
    {
     "name": "stdout",
     "output_type": "stream",
     "text": [
      "Enter a string :Mo346edhjs892nsdt89ww183\n",
      "The number of alphabets in the above string : 13\n",
      "The number of digits in the above string : 11\n"
     ]
    }
   ],
   "source": [
    "# Counting total alphanumeric in a string\n",
    "str =input(\"Enter a string :\")\n",
    "alphabetic = digit = 0\n",
    "for i in str :\n",
    "    if (i.isalpha()) :\n",
    "        alphabetic += 1\n",
    "    elif (i.isdigit()) :\n",
    "        digit += 1\n",
    "    else :\n",
    "        print(\"There is no cahracter and digit\")\n",
    "print(\"The number of alphabets in the above string :\",alphabetic)\n",
    "print(\"The number of digits in the above string :\",digit)"
   ]
  },
  {
   "cell_type": "code",
   "execution_count": 22,
   "id": "703a701f",
   "metadata": {},
   "outputs": [
    {
     "name": "stdout",
     "output_type": "stream",
     "text": [
      "Enter a string :@\n",
      "There is no alphabet and digit in this alphanumeric string\n"
     ]
    }
   ],
   "source": [
    "# check if all char are alphanumeric\n",
    "str =input(\"Enter a string :\")\n",
    "for i in str :\n",
    "    if (i.isalpha() and i.isdigit()) :\n",
    "        print(\"It contains alphanumeric\")\n",
    "    else :\n",
    "        print(\"There is no alphabet and digit in this alphanumeric string\")"
   ]
  },
  {
   "cell_type": "code",
   "execution_count": 27,
   "id": "447d921a",
   "metadata": {},
   "outputs": [
    {
     "name": "stdout",
     "output_type": "stream",
     "text": [
      "Enter a string :1mon\n",
      "The given string doesnot contain digit\n"
     ]
    }
   ],
   "source": [
    "# test if string contains digits\n",
    "str =input(\"Enter a string :\")\n",
    "if (str.isdigit()) :\n",
    "    print(\"The given string contains  digit\")\n",
    "else :\n",
    "    print(\"The given string doesnot contain digit\")"
   ]
  },
  {
   "cell_type": "code",
   "execution_count": 28,
   "id": "99eac4b1",
   "metadata": {},
   "outputs": [
    {
     "name": "stdout",
     "output_type": "stream",
     "text": [
      "Enter a string :MONALI\n",
      "It contains upper case character\n"
     ]
    }
   ],
   "source": [
    "# Test if string contains upper case\n",
    "str =input(\"Enter a string :\")\n",
    "if (str.isupper()) :\n",
    "    print(\"It contains upper case character\")\n",
    "else :\n",
    "    print(\"It doesnot contain upper case character\")"
   ]
  },
  {
   "cell_type": "code",
   "execution_count": 29,
   "id": "e4c42b26",
   "metadata": {},
   "outputs": [
    {
     "name": "stdout",
     "output_type": "stream",
     "text": [
      "Enter a string :Hello\n",
      "It starts with H\n"
     ]
    }
   ],
   "source": [
    "# Test if string starts with H\n",
    "str =input(\"Enter a string :\")\n",
    "if (str[0] == 'H') :\n",
    "    print(\"It starts with H\")\n",
    "else :\n",
    "    print(\"It doesnot start with H\")"
   ]
  }
 ],
 "metadata": {
  "kernelspec": {
   "display_name": "Python 3",
   "language": "python",
   "name": "python3"
  },
  "language_info": {
   "codemirror_mode": {
    "name": "ipython",
    "version": 3
   },
   "file_extension": ".py",
   "mimetype": "text/x-python",
   "name": "python",
   "nbconvert_exporter": "python",
   "pygments_lexer": "ipython3",
   "version": "3.8.8"
  }
 },
 "nbformat": 4,
 "nbformat_minor": 5
}
