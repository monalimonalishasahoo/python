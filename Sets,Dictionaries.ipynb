{
 "cells": [
  {
   "cell_type": "code",
   "execution_count": 3,
   "id": "f996c883",
   "metadata": {},
   "outputs": [
    {
     "name": "stdout",
     "output_type": "stream",
     "text": [
      "{1, 2, 3, 4, 5, 6}\n",
      "{3, 4}\n",
      "{1, 2}\n"
     ]
    }
   ],
   "source": [
    "#Python Program to Illustrate Different Set Operations\n",
    "l1={1,2,3,4}\n",
    "l2={3,4,5,6}\n",
    "x=l1.union(l2)\n",
    "print(x)\n",
    "y=l1.intersection(l2)\n",
    "print(y)\n",
    "z=l1.difference(l2)\n",
    "print(z)"
   ]
  },
  {
   "cell_type": "code",
   "execution_count": 5,
   "id": "3e0e3984",
   "metadata": {},
   "outputs": [
    {
     "name": "stdout",
     "output_type": "stream",
     "text": [
      "{1, 2, 3, 4, 5, 6}\n"
     ]
    }
   ],
   "source": [
    "# Join Two Sets\n",
    "l1={1,2,3,4}\n",
    "l2={3,4,5,6}\n",
    "l1.update(l2)\n",
    "print(l1)"
   ]
  },
  {
   "cell_type": "code",
   "execution_count": 6,
   "id": "d1ace657",
   "metadata": {},
   "outputs": [
    {
     "name": "stdout",
     "output_type": "stream",
     "text": [
      "{'Monali', 'sonu'}\n"
     ]
    }
   ],
   "source": [
    "#keep only the items that are present in both sets\n",
    "l1={'Monali','selly','mamata','sonu'}\n",
    "l2={'Naba','mama','Monali','sonu'}\n",
    "l=l1.intersection(l2)\n",
    "print(l)"
   ]
  },
  {
   "cell_type": "code",
   "execution_count": 14,
   "id": "a66ff3f1",
   "metadata": {},
   "outputs": [
    {
     "name": "stdout",
     "output_type": "stream",
     "text": [
      "The common elements of given sets are : {4, 5, 6}\n",
      "After removing the common elements : {1, 2, 3}\n"
     ]
    }
   ],
   "source": [
    "# Given a two sets find the intersection and remove those elements from the first set\n",
    "l1={1,2,3,4,5,6}\n",
    "l2={4,5,6,7,8,9}\n",
    "x=l1.intersection(l2)\n",
    "print(\"The common elements of given sets are :\",x)\n",
    "y=l1.difference(x)\n",
    "print(\"After removing the common elements :\",y)"
   ]
  },
  {
   "cell_type": "code",
   "execution_count": 29,
   "id": "1e0c7dbb",
   "metadata": {},
   "outputs": [
    {
     "name": "stdout",
     "output_type": "stream",
     "text": [
      "{\n",
      "                                                                                                    \"name\": \"Monali\",\n",
      "                                                                                                    \"roll no\": \"33\",\n",
      "                                                                                                    \"branch\": \"cse\"\n",
      "}\n"
     ]
    }
   ],
   "source": [
    "# Convert dictionary to JSON\n",
    "import json\n",
    "d={\n",
    "    'name':'Monali',\n",
    "    'roll no':'33',\n",
    "    'branch':'cse'\n",
    "}\n",
    "x=json.dumps(d,indent=100)\n",
    "print(x)"
   ]
  },
  {
   "cell_type": "code",
   "execution_count": 30,
   "id": "e440637d",
   "metadata": {},
   "outputs": [
    {
     "name": "stdout",
     "output_type": "stream",
     "text": [
      "{1: 10, 2: 20, 3: 30, 4: 40, 5: 50}\n"
     ]
    }
   ],
   "source": [
    "# Create and print a dictionary\n",
    "d={1:10,2:20,3:30,4:40,5:50}\n",
    "print(d)"
   ]
  },
  {
   "cell_type": "code",
   "execution_count": 31,
   "id": "69a519ef",
   "metadata": {},
   "outputs": [
    {
     "name": "stdout",
     "output_type": "stream",
     "text": [
      "5\n"
     ]
    }
   ],
   "source": [
    "# Calculate the length of dictionary\n",
    "print(len(d))"
   ]
  }
 ],
 "metadata": {
  "kernelspec": {
   "display_name": "Python 3",
   "language": "python",
   "name": "python3"
  },
  "language_info": {
   "codemirror_mode": {
    "name": "ipython",
    "version": 3
   },
   "file_extension": ".py",
   "mimetype": "text/x-python",
   "name": "python",
   "nbconvert_exporter": "python",
   "pygments_lexer": "ipython3",
   "version": "3.8.8"
  }
 },
 "nbformat": 4,
 "nbformat_minor": 5
}
