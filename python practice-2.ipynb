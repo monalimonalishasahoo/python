{
 "cells": [
  {
   "cell_type": "code",
   "execution_count": 15,
   "id": "3bccb2f1",
   "metadata": {},
   "outputs": [
    {
     "name": "stdout",
     "output_type": "stream",
     "text": [
      "Enter a number:265\n",
      "The sum of the cube of each digit is: 349\n"
     ]
    }
   ],
   "source": [
    "#sum of the cube of each digit\n",
    "num = int(input(\"Enter a number:\"))\n",
    "sum = 0\n",
    "while (num>0) :\n",
    "    d = num % 10\n",
    "    d = d*d*d\n",
    "    sum = sum + d\n",
    "    num = num // 10\n",
    "print(\"The sum of the cube of each digit is:\",sum)"
   ]
  },
  {
   "cell_type": "code",
   "execution_count": 11,
   "id": "b0975638",
   "metadata": {},
   "outputs": [
    {
     "name": "stdout",
     "output_type": "stream",
     "text": [
      "Enter the lowest range :2\n",
      "Eneter the highest range :10000\n",
      "153 is an Armstrong number\n",
      "370 is an Armstrong number\n",
      "371 is an Armstrong number\n",
      "407 is an Armstrong number\n"
     ]
    }
   ],
   "source": [
    "#find armstrong number in an interval\n",
    "lower_value = int(input(\"Enter the lowest range :\"))\n",
    "upper_value = int(input(\"Eneter the highest range :\"))\n",
    "for i in range (lower_value,upper_value+1) :\n",
    "    sum = 0\n",
    "    temp = i\n",
    "    while temp > 0 :\n",
    "        num = temp % 10\n",
    "        sum += num ** 3\n",
    "        temp //= 10\n",
    "    if i == sum :\n",
    "        print(i,\"is an Armstrong number\")  "
   ]
  },
  {
   "cell_type": "code",
   "execution_count": 12,
   "id": "09990cd1",
   "metadata": {},
   "outputs": [
    {
     "name": "stdout",
     "output_type": "stream",
     "text": [
      "Enter a number :6\n",
      "summation is : 21\n"
     ]
    }
   ],
   "source": [
    "#find the sum of natural numbers\n",
    "num =int(input(\"Enter a number :\"))\n",
    "sum =0\n",
    "for i in range (0,num+1) :\n",
    "    sum = sum +i\n",
    "print(\"summation is :\",sum)\n",
    "    "
   ]
  },
  {
   "cell_type": "code",
   "execution_count": 14,
   "id": "a490d6ce",
   "metadata": {},
   "outputs": [
    {
     "name": "stdout",
     "output_type": "stream",
     "text": [
      "Enter the number of terms :5\n",
      "0 power of 2 is  1\n",
      "1 power of 2 is  2\n",
      "2 power of 2 is  4\n",
      "3 power of 2 is  8\n",
      "4 power of 2 is  16\n"
     ]
    }
   ],
   "source": [
    "#display the power of 2 using anonymous function\n",
    "t=int(input(\"Enter the number of terms :\"))\n",
    "result = list(map(lambda x: 2 ** x, range(t)))\n",
    "for i in range (t) :\n",
    "    print(i,\"power of 2 is \",result[i])"
   ]
  },
  {
   "cell_type": "code",
   "execution_count": 16,
   "id": "67496dfd",
   "metadata": {},
   "outputs": [
    {
     "name": "stdout",
     "output_type": "stream",
     "text": [
      "Enter a number :15\n",
      "Enter the divisor :3\n",
      "15  is divisible by  3\n"
     ]
    }
   ],
   "source": [
    "#find a number is divisible by another number or not\n",
    "num=int(input(\"Enter a number :\"))\n",
    "divisor = int(input(\"Enter the divisor :\"))\n",
    "if num % divisor == 0 :\n",
    "    print(num,\" is divisible by \",divisor)\n",
    "else :\n",
    "    print(num,\" is  not divisible by \",divisor)"
   ]
  },
  {
   "cell_type": "code",
   "execution_count": 2,
   "id": "0cb3c1f4",
   "metadata": {},
   "outputs": [
    {
     "name": "stdout",
     "output_type": "stream",
     "text": [
      "Enter a character :a\n",
      "97\n"
     ]
    }
   ],
   "source": [
    "#find ASCII value of a character\n",
    "char =input(\"Enter a character :\")\n",
    "print(ord(char))"
   ]
  },
  {
   "cell_type": "code",
   "execution_count": 6,
   "id": "ecb40d62",
   "metadata": {},
   "outputs": [
    {
     "name": "stdout",
     "output_type": "stream",
     "text": [
      "Enter a number :2\n",
      "Enter another number :4\n",
      "The GCD is : 2\n"
     ]
    }
   ],
   "source": [
    "#find gcd\n",
    "num1 = int(input(\"Enter a number :\"))\n",
    "num2 =int(input(\"Enter another number :\"))\n",
    "if num1 > num2 :\n",
    "    small = num2\n",
    "else :\n",
    "    small =num1\n",
    "for i in range (1,small + 1) :\n",
    "    if((num1 % i == 0) and (num2 % i == 0)):\n",
    "        gcd = i \n",
    "print(\"The GCD is :\",gcd)        "
   ]
  },
  {
   "cell_type": "code",
   "execution_count": 7,
   "id": "b6448380",
   "metadata": {},
   "outputs": [
    {
     "name": "stdout",
     "output_type": "stream",
     "text": [
      "Enter a number :2\n",
      "Enter another number :4\n",
      "The LCM is : 4\n"
     ]
    }
   ],
   "source": [
    "#find lcm\n",
    "num1 = int(input(\"Enter a number :\"))\n",
    "num2 =int(input(\"Enter another number :\"))\n",
    "if num1 > num2 :\n",
    "    greater =num1\n",
    "else :\n",
    "    greater =num2\n",
    "while(True):\n",
    "    if((greater % num1 == 0) and (greater % num2 == 0)):\n",
    "        lcm = greater\n",
    "        break\n",
    "        greater += 1  \n",
    "print(\"The LCM is :\",lcm)        "
   ]
  },
  {
   "cell_type": "code",
   "execution_count": 10,
   "id": "06b3a0b1",
   "metadata": {},
   "outputs": [
    {
     "name": "stdout",
     "output_type": "stream",
     "text": [
      "Enter a number :3\n",
      "Enter another number :9\n",
      "The LCM is : 9\n"
     ]
    }
   ],
   "source": [
    "#find lcm using gcd\n",
    "num1 = int(input(\"Enter a number :\"))\n",
    "num2 =int(input(\"Enter another number :\"))\n",
    "x = num1 % num2\n",
    "lcm = (num1*num2) // x\n",
    "print(\"The LCM is :\",lcm)\n"
   ]
  }
 ],
 "metadata": {
  "kernelspec": {
   "display_name": "Python 3",
   "language": "python",
   "name": "python3"
  },
  "language_info": {
   "codemirror_mode": {
    "name": "ipython",
    "version": 3
   },
   "file_extension": ".py",
   "mimetype": "text/x-python",
   "name": "python",
   "nbconvert_exporter": "python",
   "pygments_lexer": "ipython3",
   "version": "3.8.8"
  }
 },
 "nbformat": 4,
 "nbformat_minor": 5
}
