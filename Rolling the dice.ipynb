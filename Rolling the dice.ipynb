{
 "cells": [
  {
   "cell_type": "code",
   "execution_count": 3,
   "id": "bec67980",
   "metadata": {},
   "outputs": [
    {
     "name": "stdout",
     "output_type": "stream",
     "text": [
      "Start the game...\n",
      "Want to roll ?Y\n",
      "Rolling the dices...\n",
      "The values are \n",
      "6\n",
      "5\n",
      "Roll the dices again ?N\n",
      "Want to roll ?N\n",
      "Thanks for playing.\n"
     ]
    }
   ],
   "source": [
    "import random\n",
    "min_value = 1\n",
    "max_value = 6\n",
    "print(\"Start the game...\")\n",
    "roll =\"none\"\n",
    "while roll!= \"Yes\" or \"Y\" :\n",
    "    roll=input(\"Want to roll ?\")\n",
    "    if roll==\"Yes\" or roll==\"Y\" :\n",
    "        print(\"Rolling the dices...\")\n",
    "        print(\"The values are \")\n",
    "        print(random.randint(min_value,max_value))\n",
    "        print(random.randint(min_value,max_value))\n",
    "        roll = input(\"Roll the dices again ?\")\n",
    "        continue\n",
    "    else :\n",
    "        print(\"Thanks for playing.\")\n",
    "        break"
   ]
  },
  {
   "cell_type": "code",
   "execution_count": null,
   "id": "36b05bd4",
   "metadata": {},
   "outputs": [],
   "source": []
  }
 ],
 "metadata": {
  "kernelspec": {
   "display_name": "Python 3",
   "language": "python",
   "name": "python3"
  }
 },
 "nbformat": 4,
 "nbformat_minor": 5
}
