{
 "cells": [
  {
   "cell_type": "code",
   "execution_count": 1,
   "id": "1a45fbe3",
   "metadata": {},
   "outputs": [
    {
     "name": "stdout",
     "output_type": "stream",
     "text": [
      "The factor of 6\n",
      "1\n",
      "2\n",
      "3\n",
      "6\n"
     ]
    }
   ],
   "source": [
    "#find factor of a number\n",
    "num = int(input(\"The factor of \"))\n",
    "for i in range(1, num + 1) :\n",
    "    if num % i == 0:\n",
    "        print(i)"
   ]
  },
  {
   "cell_type": "code",
   "execution_count": 5,
   "id": "1e9902ec",
   "metadata": {},
   "outputs": [
    {
     "name": "stdout",
     "output_type": "stream",
     "text": [
      "Enter the number of terms :5\n",
      "Fibonacci sequence:\n",
      "0\n",
      "1\n",
      "1\n",
      "2\n",
      "3\n"
     ]
    }
   ],
   "source": [
    "#fibonacci sequence using recurssion\n",
    "def recur_fib(n):\n",
    "    if n <= 1:\n",
    "        return n\n",
    "    else:\n",
    "        return(recur_fib(n-1) + recur_fib(n-2))\n",
    "t=int(input(\"Enter the number of terms :\"))\n",
    "if t <= 0:\n",
    "    print(\"Please enter a positive integer :\")\n",
    "else:\n",
    "    print(\"Fibonacci sequence:\")\n",
    "    for i in range(t):\n",
    "        print(recur_fib(i))"
   ]
  },
  {
   "cell_type": "code",
   "execution_count": 3,
   "id": "656315c2",
   "metadata": {},
   "outputs": [
    {
     "name": "stdout",
     "output_type": "stream",
     "text": [
      "Enter the no. of terms :3\n",
      "The Sum is : 6\n"
     ]
    }
   ],
   "source": [
    "#find the sum of natural numbers using recurssion\n",
    "def rec_sum(n) :\n",
    "    if n <= 1 :\n",
    "        return n\n",
    "    else :\n",
    "        return (n+rec_sum(n-1))\n",
    "\n",
    "num = int(input(\"Enter the no. of terms :\"))\n",
    "if num < 0 :\n",
    "    print(\"Enter a possitive number\")\n",
    "else :\n",
    "    print(\"The Sum is :\",rec_sum(num))\n",
    "        \n"
   ]
  },
  {
   "cell_type": "code",
   "execution_count": 1,
   "id": "af9cf33a",
   "metadata": {},
   "outputs": [
    {
     "name": "stdout",
     "output_type": "stream",
     "text": [
      "Enter a number :5\n",
      "Factorial of  5  is  120\n"
     ]
    }
   ],
   "source": [
    "#find the factorial of a number using recurssion\n",
    "def rec_fac(n) :\n",
    "    if n == 1 :\n",
    "        return n\n",
    "    else :\n",
    "        return n*rec_fac(n-1)  \n",
    "    \n",
    "num=int(input(\"Enter a number :\"))\n",
    "if num < 0 :\n",
    "    print(\"Enter a possitive number\")\n",
    "elif num == 0 :\n",
    "    print(\"Factorial of 0 is 1\")\n",
    "else :\n",
    "    print(\"Factorial of \",num,\" is \",rec_fac(num)) "
   ]
  },
  {
   "cell_type": "code",
   "execution_count": 4,
   "id": "85e6ca9b",
   "metadata": {},
   "outputs": [
    {
     "name": "stdout",
     "output_type": "stream",
     "text": [
      "Enter the number :3\n",
      "Move disk 1 from source A to destination B\n",
      "Move disk 2 from source A to destination C\n",
      "Move disk 1 from source B to destination C\n",
      "Move disk 3 from source A to destination B\n",
      "Move disk 1 from source C to destination A\n",
      "Move disk 2 from source C to destination B\n",
      "Move disk 1 from source A to destination B\n"
     ]
    }
   ],
   "source": [
    "#solve tower of hanoi\n",
    "def TowerOfHanoi(n , source, destination, auxiliary):\n",
    "    if n==1:\n",
    "        print (\"Move disk 1 from source\",source,\"to destination\",destination)\n",
    "        return\n",
    "    TowerOfHanoi(n-1, source, auxiliary, destination)\n",
    "    print(\"Move disk\",n,\"from source\",source,\"to destination\",destination)\n",
    "    TowerOfHanoi(n-1, auxiliary, destination, source)\n",
    "          \n",
    "n =int(input(\"Enter the number :\"))\n",
    "TowerOfHanoi(n,'A','B','C') "
   ]
  },
  {
   "cell_type": "code",
   "execution_count": 7,
   "id": "1714a31f",
   "metadata": {},
   "outputs": [
    {
     "name": "stdout",
     "output_type": "stream",
     "text": [
      "Cosine angle of  1.5707963267948966  is :  6.123233995736766e-17\n"
     ]
    }
   ],
   "source": [
    "#find angle of cosine\n",
    "import math\n",
    "a = math.radians(90)\n",
    "print(\"Cosine angle of \",a,\" is : \",math.cos(a))"
   ]
  },
  {
   "cell_type": "code",
   "execution_count": 8,
   "id": "cc73e6e7",
   "metadata": {},
   "outputs": [
    {
     "name": "stdout",
     "output_type": "stream",
     "text": [
      "Enter the radius of cylinder :5.6\n",
      "Enter the height of cylinder :10.2\n",
      "The volume of the cylinder is : 1004.9075252890741\n"
     ]
    }
   ],
   "source": [
    "#calculate volume of cylinder\n",
    "import math\n",
    "r =float(input(\"Enter the radius of cylinder :\"))\n",
    "h = float(input(\"Enter the height of cylinder :\"))\n",
    "vol = math.pi*pow(r,2)*h\n",
    "print(\"The volume of the cylinder is :\",vol)\n"
   ]
  },
  {
   "cell_type": "code",
   "execution_count": 9,
   "id": "fea9a2b5",
   "metadata": {},
   "outputs": [
    {
     "name": "stdout",
     "output_type": "stream",
     "text": [
      "Enter the principle value :8\n",
      "The time period is :5\n",
      "The rate of intrest is :2\n",
      "The simple intrest is : 0.8\n"
     ]
    }
   ],
   "source": [
    "#calculate simple intrest\n",
    "p=int(input(\"Enter the principle value :\"))\n",
    "t=int(input(\"The time period is :\"))\n",
    "r=int(input(\"The rate of intrest is :\"))\n",
    "si=(p*t*r)/100\n",
    "print(\"The simple intrest is :\",si)"
   ]
  },
  {
   "cell_type": "code",
   "execution_count": 10,
   "id": "0c0578ce",
   "metadata": {},
   "outputs": [
    {
     "name": "stdout",
     "output_type": "stream",
     "text": [
      "The radius of thr circle is :4\n",
      "The diameter of the the circle is : 2.0\n",
      "The circumference of the circle is : 25.132741228718345\n",
      "The area of the circle is : 50.26548245743669\n"
     ]
    }
   ],
   "source": [
    "#find diameter,circumference and area of a circle\n",
    "import math\n",
    "r=int(input(\"The radius of thr circle is :\"))\n",
    "d=r/2\n",
    "print (\"The diameter of the the circle is :\",d )\n",
    "c=2*math.pi*r\n",
    "print(\"The circumference of the circle is :\",c)\n",
    "a=math.pi*pow(r,2)\n",
    "print(\"The area of the circle is :\",a)\n"
   ]
  }
 ],
 "metadata": {
  "kernelspec": {
   "display_name": "Python 3",
   "language": "python",
   "name": "python3"
  },
  "language_info": {
   "codemirror_mode": {
    "name": "ipython",
    "version": 3
   },
   "file_extension": ".py",
   "mimetype": "text/x-python",
   "name": "python",
   "nbconvert_exporter": "python",
   "pygments_lexer": "ipython3",
   "version": "3.8.8"
  }
 },
 "nbformat": 4,
 "nbformat_minor": 5
}
