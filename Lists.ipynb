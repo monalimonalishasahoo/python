{
 "cells": [
  {
   "cell_type": "code",
   "execution_count": 1,
   "id": "26450f7b",
   "metadata": {},
   "outputs": [
    {
     "name": "stdout",
     "output_type": "stream",
     "text": [
      "[0, 1, 2, 3, 4]\n"
     ]
    }
   ],
   "source": [
    "# Generate a list by list comprehension\n",
    "l = [x*1 for x in range(5)]\n",
    "print(l)"
   ]
  },
  {
   "cell_type": "code",
   "execution_count": 10,
   "id": "dea75f82",
   "metadata": {},
   "outputs": [
    {
     "name": "stdout",
     "output_type": "stream",
     "text": [
      "[0, 1, 2, 3, 4, 6, 7]\n"
     ]
    }
   ],
   "source": [
    "#Python program to Sort the list in ascending order\n",
    "l = [6,3,7,4,2,0,1]\n",
    "l.sort()\n",
    "print(l)"
   ]
  },
  {
   "cell_type": "code",
   "execution_count": 11,
   "id": "e6572888",
   "metadata": {},
   "outputs": [
    {
     "name": "stdout",
     "output_type": "stream",
     "text": [
      "[7, 6, 4, 3, 2, 1, 0]\n"
     ]
    }
   ],
   "source": [
    "#Python program to Sort the list in descending order\n",
    "l = [6,3,7,4,2,0,1]\n",
    "l.sort(reverse = True)\n",
    "print(l)"
   ]
  },
  {
   "cell_type": "code",
   "execution_count": 15,
   "id": "246c74ad",
   "metadata": {},
   "outputs": [
    {
     "name": "stdout",
     "output_type": "stream",
     "text": [
      "Current List : ['apple', 'banana', 'cherry', 'mango']\n",
      "Updated List: ['apple', 'banana', 'mango']\n",
      "Removed item is : cherry\n"
     ]
    }
   ],
   "source": [
    "#Removes the item at the given index from the list and returns the removed item\n",
    "list = ['apple','banana','cherry','mango']\n",
    "print(\"Current List :\",list)\n",
    "ret = list.pop(2)\n",
    "print(\"Updated List:\",list)\n",
    "print(\"Removed item is :\",ret)"
   ]
  },
  {
   "cell_type": "code",
   "execution_count": 21,
   "id": "a3844698",
   "metadata": {},
   "outputs": [
    {
     "name": "stdout",
     "output_type": "stream",
     "text": [
      "2  has occured: 3  times\n"
     ]
    }
   ],
   "source": [
    "#Returns the number of times the specified element appears in the list\n",
    "l =[1,7,4,9,1,5,2,2,2,6,0,5,3,7]\n",
    "a = 2\n",
    "count = 0\n",
    "for i in l :\n",
    "    if i==a :\n",
    "        count += 1\n",
    "print(a ,\" has occured:\",count,\" times\")"
   ]
  },
  {
   "cell_type": "code",
   "execution_count": 23,
   "id": "36dc6bfb",
   "metadata": {},
   "outputs": [
    {
     "name": "stdout",
     "output_type": "stream",
     "text": [
      "{'a': 4, 'e': 0, 'i': 3, 'o': 4, 'u': 0}\n"
     ]
    }
   ],
   "source": [
    "#Python Program to Count the Number of Each Vowel Using a list and a dictionary comprehension\n",
    "a = \"Hi I'm Monali Monalisha Sahoo\"\n",
    "a.casefold()\n",
    "res ={x:sum([1 for char in a if char == x])for x in 'aeiou'}\n",
    "print(res)"
   ]
  },
  {
   "cell_type": "code",
   "execution_count": 36,
   "id": "f912c30c",
   "metadata": {
    "scrolled": true
   },
   "outputs": [
    {
     "name": "stdout",
     "output_type": "stream",
     "text": [
      "[1, 2, 3]\n",
      "[4, 5, 6]\n",
      "[7, 8, 9]\n"
     ]
    }
   ],
   "source": [
    "#Python Program Given a list slice it into a 3 equal chunks and revert each list\n",
    "l = [1,2,3,4,5,6,7,8,9]\n",
    "print(l[0:3])\n",
    "print(l[3:6])\n",
    "print(l[6:9])"
   ]
  },
  {
   "cell_type": "code",
   "execution_count": 40,
   "id": "0681eeeb",
   "metadata": {},
   "outputs": [
    {
     "name": "stdout",
     "output_type": "stream",
     "text": [
      "[3, 2, 1]\n",
      "[6, 5, 4]\n",
      "[9, 8, 7]\n"
     ]
    }
   ],
   "source": [
    "print(l[-7:-10:-1])\n",
    "print(l[-4:-7:-1])\n",
    "print(l[-1:-4:-1])"
   ]
  },
  {
   "cell_type": "code",
   "execution_count": 43,
   "id": "22651df5",
   "metadata": {},
   "outputs": [
    {
     "name": "stdout",
     "output_type": "stream",
     "text": [
      "['A', 'B', 'C']\n"
     ]
    }
   ],
   "source": [
    "# Set the values in the new list to upper case \n",
    "l = ['a','b','c']\n",
    "a = [i.upper() for i in l]\n",
    "print(a)"
   ]
  },
  {
   "cell_type": "code",
   "execution_count": 44,
   "id": "22b5e7a6",
   "metadata": {},
   "outputs": [
    {
     "name": "stdout",
     "output_type": "stream",
     "text": [
      "[1, 7, 3, 8, 4, 2, 9, 5, 6, 0]\n"
     ]
    }
   ],
   "source": [
    "#Keep All items from List But NOT the Duplicates\n",
    "l =[1,7,3,8,4,4,2,9,5,1,6,3,9,0,3,2,8]\n",
    "x =[]\n",
    "for i in l :\n",
    "    if i not in x :\n",
    "        x.append(i)\n",
    "print(x)        "
   ]
  },
  {
   "cell_type": "code",
   "execution_count": 45,
   "id": "9f33b722",
   "metadata": {},
   "outputs": [
    {
     "name": "stdout",
     "output_type": "stream",
     "text": [
      "The largest element is : 9\n"
     ]
    }
   ],
   "source": [
    "# Return the largest item from the given list\n",
    "l = [4,7,3,9,5,1,0]\n",
    "l.sort()\n",
    "print(\"The largest element is :\",l[-1])"
   ]
  },
  {
   "cell_type": "code",
   "execution_count": 47,
   "id": "dc2c4e4d",
   "metadata": {},
   "outputs": [
    {
     "name": "stdout",
     "output_type": "stream",
     "text": [
      "The largest number is : 16\n",
      "The smallest number is : 0\n"
     ]
    }
   ],
   "source": [
    "#Python Program to find Largest and Smallest Number in a List\n",
    "l = [5,8,2,9,1,16,8,0,]\n",
    "l.sort()\n",
    "print(\"The largest number is :\",l[-1])\n",
    "print(\"The smallest number is :\",l[0])"
   ]
  },
  {
   "cell_type": "code",
   "execution_count": 50,
   "id": "9a34dc9d",
   "metadata": {},
   "outputs": [
    {
     "name": "stdout",
     "output_type": "stream",
     "text": [
      "['apple', 'banana', 'cherry', 'mango', 'litchi', 'orange']\n"
     ]
    }
   ],
   "source": [
    "#Python Program to Add two Lists\n",
    "l1=['apple','banana','cherry']\n",
    "l2=['mango','litchi','orange']\n",
    "l=l1+l2\n",
    "print(l)"
   ]
  },
  {
   "cell_type": "code",
   "execution_count": 52,
   "id": "d504b0dc",
   "metadata": {},
   "outputs": [
    {
     "name": "stdout",
     "output_type": "stream",
     "text": [
      "All elements are not identical\n"
     ]
    }
   ],
   "source": [
    "# Find if all elements in a list are identical\n",
    "l = ['Monali','moNali','monAlI','MonAlI']\n",
    "x = l[0]\n",
    "y = True\n",
    "for i in l :\n",
    "    if x != i :\n",
    "        y = False\n",
    "        break ;\n",
    "if(y==True):\n",
    "    print(\"All elements are identical\")\n",
    "else :\n",
    "    print(\"All elements are not identical\")"
   ]
  }
 ],
 "metadata": {
  "kernelspec": {
   "display_name": "Python 3",
   "language": "python",
   "name": "python3"
  },
  "language_info": {
   "codemirror_mode": {
    "name": "ipython",
    "version": 3
   },
   "file_extension": ".py",
   "mimetype": "text/x-python",
   "name": "python",
   "nbconvert_exporter": "python",
   "pygments_lexer": "ipython3",
   "version": "3.8.8"
  }
 },
 "nbformat": 4,
 "nbformat_minor": 5
}
