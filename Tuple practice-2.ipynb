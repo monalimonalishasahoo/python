{
 "cells": [
  {
   "cell_type": "code",
   "execution_count": 1,
   "id": "04723cf4",
   "metadata": {},
   "outputs": [
    {
     "name": "stdout",
     "output_type": "stream",
     "text": [
      "The given list is : [1, 2, 3, 4, 5, 6]\n",
      "The tuple is : (1, 2, 3, 4, 5, 6)\n"
     ]
    }
   ],
   "source": [
    "# Write a Python program to convert a list to a tuple.\n",
    "l=[1,2,3,4,5,6]\n",
    "print(\"The given list is :\",l)\n",
    "t=tuple(l)\n",
    "print(\"The tuple is :\",t)"
   ]
  },
  {
   "cell_type": "code",
   "execution_count": 2,
   "id": "4fa0abe1",
   "metadata": {},
   "outputs": [
    {
     "name": "stdout",
     "output_type": "stream",
     "text": [
      "The given tuple is : ('m', 'o', 'n', 'a', 'l', 'i')\n",
      "The updated tuple is : ('m', 'o', 'n', 'l', 'i')\n"
     ]
    }
   ],
   "source": [
    "#Write a Python program to remove an item from a tuple.\n",
    "t=('m','o','n','a','l','i')\n",
    "print(\"The given tuple is :\",t)\n",
    "x=t[:3]+t[4:]\n",
    "print(\"The updated tuple is :\",x)"
   ]
  },
  {
   "cell_type": "code",
   "execution_count": 3,
   "id": "0409bff6",
   "metadata": {},
   "outputs": [
    {
     "name": "stdout",
     "output_type": "stream",
     "text": [
      "('m', 'o', 'n', 'a', 'l', 'i')\n",
      "('m', 'o', 'n', 'a', 'l', 'i', 's', 'h', 'a')\n",
      "('s', 'a', 'h', 'o', 'o')\n"
     ]
    }
   ],
   "source": [
    "# Write a Python program to slice a tuple\n",
    "t=('m','o','n','a','l','i','m','o','n','a','l','i','s','h','a','s','a','h','o','o')\n",
    "x=t[:6]\n",
    "y=t[6:15]\n",
    "z=t[15:]\n",
    "print(x)\n",
    "print(y)\n",
    "print(z)"
   ]
  },
  {
   "cell_type": "code",
   "execution_count": 4,
   "id": "e0184ac3",
   "metadata": {},
   "outputs": [
    {
     "name": "stdout",
     "output_type": "stream",
     "text": [
      "The given tuple is : ('m', 'o', 'n', 'a', 'l', 'i')\n",
      "The index of 'o' element is : 1\n"
     ]
    }
   ],
   "source": [
    "#Write a Python program to find the index of an item of a tuple. \n",
    "t=('m','o','n','a','l','i')\n",
    "print(\"The given tuple is :\",t)\n",
    "x=t.index('o')\n",
    "print(\"The index of 'o' element is :\",x)"
   ]
  },
  {
   "cell_type": "code",
   "execution_count": 5,
   "id": "77058561",
   "metadata": {},
   "outputs": [
    {
     "name": "stdout",
     "output_type": "stream",
     "text": [
      "The length of tuple is : 6\n"
     ]
    }
   ],
   "source": [
    "#Write a Python program to find the length of a tuple.\n",
    "t=('m','o','n','a','l','i')\n",
    "print(\"The length of tuple is :\",len(t))"
   ]
  },
  {
   "cell_type": "code",
   "execution_count": 6,
   "id": "6daefabc",
   "metadata": {},
   "outputs": [
    {
     "name": "stdout",
     "output_type": "stream",
     "text": [
      "The given tuple is : ((0, 'm'), (1, 'o'), (2, 'n'), (3, 'a'), (4, 'l'), (5, 'i'))\n",
      "The dictionary is :\n",
      "{'m': 0, 'o': 1, 'n': 2, 'a': 3, 'l': 4, 'i': 5}\n"
     ]
    }
   ],
   "source": [
    "# Write a Python program to convert a tuple to a dictionary. \n",
    "t=((0,'m'),(1,'o'),(2,'n'),(3,'a'),(4,'l'),(5,'i'))\n",
    "print(\"The given tuple is :\",t)\n",
    "print(\"The dictionary is :\")\n",
    "print(dict((y, x) for x, y in t))"
   ]
  },
  {
   "cell_type": "code",
   "execution_count": 7,
   "id": "b8ca0cb8",
   "metadata": {},
   "outputs": [
    {
     "name": "stdout",
     "output_type": "stream",
     "text": [
      "[(1, 3, 8), (2, 4, 9)]\n"
     ]
    }
   ],
   "source": [
    "#  Write a Python program to unzip a list of tuples into individual lists\n",
    "l = [(1,2), (3,4), (8,9)]\n",
    "print(list(zip(*l)))"
   ]
  },
  {
   "cell_type": "code",
   "execution_count": 8,
   "id": "0758f3bd",
   "metadata": {},
   "outputs": [
    {
     "name": "stdout",
     "output_type": "stream",
     "text": [
      "('m', 'o', 'n', 'a', 'l', 'i')\n"
     ]
    }
   ],
   "source": [
    "# Write a Python program to reverse a tuple.\n",
    "t=(\"ilanom\")\n",
    "x=reversed(t)\n",
    "print(tuple(x))"
   ]
  },
  {
   "cell_type": "code",
   "execution_count": 9,
   "id": "7905025a",
   "metadata": {},
   "outputs": [
    {
     "name": "stdout",
     "output_type": "stream",
     "text": [
      "{'m': [1], 'o': [2], 'n': [3], 'a': [4], 'l': [5], 'i': [6]}\n"
     ]
    }
   ],
   "source": [
    "#Write a Python program to convert a list of tuples into a dictionary\n",
    "l = [(\"m\", 1), (\"o\", 2), (\"n\", 3), (\"a\", 4), (\"l\", 5), (\"i\", 6)]\n",
    "d = {}\n",
    "for a, b in l:\n",
    "    d.setdefault(a, []).append(b)\n",
    "print (d)"
   ]
  },
  {
   "cell_type": "code",
   "execution_count": 10,
   "id": "c2a77e77",
   "metadata": {},
   "outputs": [
    {
     "name": "stdout",
     "output_type": "stream",
     "text": [
      "This is a tuple (100, 200, 300)\n"
     ]
    }
   ],
   "source": [
    "#Write a Python program to print a tuple with string formatting.\n",
    "t = (100, 200, 300)\n",
    "print('This is a tuple {0}'.format(t))"
   ]
  }
 ],
 "metadata": {
  "kernelspec": {
   "display_name": "Python 3",
   "language": "python",
   "name": "python3"
  },
  "language_info": {
   "codemirror_mode": {
    "name": "ipython",
    "version": 3
   },
   "file_extension": ".py",
   "mimetype": "text/x-python",
   "name": "python",
   "nbconvert_exporter": "python",
   "pygments_lexer": "ipython3",
   "version": "3.8.8"
  }
 },
 "nbformat": 4,
 "nbformat_minor": 5
}
