{
 "cells": [
  {
   "cell_type": "code",
   "execution_count": 1,
   "id": "c21d9739",
   "metadata": {},
   "outputs": [
    {
     "name": "stdout",
     "output_type": "stream",
     "text": [
      "()\n",
      "()\n"
     ]
    }
   ],
   "source": [
    "# Write a Python program to create a tuple.\n",
    "x = ()\n",
    "print(x)\n",
    "y = tuple(x)\n",
    "print(y)"
   ]
  },
  {
   "cell_type": "code",
   "execution_count": 2,
   "id": "a08887f4",
   "metadata": {},
   "outputs": [
    {
     "name": "stdout",
     "output_type": "stream",
     "text": [
      "The given tuple is : ('Monali', 18, 0.5)\n"
     ]
    }
   ],
   "source": [
    "#Write a Python program to create a tuple with different data types\n",
    "t = (\"Monali\",18,0.5)\n",
    "print(\"The given tuple is :\",t)"
   ]
  },
  {
   "cell_type": "code",
   "execution_count": 3,
   "id": "47746cc4",
   "metadata": {},
   "outputs": [
    {
     "name": "stdout",
     "output_type": "stream",
     "text": [
      "The given tuple is : (1, 2, 3, 4, 5)\n",
      "1\n"
     ]
    }
   ],
   "source": [
    "# Write a Python program to create a tuple with numbers and print one item\n",
    "t =(1,2,3,4,5)\n",
    "print(\"The given tuple is :\",t)\n",
    "print(t[0])"
   ]
  },
  {
   "cell_type": "code",
   "execution_count": 4,
   "id": "26911794",
   "metadata": {},
   "outputs": [
    {
     "name": "stdout",
     "output_type": "stream",
     "text": [
      "(4, 8, 3)\n",
      "15\n"
     ]
    }
   ],
   "source": [
    "# Write a Python program to unpack a tuple in several variables.\n",
    "tuple = 4, 8, 3 \n",
    "print(tuple)\n",
    "n1, n2, n3 = tuple\n",
    "#unpack a tuple in variables\n",
    "print(n1 + n2 + n3) "
   ]
  },
  {
   "cell_type": "code",
   "execution_count": 7,
   "id": "0924051a",
   "metadata": {},
   "outputs": [
    {
     "name": "stdout",
     "output_type": "stream",
     "text": [
      "The given tuple is : (1, 2, 3, 4)\n",
      "The updated tuple is : (1, 2, 3, 4, 5)\n"
     ]
    }
   ],
   "source": [
    "# Write a Python program to add an item in a tuple\n",
    "x=(1,2,3,4)\n",
    "print(\"The given tuple is :\",x)\n",
    "x=x+(5,)\n",
    "print(\"The updated tuple is :\",x)"
   ]
  },
  {
   "cell_type": "code",
   "execution_count": 8,
   "id": "de01a6e3",
   "metadata": {},
   "outputs": [
    {
     "name": "stdout",
     "output_type": "stream",
     "text": [
      "monali\n"
     ]
    }
   ],
   "source": [
    "#Write a Python program to convert a tuple to a string.\n",
    "tup = ('m', 'o', 'n', 'a', 'l', 'i')\n",
    "str =  ''.join(tup)\n",
    "print(str)"
   ]
  },
  {
   "cell_type": "code",
   "execution_count": 10,
   "id": "93264d2b",
   "metadata": {},
   "outputs": [
    {
     "name": "stdout",
     "output_type": "stream",
     "text": [
      "The given tuple is : (1, 2, 3, 4, 5, 6, 7, 8, 9)\n",
      "The 4th element of the tuple is : 4\n",
      "The 4th element from last of the tuple is : 6\n"
     ]
    }
   ],
   "source": [
    "#Write a Python program to get the 4th element and 4th element from last of a tuple. \n",
    "t = (1,2,3,4,5,6,7,8,9)\n",
    "print(\"The given tuple is :\",t)\n",
    "print(\"The 4th element of the tuple is :\",t[3])\n",
    "print(\"The 4th element from last of the tuple is :\",t[-4])"
   ]
  },
  {
   "cell_type": "code",
   "execution_count": 11,
   "id": "938a697c",
   "metadata": {},
   "outputs": [
    {
     "name": "stdout",
     "output_type": "stream",
     "text": [
      "('HELLO', 5, [], True)\n",
      "('HELLO', 5, [50], True)\n",
      "('HELLO', 5, [], True)\n"
     ]
    }
   ],
   "source": [
    "#Write a Python program to create the colon of a tuple.\n",
    "from copy import deepcopy\n",
    "tuple = (\"HELLO\", 5, [], True) \n",
    "print(tuple)\n",
    "#make a copy of a tuple using deepcopy() function\n",
    "tuple_colon = deepcopy(tuple)\n",
    "tuple_colon[2].append(50)\n",
    "print(tuple_colon)\n",
    "print(tuple)"
   ]
  },
  {
   "cell_type": "code",
   "execution_count": 20,
   "id": "bc39e897",
   "metadata": {},
   "outputs": [
    {
     "name": "stdout",
     "output_type": "stream",
     "text": [
      "The given tuple is : (1, 2, 3, 1, 1, 4, 5, 3, 6, 4, 4, 4, 3, 5, 5, 5, 7, 2)\n",
      "(1, 2, 3, 4, 5, 6, 7)\n"
     ]
    }
   ],
   "source": [
    "#Write a Python program to find the repeated items of a tuple.\n",
    "t=(1,2,3,1,1,4,5,3,6,4,4,4,3,5,5,5,7,2)\n",
    "print(\"The given tuple is :\",t)\n",
    "x=()\n",
    "for i in range(len(t)) :\n",
    "    if t[i] not in x :\n",
    "        x = x+(t[i],) \n",
    "print(x)   "
   ]
  },
  {
   "cell_type": "code",
   "execution_count": 21,
   "id": "8e31d96a",
   "metadata": {},
   "outputs": [
    {
     "name": "stdout",
     "output_type": "stream",
     "text": [
      "False\n",
      "True\n"
     ]
    }
   ],
   "source": [
    "#Write a Python program to check whether an element exists within a tuple.\n",
    "t = (\"m\", 18, \"o\", \"n\", \"a\", 5, \"l\", \"i\",2001)\n",
    "print(\"r\" in t)\n",
    "print(5 in t)"
   ]
  },
  {
   "cell_type": "code",
   "execution_count": null,
   "id": "4b93c41c",
   "metadata": {},
   "outputs": [],
   "source": []
  }
 ],
 "metadata": {
  "kernelspec": {
   "display_name": "Python 3",
   "language": "python",
   "name": "python3"
  },
  "language_info": {
   "codemirror_mode": {
    "name": "ipython",
    "version": 3
   },
   "file_extension": ".py",
   "mimetype": "text/x-python",
   "name": "python",
   "nbconvert_exporter": "python",
   "pygments_lexer": "ipython3",
   "version": "3.8.8"
  }
 },
 "nbformat": 4,
 "nbformat_minor": 5
}
