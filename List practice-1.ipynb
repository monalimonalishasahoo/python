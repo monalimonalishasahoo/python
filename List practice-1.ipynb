{
 "cells": [
  {
   "cell_type": "code",
   "execution_count": 1,
   "id": "8f7c9788",
   "metadata": {},
   "outputs": [
    {
     "name": "stdout",
     "output_type": "stream",
     "text": [
      "The sum of all items : 15\n"
     ]
    }
   ],
   "source": [
    "#Write a Python program to sum all the items in a list\n",
    "l=[1,2,3,4,5]\n",
    "sum=0\n",
    "for i in range(len(l)) :\n",
    "    sum += l[i]\n",
    "print(\"The sum of all items :\",sum)    "
   ]
  },
  {
   "cell_type": "code",
   "execution_count": 2,
   "id": "ac648996",
   "metadata": {},
   "outputs": [
    {
     "name": "stdout",
     "output_type": "stream",
     "text": [
      "The multiplication of all items : 120\n"
     ]
    }
   ],
   "source": [
    "#Write a Python program to multiply all the items in a list.\n",
    "l=[1,2,3,4,5]\n",
    "mult=1\n",
    "for i in range(len(l)) :\n",
    "    mult *= l[i]\n",
    "print(\"The multiplication of all items :\",mult)    "
   ]
  },
  {
   "cell_type": "code",
   "execution_count": 3,
   "id": "aea815ae",
   "metadata": {},
   "outputs": [
    {
     "name": "stdout",
     "output_type": "stream",
     "text": [
      "The largeset number is : 5\n"
     ]
    }
   ],
   "source": [
    "#Write a Python program to get the largest number from a list\n",
    "l=[1,2,3,4,5]\n",
    "max = l[0]\n",
    "for i in range(len(l)) :\n",
    "    if l[i] > max :\n",
    "        max = l[i]\n",
    "print(\"The largeset number is :\",max)        "
   ]
  },
  {
   "cell_type": "code",
   "execution_count": 4,
   "id": "8882e126",
   "metadata": {},
   "outputs": [
    {
     "name": "stdout",
     "output_type": "stream",
     "text": [
      "The smallest number is : 0\n"
     ]
    }
   ],
   "source": [
    "#Write a Python program to get the smallest number from a list\n",
    "l=[5,8,9,3,0,1,6]\n",
    "min = l[0]\n",
    "for i in range(len(l)) :\n",
    "    if l[i]<min :\n",
    "        min = l[i]\n",
    "print(\"The smallest number is :\",min)        "
   ]
  },
  {
   "cell_type": "code",
   "execution_count": 5,
   "id": "b6a3908b",
   "metadata": {},
   "outputs": [
    {
     "name": "stdout",
     "output_type": "stream",
     "text": [
      "3\n"
     ]
    }
   ],
   "source": [
    "#Write a Python program to count the number of strings where the string length is 2 or more and the first and last character are same from a given list of strings\n",
    "s = ['aba','madam','121','monali','selly']\n",
    "count=0\n",
    "for i in s :\n",
    "    if len(i) > 1 and i[0] ==i[-1] :\n",
    "        count += 1\n",
    "print(count)        "
   ]
  },
  {
   "cell_type": "code",
   "execution_count": 6,
   "id": "688293cd",
   "metadata": {},
   "outputs": [
    {
     "name": "stdout",
     "output_type": "stream",
     "text": [
      "[(2, 1), (1, 2), (2, 3), (4, 4), (2, 5)]\n"
     ]
    }
   ],
   "source": [
    "#Write a Python program to get a list, sorted in increasing order by the last element in each tuple from a given list of non-empty tuples.\n",
    "def last(n):\n",
    "    return n[-1]\n",
    "\n",
    "def sort_list_last(tuples):\n",
    "    return sorted(tuples, key=last)\n",
    "\n",
    "print(sort_list_last([(2, 5), (1, 2), (4, 4), (2, 3), (2, 1)]))"
   ]
  },
  {
   "cell_type": "code",
   "execution_count": 7,
   "id": "883ca93d",
   "metadata": {},
   "outputs": [
    {
     "name": "stdout",
     "output_type": "stream",
     "text": [
      "The duplicated items are : {40, 10, 50, 20, 30}\n"
     ]
    }
   ],
   "source": [
    "#Write a Python program to remove duplicates from a list. \n",
    "l=[10,20,10,10,30,40,50,20,30]\n",
    "dup = set()\n",
    "list=[]\n",
    "for i in l :\n",
    "    if i not in dup :\n",
    "        list.append(i)\n",
    "        dup.add(i)\n",
    "print(\"The duplicated items are :\",dup)        "
   ]
  },
  {
   "cell_type": "code",
   "execution_count": 8,
   "id": "0b7a9272",
   "metadata": {},
   "outputs": [
    {
     "name": "stdout",
     "output_type": "stream",
     "text": [
      "The list is not empty\n"
     ]
    }
   ],
   "source": [
    "#Write a Python program to check a list is empty or not\n",
    "l=[1,2,3,4,5]\n",
    "if not l :\n",
    "    print(\"The list is empty\")\n",
    "else :\n",
    "    print(\"The list is not empty\")"
   ]
  },
  {
   "cell_type": "code",
   "execution_count": 11,
   "id": "0b27025d",
   "metadata": {},
   "outputs": [
    {
     "name": "stdout",
     "output_type": "stream",
     "text": [
      "The original list is : [10, 20, 30, 40, 50]\n",
      "The cloned list is : [10, 20, 30, 40, 50]\n"
     ]
    }
   ],
   "source": [
    "#Write a Python program to clone or copy a list.\n",
    "def list(l):\n",
    "    x=[i for i in l]\n",
    "    return x\n",
    "l=[10,20,30,40,50]\n",
    "new_list = list(l)\n",
    "print(\"The original list is :\",l)\n",
    "print(\"The cloned list is :\",new_list)"
   ]
  },
  {
   "cell_type": "code",
   "execution_count": 12,
   "id": "4aaad62a",
   "metadata": {},
   "outputs": [
    {
     "name": "stdout",
     "output_type": "stream",
     "text": [
      "['quick', 'brown', 'jumps', 'over', 'lazy']\n"
     ]
    }
   ],
   "source": [
    "#Write a Python program to find the list of words that are longer than n from a given list of words\n",
    "def long_words(n, str):\n",
    "    word_len = []\n",
    "    txt = str.split(\" \")\n",
    "    for x in txt:\n",
    "        if len(x) > n:\n",
    "            word_len.append(x)\n",
    "    return word_len\n",
    "print(long_words(3, \"The quick brown fox jumps over the lazy dog\"))"
   ]
  }
 ],
 "metadata": {
  "kernelspec": {
   "display_name": "Python 3",
   "language": "python",
   "name": "python3"
  },
  "language_info": {
   "codemirror_mode": {
    "name": "ipython",
    "version": 3
   },
   "file_extension": ".py",
   "mimetype": "text/x-python",
   "name": "python",
   "nbconvert_exporter": "python",
   "pygments_lexer": "ipython3",
   "version": "3.8.8"
  }
 },
 "nbformat": 4,
 "nbformat_minor": 5
}
