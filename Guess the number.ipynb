{
 "cells": [
  {
   "cell_type": "code",
   "execution_count": 1,
   "id": "f60c836c",
   "metadata": {},
   "outputs": [
    {
     "name": "stdout",
     "output_type": "stream",
     "text": [
      "Hey ! what's your name ? Monali\n",
      "Ok ! MonaliI'm guessing a number between 1 to 10\n",
      "5\n",
      "Your guess is high.\n",
      "3\n",
      "Your guess is high.\n",
      "2\n",
      "You guessed the number in 3 tries!\n"
     ]
    }
   ],
   "source": [
    "import random\n",
    "player_name = input(\"Hey ! what's your name ? \")\n",
    "print(\"Ok ! \"+ player_name+\"I'm guessing a number between 1 to 10\")\n",
    "number = random.randint(1,10)\n",
    "number_of_guesses = 0\n",
    "while number_of_guesses < 5 :\n",
    "    guess=int(input())\n",
    "    number_of_guesses += 1\n",
    "    if guess < number :\n",
    "        print(\"Your guess is low.\")\n",
    "    if guess > number :\n",
    "        print(\"Your guess is high.\")\n",
    "    if guess == number :\n",
    "        break\n",
    "if guess == number :\n",
    "    print('You guessed the number in ' + str(number_of_guesses) + ' tries!')\n",
    "else :\n",
    "    print('You did not guess the number, The number was ' + str(number)+'Better luck next time!')"
   ]
  }
 ],
 "metadata": {
  "kernelspec": {
   "display_name": "Python 3",
   "language": "python",
   "name": "python3"
  },
  "language_info": {
   "codemirror_mode": {
    "name": "ipython",
    "version": 3
   },
   "file_extension": ".py",
   "mimetype": "text/x-python",
   "name": "python",
   "nbconvert_exporter": "python",
   "pygments_lexer": "ipython3",
   "version": "3.8.8"
  }
 },
 "nbformat": 4,
 "nbformat_minor": 5
}
