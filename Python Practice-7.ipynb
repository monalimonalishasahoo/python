{
 "cells": [
  {
   "cell_type": "code",
   "execution_count": 1,
   "id": "6f84fd99",
   "metadata": {},
   "outputs": [
    {
     "name": "stdout",
     "output_type": "stream",
     "text": [
      "Enter a number:321\n",
      "The sum of the cube of each digit is: 36\n"
     ]
    }
   ],
   "source": [
    "#sum of the cube of each digit\n",
    "num = int(input(\"Enter a number:\"))\n",
    "sum = 0\n",
    "while (num>0) :\n",
    "    d = num % 10\n",
    "    d = d*d*d\n",
    "    sum = sum + d\n",
    "    num = num // 10\n",
    "print(\"The sum of the cube of each digit is:\",sum)"
   ]
  },
  {
   "cell_type": "code",
   "execution_count": 2,
   "id": "8afa78b6",
   "metadata": {},
   "outputs": [
    {
     "name": "stdout",
     "output_type": "stream",
     "text": [
      "Enter the lowest range :0\n",
      "Eneter the highest range :100\n",
      "0 is an Armstrong number\n",
      "1 is an Armstrong number\n"
     ]
    }
   ],
   "source": [
    "#find armstrong number in an interval\n",
    "lower_value = int(input(\"Enter the lowest range :\"))\n",
    "upper_value = int(input(\"Eneter the highest range :\"))\n",
    "for i in range (lower_value,upper_value+1) :\n",
    "    sum = 0\n",
    "    temp = i\n",
    "    while temp > 0 :\n",
    "        num = temp % 10\n",
    "        sum += num ** 3\n",
    "        temp //= 10\n",
    "    if i == sum :\n",
    "        print(i,\"is an Armstrong number\")  "
   ]
  },
  {
   "cell_type": "code",
   "execution_count": 3,
   "id": "054add1f",
   "metadata": {},
   "outputs": [
    {
     "name": "stdout",
     "output_type": "stream",
     "text": [
      "Enter a number :6\n",
      "summation is : 21\n"
     ]
    }
   ],
   "source": [
    "#find the sum of natural numbers\n",
    "num =int(input(\"Enter a number :\"))\n",
    "sum =0\n",
    "for i in range (0,num+1) :\n",
    "    sum = sum +i\n",
    "print(\"summation is :\",sum)\n",
    "    "
   ]
  },
  {
   "cell_type": "code",
   "execution_count": 4,
   "id": "1cf032b5",
   "metadata": {},
   "outputs": [
    {
     "name": "stdout",
     "output_type": "stream",
     "text": [
      "Enter the number of terms :10\n",
      "0 power of 2 is  1\n",
      "1 power of 2 is  2\n",
      "2 power of 2 is  4\n",
      "3 power of 2 is  8\n",
      "4 power of 2 is  16\n",
      "5 power of 2 is  32\n",
      "6 power of 2 is  64\n",
      "7 power of 2 is  128\n",
      "8 power of 2 is  256\n",
      "9 power of 2 is  512\n"
     ]
    }
   ],
   "source": [
    "#display the power of 2 using anonymous function\n",
    "t=int(input(\"Enter the number of terms :\"))\n",
    "result = list(map(lambda x: 2 ** x, range(t)))\n",
    "for i in range (t) :\n",
    "    print(i,\"power of 2 is \",result[i])"
   ]
  },
  {
   "cell_type": "code",
   "execution_count": 5,
   "id": "c1d60be3",
   "metadata": {},
   "outputs": [
    {
     "name": "stdout",
     "output_type": "stream",
     "text": [
      "Enter a number :15\n",
      "Enter the divisor :5\n",
      "15  is divisible by  5\n"
     ]
    }
   ],
   "source": [
    "#find a number is divisible by another number or not\n",
    "num=int(input(\"Enter a number :\"))\n",
    "divisor = int(input(\"Enter the divisor :\"))\n",
    "if num % divisor == 0 :\n",
    "    print(num,\" is divisible by \",divisor)\n",
    "else :\n",
    "    print(num,\" is  not divisible by \",divisor)"
   ]
  },
  {
   "cell_type": "code",
   "execution_count": 6,
   "id": "7af8c0f8",
   "metadata": {},
   "outputs": [
    {
     "name": "stdout",
     "output_type": "stream",
     "text": [
      "Enter a number :7\n",
      "1\n"
     ]
    }
   ],
   "source": [
    "#convert decimal to binary\n",
    "num =int(input(\"Enter a number :\"))\n",
    "if num >= 1:\n",
    "    b = num // 2\n",
    "    b = num % 2 \n",
    "    print(b)    "
   ]
  },
  {
   "cell_type": "code",
   "execution_count": 7,
   "id": "03aee81f",
   "metadata": {},
   "outputs": [
    {
     "name": "stdout",
     "output_type": "stream",
     "text": [
      "[32, 38, 44]\n",
      "[47, 56, 65]\n",
      "[62, 74, 86]\n"
     ]
    }
   ],
   "source": [
    "#write a program to multiply two Matrix\n",
    "x=[[1,2,3],[2,3,4],[3,4,5]]\n",
    "y=[[4,5,6],[5,6,7],[6,7,8]]\n",
    "res=[[0,0,0],[0,0,0],[0,0,0]]\n",
    "for i in range(len(x[0])) :\n",
    "    for j in range(len(y[0])) :\n",
    "        for k in range(len(y)) :\n",
    "            res[i][j] += x[i][k]*y[k][j]\n",
    "for r in res :\n",
    "    print(r)"
   ]
  },
  {
   "cell_type": "code",
   "execution_count": 8,
   "id": "e2c88ca3",
   "metadata": {},
   "outputs": [
    {
     "name": "stdout",
     "output_type": "stream",
     "text": [
      "Enter a number :2\n",
      "Enter the exponent number is :3\n",
      "The result is : 8\n"
     ]
    }
   ],
   "source": [
    "#write a program to calculate exponents of an input\n",
    "num=int(input(\"Enter a number :\"))\n",
    "p=int(input(\"Enter the exponent number is :\"))\n",
    "res=pow(num,p)\n",
    "print(\"The result is :\",res)"
   ]
  },
  {
   "cell_type": "code",
   "execution_count": 9,
   "id": "20f8a2c6",
   "metadata": {},
   "outputs": [
    {
     "name": "stdout",
     "output_type": "stream",
     "text": [
      "The given list is : [1, 4, -6, 9, -7, 2, -3]\n",
      "The updated list is : [1, 4, 0, 9, 0, 2, 0]\n"
     ]
    }
   ],
   "source": [
    "# Replace negative prices with 0 and leave the positive values unchanged in a list\n",
    "l=[1,4,-6,9,-7,2,-3]\n",
    "print(\"The given list is :\",l)\n",
    "r=l[:]\n",
    "for i in range(len(l)) :\n",
    "    if l[i] < 0 :\n",
    "        r[i] = 0\n",
    "    \n",
    "print(\"The updated list is :\",r)"
   ]
  },
  {
   "cell_type": "code",
   "execution_count": 10,
   "id": "e7dcc2fa",
   "metadata": {},
   "outputs": [
    {
     "name": "stdout",
     "output_type": "stream",
     "text": [
      "The given array is : [1, 2, 3, 4, 5]\n",
      "The shuffled array is : [3, 4, 5, 1, 2]\n",
      "The updated array is : [3, 4, 5, 2]\n"
     ]
    }
   ],
   "source": [
    "#Python Program to Consider an array of non-negative integers. A second array is formed by shuffling the elements of the first array and deleting a random element. Given these two arrays\n",
    "import random\n",
    "import numpy as np\n",
    "arr=[1,2,3,4,5]\n",
    "print(\"The given array is :\",arr)\n",
    "np.random.shuffle(arr)\n",
    "print(\"The shuffled array is :\",arr)\n",
    "r=random.choice(arr)\n",
    "arr.remove(r)\n",
    "print(\"The updated array is :\",arr)"
   ]
  }
 ],
 "metadata": {
  "kernelspec": {
   "display_name": "Python 3",
   "language": "python",
   "name": "python3"
  },
  "language_info": {
   "codemirror_mode": {
    "name": "ipython",
    "version": 3
   },
   "file_extension": ".py",
   "mimetype": "text/x-python",
   "name": "python",
   "nbconvert_exporter": "python",
   "pygments_lexer": "ipython3",
   "version": "3.8.8"
  }
 },
 "nbformat": 4,
 "nbformat_minor": 5
}
