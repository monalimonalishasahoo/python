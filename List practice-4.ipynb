{
 "cells": [
  {
   "cell_type": "code",
   "execution_count": 1,
   "id": "9de15c08",
   "metadata": {},
   "outputs": [
    {
     "name": "stdout",
     "output_type": "stream",
     "text": [
      "{'1': [], '2': [], '3': [], '4': []}\n"
     ]
    }
   ],
   "source": [
    "#Write a Python program to create multiple lists\n",
    "x = {}\n",
    "for i in range(1,5):\n",
    "    x[str(i)] = []\n",
    "print(x)"
   ]
  },
  {
   "cell_type": "code",
   "execution_count": 2,
   "id": "729fd8e4",
   "metadata": {},
   "outputs": [
    {
     "name": "stdout",
     "output_type": "stream",
     "text": [
      "Missing values in second list:  a,c,b\n",
      "Additional values in second list:  h,g\n"
     ]
    }
   ],
   "source": [
    "# Write a Python program to find missing and additional values in two lists. \n",
    "list1 = ['a','b','c','d','e','f']\n",
    "list2 = ['d','e','f','g','h']\n",
    "print('Missing values in second list: ', ','.join(set(list1).difference(list2)))\n",
    "print('Additional values in second list: ', ','.join(set(list2).difference(list1)))"
   ]
  },
  {
   "cell_type": "code",
   "execution_count": 3,
   "id": "8b611f06",
   "metadata": {},
   "outputs": [
    {
     "name": "stdout",
     "output_type": "stream",
     "text": [
      "Black\n",
      "Yellow\n",
      "Pink\n"
     ]
    }
   ],
   "source": [
    "# Write a Python program to split a list into different variables.\n",
    "color = [\"Black\",\"Yellow\",\"Pink\"]\n",
    "var1, var2, var3 = color\n",
    "print(var1)\n",
    "print(var2)\n",
    "print(var3)"
   ]
  },
  {
   "cell_type": "code",
   "execution_count": 4,
   "id": "15b973ef",
   "metadata": {},
   "outputs": [
    {
     "name": "stdout",
     "output_type": "stream",
     "text": [
      "[[1, 2, 3, 4, 5], [6, 7, 8, 9, 10], [11, 12, 13, 14, 15], [16, 17, 18, 19, 20], [21, 22, 23, 24, 25]]\n"
     ]
    }
   ],
   "source": [
    "#Write a Python program to generate groups of five consecutive numbers in a list\n",
    "l = [[5*i + j for j in range(1,6)] for i in range(5)]\n",
    "print(l)"
   ]
  },
  {
   "cell_type": "code",
   "execution_count": 5,
   "id": "f559f1eb",
   "metadata": {},
   "outputs": [
    {
     "name": "stdout",
     "output_type": "stream",
     "text": [
      "Original List:  [(1, 2), (3, 4), (1, 2), (5, 6), (7, 8), (1, 2), (3, 4), (3, 4), (7, 8), (9, 10)]\n",
      "Sorted Unique Data: [1, 2, 3, 4, 5, 6, 7, 8, 9, 10]\n"
     ]
    }
   ],
   "source": [
    "#Write a Python program to convert a pair of values into a sorted unique array. \n",
    "l = [(1, 2), (3, 4), (1, 2), (5, 6), (7, 8), (1, 2), (3, 4), (3, 4), (7, 8), (9, 10)]\n",
    "print(\"Original List: \", l)\n",
    "print(\"Sorted Unique Data:\",sorted(set().union(*l)))"
   ]
  },
  {
   "cell_type": "code",
   "execution_count": 6,
   "id": "d91c24d9",
   "metadata": {},
   "outputs": [
    {
     "name": "stdout",
     "output_type": "stream",
     "text": [
      "The original list is : [25, 12, 73, 67, 50, 44, 83, 19, 20, 39, 49]\n",
      "The updated list is : [25, 73, 67, 83, 19, 39, 49]\n"
     ]
    }
   ],
   "source": [
    "#Write a Python program to select the odd items of a list\n",
    "l=[25,12,73,67,50,44,83,19,20,39,49]\n",
    "print(\"The original list is :\",l)\n",
    "x=list(filter(lambda i : (i%2 != 0),l))\n",
    "print(\"The updated list is :\",x)    "
   ]
  },
  {
   "cell_type": "code",
   "execution_count": 7,
   "id": "231dc9ce",
   "metadata": {},
   "outputs": [
    {
     "name": "stdout",
     "output_type": "stream",
     "text": [
      "Original List:  ['Red', 'Green', 'Black']\n",
      "Updated List:  ['M', 'Red', 'M', 'Green', 'M', 'Black']\n"
     ]
    }
   ],
   "source": [
    "#Write a Python program to insert an element before each element of a list. \n",
    "color = ['Red', 'Green', 'Black']\n",
    "print(\"Original List: \",color)\n",
    "color = [x for i in color for x in ('M', i)]\n",
    "print(\"Updated List: \",color)"
   ]
  },
  {
   "cell_type": "code",
   "execution_count": 8,
   "id": "2b89dd76",
   "metadata": {},
   "outputs": [
    {
     "name": "stdout",
     "output_type": "stream",
     "text": [
      "['Red']\n",
      "['Green']\n",
      "['Black']\n"
     ]
    }
   ],
   "source": [
    "#Write a Python program to print a nested lists (each list on a new line) using the print() function\n",
    "colors = [['Red'], ['Green'], ['Black']]\n",
    "print('\\n'.join([str(i) for i in colors]))"
   ]
  },
  {
   "cell_type": "code",
   "execution_count": 9,
   "id": "ec66377d",
   "metadata": {},
   "outputs": [
    {
     "name": "stdout",
     "output_type": "stream",
     "text": [
      "[{'color_name': 'Black', 'color_code': 0}, {'color_name': 'Red', 'color_code': 1}, {'color_name': 'Maroon', 'color_code': 2}]\n"
     ]
    }
   ],
   "source": [
    "#Write a Python program to convert list to list of dictionaries. \n",
    "color_name = [\"Black\", \"Red\", \"Maroon\", \"Yellow\"]\n",
    "color_code = [0,1,2]\n",
    "print([{'color_name': f, 'color_code': c} for f, c in zip(color_name, color_code)])"
   ]
  },
  {
   "cell_type": "code",
   "execution_count": null,
   "id": "f31ac800",
   "metadata": {},
   "outputs": [],
   "source": [
    "#Write a Python program to split a list every Nth element\n",
    "l = ['a', 'b', 'c', 'd', 'e', 'f', 'g', 'h', 'i', 'j', 'k', 'l', 'm', 'n']\n",
    "def list_slice(S, step):\n",
    "    return [S[i::step] for i in range(step)]\n",
    "print(list_slice(C,3))"
   ]
  }
 ],
 "metadata": {
  "kernelspec": {
   "display_name": "Python 3",
   "language": "python",
   "name": "python3"
  },
  "language_info": {
   "codemirror_mode": {
    "name": "ipython",
    "version": 3
   },
   "file_extension": ".py",
   "mimetype": "text/x-python",
   "name": "python",
   "nbconvert_exporter": "python",
   "pygments_lexer": "ipython3",
   "version": "3.8.8"
  }
 },
 "nbformat": 4,
 "nbformat_minor": 5
}
