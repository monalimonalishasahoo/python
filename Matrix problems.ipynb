{
 "cells": [
  {
   "cell_type": "code",
   "execution_count": 2,
   "id": "ce80bc09",
   "metadata": {},
   "outputs": [
    {
     "name": "stdout",
     "output_type": "stream",
     "text": [
      "Enter the number of rows :2\n",
      "Enter the number of columns :3\n",
      "Enter the elements of the first matrix :\n",
      "1\n",
      "2\n",
      "3\n",
      "7\n",
      "8\n",
      "9\n",
      "First matrix is :\n",
      "[1, 2, 3]\n",
      "[7, 8, 9]\n",
      "Enter the elements of the second matrix :\n",
      "4\n",
      "5\n",
      "6\n",
      "2\n",
      "8\n",
      "5\n",
      "Second matrix is :\n",
      "[4, 5, 6]\n",
      "[2, 8, 5]\n",
      "The sum of above matrices are :\n",
      "[5, 7, 9]\n",
      "[9, 16, 14]\n"
     ]
    }
   ],
   "source": [
    "#Python Program to Add Two Matrices\n",
    "r=int(input(\"Enter the number of rows :\"))\n",
    "c=int(input(\"Enter the number of columns :\"))\n",
    "print(\"Enter the elements of the first matrix :\")\n",
    "\n",
    "a= [[int(input()) for i in range(c)] for i in range(r)]\n",
    "print(\"First matrix is :\")\n",
    "for j in a :\n",
    "    print(j)\n",
    "print(\"Enter the elements of the second matrix :\")\n",
    "b=[[int(input()) for i in range(c)] for i in range (r)]\n",
    "print(\"Second matrix is :\")\n",
    "for j in b :\n",
    "    print(j)\n",
    "    \n",
    "result=[[0 for i in range(c)] for i in range(r)]\n",
    "for i in range(r) :\n",
    "    for j in range(c) :\n",
    "        result[i][j] =a[i][j] +b[i][j]\n",
    "        \n",
    "print(\"The sum of above matrices are :\")\n",
    "for i in result :\n",
    "    print(i)\n"
   ]
  },
  {
   "cell_type": "code",
   "execution_count": 4,
   "id": "4114d57b",
   "metadata": {},
   "outputs": [
    {
     "name": "stdout",
     "output_type": "stream",
     "text": [
      "The sum of above matrices are :\n",
      "[8, 10]\n",
      "[12, 14]\n",
      "[16, 18]\n"
     ]
    }
   ],
   "source": [
    "#Python Program to Add Two Matrices using Nested List Comprehension\n",
    "a=[[1,2],[3,4],[5,6]]\n",
    "b=[[7,8],[9,10],[11,12]]\n",
    "result =[[a[i][j]+b[i][j] for j in range(len(a[0]))] for i in range(len(a))]\n",
    "print(\"The sum of above matrices are :\")\n",
    "for r in result :\n",
    "    print(r)"
   ]
  },
  {
   "cell_type": "code",
   "execution_count": 6,
   "id": "f1a191a6",
   "metadata": {},
   "outputs": [
    {
     "name": "stdout",
     "output_type": "stream",
     "text": [
      "Transpose matrix of the given matrix is :\n",
      "[1, 3, 5]\n",
      "[2, 4, 6]\n"
     ]
    }
   ],
   "source": [
    "#Python Program to Transpose a Matrix using Nested Loop\n",
    "l=[[1,2],[3,4],[5,6]]\n",
    "transpose =[[0,0,0],[0,0,0]]\n",
    "for i in range(len(l)) :\n",
    "    for j in range(len(l[0])):\n",
    "        transpose[j][i] =l[i][j]\n",
    "print(\"Transpose matrix of the given matrix is :\")        \n",
    "for t in transpose :\n",
    "    print(t)"
   ]
  },
  {
   "cell_type": "code",
   "execution_count": 7,
   "id": "5f593003",
   "metadata": {},
   "outputs": [
    {
     "name": "stdout",
     "output_type": "stream",
     "text": [
      "Transpose matrix of the given matrix is :\n",
      "[4, 8, 1]\n",
      "[5, 7, 9]\n"
     ]
    }
   ],
   "source": [
    "#Python Program to Transpose a Matrix using Nested List Comprehension\n",
    "l=[[4,5],[8,7],[1,9]]\n",
    "transpose = [[l[j][i] for j in range(len(l))] for i in range(len(l[0]))]\n",
    "print(\"Transpose matrix of the given matrix is :\")\n",
    "for t in transpose :\n",
    "    print(t)"
   ]
  },
  {
   "cell_type": "code",
   "execution_count": 2,
   "id": "d7382e4a",
   "metadata": {},
   "outputs": [
    {
     "name": "stdout",
     "output_type": "stream",
     "text": [
      "The multiplication of above matrices are :\n",
      "[21, 34, 17]\n",
      "[57, 85, 38]\n",
      "[93, 136, 59]\n"
     ]
    }
   ],
   "source": [
    "#Python Program to Multiply Two Matrices using Nested Loop\n",
    "l1=[[1,2,3],[4,5,6],[7,8,9]]\n",
    "l2=[[4,7,2],[7,3,0],[1,7,5]]\n",
    "l=[[0,0,0],[0,0,0],[0,0,0]]\n",
    "print(\"The multiplication of above matrices are :\")\n",
    "for i in range (len(l1)) :\n",
    "    for j in range (len(l2[0])) :\n",
    "        for k in range (len(l2)) :\n",
    "            l[i][j] += l1[i][k] *l2[k][j]\n",
    "for n in l :\n",
    "    print(n)\n"
   ]
  },
  {
   "cell_type": "code",
   "execution_count": 3,
   "id": "16499518",
   "metadata": {},
   "outputs": [
    {
     "name": "stdout",
     "output_type": "stream",
     "text": [
      "The multiplication of above matrices are :\n",
      "[21, 34, 17]\n",
      "[57, 85, 38]\n",
      "[93, 136, 59]\n"
     ]
    }
   ],
   "source": [
    "#Python Program to Multiply Two Matrices using Nested List Comprehension\n",
    "l1=[[1,2,3],[4,5,6],[7,8,9]]\n",
    "l2=[[4,7,2],[7,3,0],[1,7,5]]\n",
    "print(\"The multiplication of above matrices are :\")\n",
    "l = [[sum(l1*l2 for l1,l2 in zip(l1_row,l2_col)) for l2_col in zip(*l2)] for l1_row in l1]\n",
    "for n in l :\n",
    "    print(n)"
   ]
  }
 ],
 "metadata": {
  "kernelspec": {
   "display_name": "Python 3",
   "language": "python",
   "name": "python3"
  },
  "language_info": {
   "codemirror_mode": {
    "name": "ipython",
    "version": 3
   },
   "file_extension": ".py",
   "mimetype": "text/x-python",
   "name": "python",
   "nbconvert_exporter": "python",
   "pygments_lexer": "ipython3",
   "version": "3.8.8"
  }
 },
 "nbformat": 4,
 "nbformat_minor": 5
}
