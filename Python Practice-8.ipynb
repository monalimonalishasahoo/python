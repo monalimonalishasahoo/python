{
 "cells": [
  {
   "cell_type": "code",
   "execution_count": 1,
   "id": "8541226b",
   "metadata": {},
   "outputs": [
    {
     "name": "stdout",
     "output_type": "stream",
     "text": [
      "The summation is : 2\n"
     ]
    }
   ],
   "source": [
    "def add (t) :\n",
    "    sum = 0\n",
    "    for i in t :\n",
    "        sum = sum+i\n",
    "        i =+1\n",
    "        return sum\n",
    "\n",
    "tuple =(2,3,4,5) \n",
    "print(\"The summation is :\",add(tuple))"
   ]
  },
  {
   "cell_type": "code",
   "execution_count": 2,
   "id": "ea6db035",
   "metadata": {},
   "outputs": [
    {
     "name": "stdout",
     "output_type": "stream",
     "text": [
      "according to second element\n",
      "[(56, 12), (90, 12), (24, 85), (63, 89)]\n",
      "according to first element\n",
      "[(24, 85), (56, 12), (63, 89), (90, 12)]\n"
     ]
    }
   ],
   "source": [
    "a=[24,56,63,90]\n",
    "b=[85,12,89,12]\n",
    "l=(list(zip(a,b)))\n",
    "l.sort(key = lambda x: x[1])\n",
    "print(\"according to second element\")\n",
    "print(l)\n",
    "print(\"according to first element\")\n",
    "l.sort()\n",
    "print(l)\n"
   ]
  },
  {
   "cell_type": "code",
   "execution_count": 3,
   "id": "9d3c0e3b",
   "metadata": {},
   "outputs": [
    {
     "name": "stdout",
     "output_type": "stream",
     "text": [
      "Enter your gmail :monali@gmail.com\n",
      "This is a valid email\n"
     ]
    }
   ],
   "source": [
    "# Write a Python program to validate an Email \n",
    "import re\n",
    "def check(y) :\n",
    "    if (re.match(x,y)):\n",
    "        print(\"This is a valid email\")\n",
    "    else :\n",
    "        print(\"This is not a valid email\")\n",
    "            \n",
    "x=r'\\b[A-Za-z0-9._%+-]+@[A-Za-z0-9.-]+\\.[A-Z|a-z]{2,}\\b'\n",
    "y=input(\"Enter your gmail :\")\n",
    "check(y)"
   ]
  },
  {
   "cell_type": "code",
   "execution_count": 4,
   "id": "0d709cea",
   "metadata": {},
   "outputs": [
    {
     "name": "stdout",
     "output_type": "stream",
     "text": [
      "Enter your password :Monali@18\n",
      "Password is valid\n"
     ]
    }
   ],
   "source": [
    "# Write a Program to implement validation of a Password\n",
    "import re\n",
    "x=input(\"Enter your password :\")\n",
    "y=\"^(?=.*[a-z])(?=.*[A-Z])(?=.*\\d)(?=.*[@$!%*#?&])[A-Za-z\\d@$!#%*?&]{6,20}$\"\n",
    "a=re.compile(y)\n",
    "b=re.search(a,x)\n",
    "if b:\n",
    "    print(\"Password is valid\")\n",
    "else :\n",
    "    print(\"Password is invalid\")"
   ]
  },
  {
   "cell_type": "code",
   "execution_count": 5,
   "id": "2fec854a",
   "metadata": {},
   "outputs": [
    {
     "name": "stdout",
     "output_type": "stream",
     "text": [
      "The given array is : [1, 2, 3, 4, 5]\n",
      "After rotating an array to the right is :\n",
      "4\n",
      "5\n",
      "1\n",
      "2\n",
      "3\n"
     ]
    }
   ],
   "source": [
    "#Python Program to Rotate an array of n elements to the right\n",
    "a=[1,2,3,4,5]\n",
    "print(\"The given array is :\",a)\n",
    "n=2\n",
    "for i in range(0,n) :\n",
    "    last = a[len(a)-1]\n",
    "    for j in range(len(a)-1,-1,-1):\n",
    "        a[j]=a[j-1]\n",
    "    a[0]=last\n",
    "print(\"After rotating an array to the right is :\")\n",
    "for i in range(0,len(a)) :\n",
    "    print(a[i])"
   ]
  },
  {
   "cell_type": "code",
   "execution_count": 6,
   "id": "4a9e5c16",
   "metadata": {},
   "outputs": [
    {
     "name": "stdout",
     "output_type": "stream",
     "text": [
      "Generated numbers are : 780 940 575\n"
     ]
    }
   ],
   "source": [
    "#Generate 3 random integers between 100 and 999 which is divisible by 5\n",
    "import random\n",
    "a=random.randrange(100,999,5)\n",
    "b=random.randrange(100,999,5)\n",
    "c=random.randrange(100,999,5)\n",
    "print(\"Generated numbers are :\",a,b,c)"
   ]
  },
  {
   "cell_type": "code",
   "execution_count": 7,
   "id": "cdf2b460",
   "metadata": {},
   "outputs": [
    {
     "name": "stdout",
     "output_type": "stream",
     "text": [
      "[4, 10, 18]\n"
     ]
    }
   ],
   "source": [
    "# Calculate the pair-wise product of two lists\n",
    "list1 = [1, 2, 3]\n",
    "list2 = [4, 5, 6]\n",
    "\n",
    "products = [a * b for a, b in zip(list1, list2)]\n",
    "\n",
    "print(products)"
   ]
  }
 ],
 "metadata": {
  "kernelspec": {
   "display_name": "Python 3",
   "language": "python",
   "name": "python3"
  },
  "language_info": {
   "codemirror_mode": {
    "name": "ipython",
    "version": 3
   },
   "file_extension": ".py",
   "mimetype": "text/x-python",
   "name": "python",
   "nbconvert_exporter": "python",
   "pygments_lexer": "ipython3",
   "version": "3.8.8"
  }
 },
 "nbformat": 4,
 "nbformat_minor": 5
}
