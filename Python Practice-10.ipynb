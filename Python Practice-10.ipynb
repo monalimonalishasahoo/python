{
 "cells": [
  {
   "cell_type": "code",
   "execution_count": 1,
   "id": "888f5d10",
   "metadata": {},
   "outputs": [
    {
     "name": "stdout",
     "output_type": "stream",
     "text": [
      "Enter your name :Monali\n",
      "Enter your marks :84\n",
      "Enter your phone number :1112233344\n",
      "The student name is Monali and her mark is 84 and her phone number is 1112233344\n"
     ]
    }
   ],
   "source": [
    "#write a program to input name,marks and phone number of a student and format it using the format fuction\n",
    "name = input(\"Enter your name :\")\n",
    "marks = int(input(\"Enter your marks :\"))\n",
    "ph_number = int(input(\"Enter your phone number :\"))\n",
    "print(\"The student name is {} and her mark is {} and her phone number is {}\".format(name,marks,ph_number))"
   ]
  },
  {
   "cell_type": "code",
   "execution_count": 2,
   "id": "6351ed16",
   "metadata": {},
   "outputs": [
    {
     "name": "stdout",
     "output_type": "stream",
     "text": [
      "7\n",
      "14\n",
      "21\n",
      "28\n",
      "35\n",
      "42\n",
      "49\n",
      "56\n",
      "63\n",
      "70\n"
     ]
    }
   ],
   "source": [
    "#a list contains the multiplication table of 7 write a program to convert them to a vertical string of same number.\n",
    "l = [str(i*7) for i in range(1,11)]\n",
    "x = \"\\n\".join(l)\n",
    "print(x)"
   ]
  },
  {
   "cell_type": "code",
   "execution_count": 3,
   "id": "b10b8aa0",
   "metadata": {},
   "outputs": [
    {
     "name": "stdout",
     "output_type": "stream",
     "text": [
      "[90, 85, 40, 5, 60]\n"
     ]
    }
   ],
   "source": [
    "#write a program to filter a list of numbers which are divisible by 5\n",
    "num_list=[1,90,33,76,85,27,40,99,5,37,60]\n",
    "result=list(filter(lambda x : x%5 == 0,num_list))\n",
    "print(result)"
   ]
  },
  {
   "cell_type": "code",
   "execution_count": 4,
   "id": "b1a56216",
   "metadata": {},
   "outputs": [
    {
     "name": "stdout",
     "output_type": "stream",
     "text": [
      "9\n"
     ]
    }
   ],
   "source": [
    "#write a program to find the maximum of the numbers in a list using reduce function\n",
    "from functools import reduce\n",
    "l=[3,8,9,5,6,1]\n",
    "a=reduce(max,l)\n",
    "print(a)"
   ]
  },
  {
   "cell_type": "code",
   "execution_count": 5,
   "id": "aef4e605",
   "metadata": {},
   "outputs": [
    {
     "name": "stdout",
     "output_type": "stream",
     "text": [
      "[90, 85, 40, 5, 60]\n"
     ]
    }
   ],
   "source": [
    "l=[1,90,33,76,85,27,40,99,5,37,60]\n",
    "x=list(filter(lambda x : x%5 == 0,l))\n",
    "print(x)"
   ]
  },
  {
   "cell_type": "code",
   "execution_count": 6,
   "id": "0304c961",
   "metadata": {},
   "outputs": [
    {
     "name": "stdout",
     "output_type": "stream",
     "text": [
      "{'apple': 50, 'mango': 100, 'grapes': 30}\n"
     ]
    }
   ],
   "source": [
    "#Python Program to Map two lists into a Dictionary\n",
    "fruits=[\"apple\",\"mango\",\"grapes\"]\n",
    "price=[50,100,30]\n",
    "d=dict(zip(fruits,price))\n",
    "print(d)"
   ]
  },
  {
   "cell_type": "code",
   "execution_count": 7,
   "id": "d793018c",
   "metadata": {},
   "outputs": [
    {
     "name": "stdout",
     "output_type": "stream",
     "text": [
      "[2, 4, 6, 8, 10, 12, 14, 16, 18]\n"
     ]
    }
   ],
   "source": [
    "#Generate a Python list of all the even numbers between two given numbers\n",
    "even_list=[i for i in range(2,20) if i%2==0]\n",
    "print(even_list)"
   ]
  }
 ],
 "metadata": {
  "kernelspec": {
   "display_name": "Python 3",
   "language": "python",
   "name": "python3"
  },
  "language_info": {
   "codemirror_mode": {
    "name": "ipython",
    "version": 3
   },
   "file_extension": ".py",
   "mimetype": "text/x-python",
   "name": "python",
   "nbconvert_exporter": "python",
   "pygments_lexer": "ipython3",
   "version": "3.8.8"
  }
 },
 "nbformat": 4,
 "nbformat_minor": 5
}
