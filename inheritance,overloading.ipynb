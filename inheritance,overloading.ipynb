{
 "cells": [
  {
   "cell_type": "code",
   "execution_count": 1,
   "id": "e3d26e85",
   "metadata": {},
   "outputs": [
    {
     "name": "stdout",
     "output_type": "stream",
     "text": [
      "4i+5j\n",
      "6i+7j+8k\n"
     ]
    }
   ],
   "source": [
    "#create a class c-2d vector and use it to create another class representing a 3d vector\n",
    "class c2dvec :\n",
    "    def __init__(self,i,j) :\n",
    "        self.icap = i\n",
    "        self.jcap = j\n",
    "    def __str__(self) :\n",
    "        return f\"{self.icap}i+{self.jcap}j\"\n",
    "    \n",
    "class c3dvec(c2dvec) :\n",
    "    def __init__(self,i,j,k) :\n",
    "        super().__init__(i,j)\n",
    "        self.kcap = k\n",
    "    def __str__(self) :\n",
    "        return f\"{self.icap}i+{self.jcap}j+{self.kcap}k\"  \n",
    "    \n",
    "c2d = c2dvec(4,5)    \n",
    "c3d = c3dvec(6,7,8)\n",
    "print(c2d)\n",
    "print(c3d)"
   ]
  },
  {
   "cell_type": "code",
   "execution_count": 2,
   "id": "8bddabed",
   "metadata": {},
   "outputs": [
    {
     "name": "stdout",
     "output_type": "stream",
     "text": [
      "Bow Bow .....\n",
      "White\n",
      "Mammal\n"
     ]
    }
   ],
   "source": [
    "#create a class pets from a class animals and further create class dog from class pets, add a method bark to class dog\n",
    "class Animal :\n",
    "    animalType = \"Mammal\"\n",
    "class Pet(Animal) :\n",
    "    colour =\"White\"\n",
    "class Dog(Pet) :\n",
    "    @staticmethod\n",
    "    def bark():\n",
    "        print(\"Bow Bow .....\")\n",
    "     \n",
    "d = Dog()\n",
    "d.bark()\n",
    "print(d.colour)\n",
    "print(d.animalType)"
   ]
  },
  {
   "cell_type": "code",
   "execution_count": 3,
   "id": "da6a264b",
   "metadata": {},
   "outputs": [
    {
     "name": "stdout",
     "output_type": "stream",
     "text": [
      "2\n",
      "1000\n",
      "4.0\n",
      "2000.0\n"
     ]
    }
   ],
   "source": [
    "#create a class Employee and add salary ,increment properties to it. write a method salaryafterincrement method with a @property decorator with a setter which changes the value of increment based on salary.\n",
    "class Employee :\n",
    "    salary = 500\n",
    "    increment = 2\n",
    "    \n",
    "    @property\n",
    "    def salaryAfterIncrement(self) :\n",
    "        return self.salary * self.increment\n",
    "    \n",
    "    @salaryAfterIncrement.setter\n",
    "    def salaryAfterIncrement(self,sai) :\n",
    "        self.increment = sai/self.salary\n",
    "        \n",
    "e = Employee()\n",
    "print(e.increment)\n",
    "print(e.salaryAfterIncrement)\n",
    "e.salaryAfterIncrement = 2000\n",
    "print(e.increment)\n",
    "print(e.salaryAfterIncrement)"
   ]
  },
  {
   "cell_type": "code",
   "execution_count": 4,
   "id": "028db361",
   "metadata": {},
   "outputs": [
    {
     "name": "stdout",
     "output_type": "stream",
     "text": [
      "10+8i\n",
      "9+42i\n"
     ]
    }
   ],
   "source": [
    "#write a class complex to represent complex numbers,along with overloading operators + and * which adds and multiplies them\n",
    "class Complex :\n",
    "    def __init__(self,r,i) :\n",
    "        self.real = r\n",
    "        self.imaginary =i\n",
    "    def __add__(self,c) :\n",
    "        return Complex(self.real+c.real,self.imaginary+c.imaginary)\n",
    "    def __mul__(self,c) :\n",
    "        mulReal=self.real*c.real-self.imaginary*c.imaginary\n",
    "        mulImaginary=self.real*c.imaginary+self.imaginary*c.real\n",
    "        return Complex(mulReal,mulImaginary)\n",
    "    def __str__(self) :\n",
    "        return f\"{self.real}+{self.imaginary}i\"\n",
    "    \n",
    "c1 = Complex(4,5)\n",
    "c2 = Complex(6,3)\n",
    "print(c1+c2)\n",
    "print(c1*c2)  "
   ]
  },
  {
   "cell_type": "code",
   "execution_count": 5,
   "id": "f0ad55f0",
   "metadata": {},
   "outputs": [
    {
     "name": "stdout",
     "output_type": "stream",
     "text": [
      "7i + 8j + 9k \n"
     ]
    }
   ],
   "source": [
    "#write a __srt__ method to print the vechor as 7i+8j+9k\n",
    "class Vector :\n",
    "    def __init__(self,vec) :\n",
    "        self.vec = vec\n",
    "        \n",
    "    def __str__(self) :\n",
    "        return f\"{self.vec[0]}i + {self.vec[1]}j + {self.vec[2]}k \"\n",
    "    \n",
    "vec = Vector([7,8,9])\n",
    "print(vec)"
   ]
  }
 ],
 "metadata": {
  "kernelspec": {
   "display_name": "Python 3",
   "language": "python",
   "name": "python3"
  },
  "language_info": {
   "codemirror_mode": {
    "name": "ipython",
    "version": 3
   },
   "file_extension": ".py",
   "mimetype": "text/x-python",
   "name": "python",
   "nbconvert_exporter": "python",
   "pygments_lexer": "ipython3",
   "version": "3.8.8"
  }
 },
 "nbformat": 4,
 "nbformat_minor": 5
}
