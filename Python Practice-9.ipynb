{
 "cells": [
  {
   "cell_type": "code",
   "execution_count": 1,
   "id": "f5afc2ce",
   "metadata": {},
   "outputs": [
    {
     "ename": "ValueError",
     "evalue": "Enter in correct format",
     "output_type": "error",
     "traceback": [
      "\u001b[1;31m---------------------------------------------------------------------------\u001b[0m",
      "\u001b[1;31mValueError\u001b[0m                                Traceback (most recent call last)",
      "\u001b[1;32m<ipython-input-1-3db018f41db2>\u001b[0m in \u001b[0;36mincrement\u001b[1;34m(n)\u001b[0m\n\u001b[0;32m      3\u001b[0m     \u001b[1;32mtry\u001b[0m \u001b[1;33m:\u001b[0m\u001b[1;33m\u001b[0m\u001b[1;33m\u001b[0m\u001b[0m\n\u001b[1;32m----> 4\u001b[1;33m         \u001b[1;32mreturn\u001b[0m \u001b[0mint\u001b[0m\u001b[1;33m(\u001b[0m\u001b[0mn\u001b[0m\u001b[1;33m)\u001b[0m \u001b[1;33m+\u001b[0m\u001b[1;36m1\u001b[0m\u001b[1;33m\u001b[0m\u001b[1;33m\u001b[0m\u001b[0m\n\u001b[0m\u001b[0;32m      5\u001b[0m     \u001b[1;32mexcept\u001b[0m \u001b[1;33m:\u001b[0m\u001b[1;33m\u001b[0m\u001b[1;33m\u001b[0m\u001b[0m\n",
      "\u001b[1;31mValueError\u001b[0m: invalid literal for int() with base 10: 'bsjdgi'",
      "\nDuring handling of the above exception, another exception occurred:\n",
      "\u001b[1;31mValueError\u001b[0m                                Traceback (most recent call last)",
      "\u001b[1;32m<ipython-input-1-3db018f41db2>\u001b[0m in \u001b[0;36m<module>\u001b[1;34m\u001b[0m\n\u001b[0;32m      6\u001b[0m         \u001b[1;32mraise\u001b[0m \u001b[0mValueError\u001b[0m\u001b[1;33m(\u001b[0m\u001b[1;34m\"Enter in correct format\"\u001b[0m\u001b[1;33m)\u001b[0m\u001b[1;33m\u001b[0m\u001b[1;33m\u001b[0m\u001b[0m\n\u001b[0;32m      7\u001b[0m \u001b[1;33m\u001b[0m\u001b[0m\n\u001b[1;32m----> 8\u001b[1;33m \u001b[0ma\u001b[0m \u001b[1;33m=\u001b[0m \u001b[0mincrement\u001b[0m\u001b[1;33m(\u001b[0m\u001b[1;34m'bsjdgi'\u001b[0m\u001b[1;33m)\u001b[0m\u001b[1;33m\u001b[0m\u001b[1;33m\u001b[0m\u001b[0m\n\u001b[0m\u001b[0;32m      9\u001b[0m \u001b[0mprint\u001b[0m\u001b[1;33m(\u001b[0m\u001b[0ma\u001b[0m\u001b[1;33m)\u001b[0m\u001b[1;33m\u001b[0m\u001b[1;33m\u001b[0m\u001b[0m\n",
      "\u001b[1;32m<ipython-input-1-3db018f41db2>\u001b[0m in \u001b[0;36mincrement\u001b[1;34m(n)\u001b[0m\n\u001b[0;32m      4\u001b[0m         \u001b[1;32mreturn\u001b[0m \u001b[0mint\u001b[0m\u001b[1;33m(\u001b[0m\u001b[0mn\u001b[0m\u001b[1;33m)\u001b[0m \u001b[1;33m+\u001b[0m\u001b[1;36m1\u001b[0m\u001b[1;33m\u001b[0m\u001b[1;33m\u001b[0m\u001b[0m\n\u001b[0;32m      5\u001b[0m     \u001b[1;32mexcept\u001b[0m \u001b[1;33m:\u001b[0m\u001b[1;33m\u001b[0m\u001b[1;33m\u001b[0m\u001b[0m\n\u001b[1;32m----> 6\u001b[1;33m         \u001b[1;32mraise\u001b[0m \u001b[0mValueError\u001b[0m\u001b[1;33m(\u001b[0m\u001b[1;34m\"Enter in correct format\"\u001b[0m\u001b[1;33m)\u001b[0m\u001b[1;33m\u001b[0m\u001b[1;33m\u001b[0m\u001b[0m\n\u001b[0m\u001b[0;32m      7\u001b[0m \u001b[1;33m\u001b[0m\u001b[0m\n\u001b[0;32m      8\u001b[0m \u001b[0ma\u001b[0m \u001b[1;33m=\u001b[0m \u001b[0mincrement\u001b[0m\u001b[1;33m(\u001b[0m\u001b[1;34m'bsjdgi'\u001b[0m\u001b[1;33m)\u001b[0m\u001b[1;33m\u001b[0m\u001b[1;33m\u001b[0m\u001b[0m\n",
      "\u001b[1;31mValueError\u001b[0m: Enter in correct format"
     ]
    }
   ],
   "source": [
    "#raising exceptions\n",
    "def increment(n) :\n",
    "    try :\n",
    "        return int(n) +1\n",
    "    except :\n",
    "        raise ValueError(\"Enter in correct format\")\n",
    "        \n",
    "a = increment('bsjdgi')\n",
    "print(a)"
   ]
  },
  {
   "cell_type": "code",
   "execution_count": 2,
   "id": "af98db0d",
   "metadata": {},
   "outputs": [
    {
     "name": "stdout",
     "output_type": "stream",
     "text": [
      "Enter a number :0\n",
      "division by zero\n"
     ]
    }
   ],
   "source": [
    "#try with else\n",
    "try :\n",
    "    i = int(input(\"Enter a number :\"))\n",
    "    x = 1/i\n",
    "except Exception as e :\n",
    "    print(e)\n",
    "else :\n",
    "    print(\"You were successful\")"
   ]
  },
  {
   "cell_type": "code",
   "execution_count": 3,
   "id": "03738ad8",
   "metadata": {},
   "outputs": [
    {
     "name": "stdout",
     "output_type": "stream",
     "text": [
      "Enter a number :0\n",
      "division by zero\n",
      "You are done!\n"
     ]
    }
   ],
   "source": [
    "#try with finally\n",
    "try :\n",
    "    i = int(input(\"Enter a number :\"))\n",
    "    x = 1/i\n",
    "except Exception as e :\n",
    "    print(e)\n",
    "    exit()\n",
    "finally :\n",
    "    print(\"You are done!\")"
   ]
  },
  {
   "cell_type": "code",
   "execution_count": 1,
   "id": "529994a3",
   "metadata": {},
   "outputs": [
    {
     "name": "stdout",
     "output_type": "stream",
     "text": [
      "File 1.txt is not found\n",
      "File 2.txt is not found\n",
      "File 3.txt is not found\n"
     ]
    }
   ],
   "source": [
    "#write a python program to open three files 1.tst,2.txt,3.txt.if any of these files are not present,a message without exiting the programmust be printed prompting the same.\n",
    "def readFile(filename) :\n",
    "    try :\n",
    "        with open(filename,'r') as f :\n",
    "            print(f.read())\n",
    "    except FileNotFoundError :\n",
    "        print(f\"File {filename} is not found\")\n",
    "        \n",
    "readFile(\"1.txt\")\n",
    "readFile(\"2.txt\")\n",
    "readFile(\"3.txt\") "
   ]
  },
  {
   "cell_type": "code",
   "execution_count": 2,
   "id": "144dac10",
   "metadata": {},
   "outputs": [
    {
     "name": "stdout",
     "output_type": "stream",
     "text": [
      "2 2\n",
      "4 6\n",
      "6 9\n"
     ]
    }
   ],
   "source": [
    "#write a program to print 3rd,5th,7th element from a list using enumerate function\n",
    "l=[1,7,2,0,6,4,9,5]\n",
    "for index,i in enumerate(l) :\n",
    "    if index==2 or index==4 or index==6 :\n",
    "        print(index , i)"
   ]
  },
  {
   "cell_type": "code",
   "execution_count": 3,
   "id": "eea4a42e",
   "metadata": {},
   "outputs": [
    {
     "name": "stdout",
     "output_type": "stream",
     "text": [
      "Enter a number :5\n",
      "[5, 10, 15, 20, 25, 30, 35, 40, 45, 50]\n"
     ]
    }
   ],
   "source": [
    "#write a list comprehension to print a list contains the multiplication table of a user defined number\n",
    "n=int(input(\"Enter a number :\"))\n",
    "list=[n*i for i in range(1,11)]\n",
    "print(list)"
   ]
  },
  {
   "cell_type": "code",
   "execution_count": 4,
   "id": "62c340f0",
   "metadata": {},
   "outputs": [
    {
     "name": "stdout",
     "output_type": "stream",
     "text": [
      "Enter a number :8\n",
      "Enter another number :0\n",
      "Infinite\n"
     ]
    }
   ],
   "source": [
    "#write a program to display a/b where a and b are integers. If b=0 ,display infinite by handling the zeroDivisionError\n",
    "a=int(input(\"Enter a number :\"))\n",
    "b=int(input(\"Enter another number :\"))\n",
    "try :\n",
    "    print(a/b)\n",
    "except ZeroDivisionError as e :\n",
    "    print(\"Infinite\")"
   ]
  }
 ],
 "metadata": {
  "kernelspec": {
   "display_name": "Python 3",
   "language": "python",
   "name": "python3"
  },
  "language_info": {
   "codemirror_mode": {
    "name": "ipython",
    "version": 3
   },
   "file_extension": ".py",
   "mimetype": "text/x-python",
   "name": "python",
   "nbconvert_exporter": "python",
   "pygments_lexer": "ipython3",
   "version": "3.8.8"
  }
 },
 "nbformat": 4,
 "nbformat_minor": 5
}
