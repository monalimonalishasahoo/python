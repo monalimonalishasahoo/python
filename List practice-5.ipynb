{
 "cells": [
  {
   "cell_type": "code",
   "execution_count": 1,
   "id": "4e46da40",
   "metadata": {},
   "outputs": [
    {
     "name": "stdout",
     "output_type": "stream",
     "text": [
      "Color1-Color2:  ['red', 'orange', 'white']\n",
      "Color2-Color1:  ['black', 'yellow']\n"
     ]
    }
   ],
   "source": [
    "#Write a Python program to compute the difference between two lists. \n",
    "from collections import Counter\n",
    "color1 = [\"red\", \"orange\", \"green\", \"blue\", \"white\"]\n",
    "color2 = [\"black\", \"yellow\", \"green\", \"blue\"]\n",
    "counter1 = Counter(color1)\n",
    "counter2 = Counter(color2)\n",
    "print(\"Color1-Color2: \",list(counter1 - counter2))\n",
    "print(\"Color2-Color1: \",list(counter2 - counter1))"
   ]
  },
  {
   "cell_type": "code",
   "execution_count": 2,
   "id": "9a55cc99",
   "metadata": {},
   "outputs": [
    {
     "name": "stdout",
     "output_type": "stream",
     "text": [
      "0\n",
      "1\n",
      "2\n",
      "3\n",
      "4\n"
     ]
    }
   ],
   "source": [
    "#Write a Python program to create a list with infinite elements. \n",
    "import itertools\n",
    "c = itertools.count()\n",
    "print(next(c))\n",
    "print(next(c))\n",
    "print(next(c))\n",
    "print(next(c))\n",
    "print(next(c))"
   ]
  },
  {
   "cell_type": "code",
   "execution_count": 3,
   "id": "08f937f4",
   "metadata": {},
   "outputs": [
    {
     "name": "stdout",
     "output_type": "stream",
     "text": [
      "red-green-orange\n",
      "redgreenorange\n"
     ]
    }
   ],
   "source": [
    "# Write a Python program to concatenate elements of a list. \n",
    "color = ['red', 'green', 'orange']\n",
    "print('-'.join(color))\n",
    "print(''.join(color))"
   ]
  },
  {
   "cell_type": "code",
   "execution_count": 4,
   "id": "6fe6a16f",
   "metadata": {},
   "outputs": [
    {
     "name": "stdout",
     "output_type": "stream",
     "text": [
      "Original List: \n",
      "[{'key1': 'value1', 'key2': 'value2'}, {'key1': 'value3', 'key2': 'value4'}]\n",
      "New List: \n",
      "[{'key2': 'value2'}, {'key2': 'value4'}]\n"
     ]
    }
   ],
   "source": [
    "#  Write a Python program to remove key values pairs from a list of dictionaries.\n",
    "original_list = [{'key1':'value1', 'key2':'value2'}, {'key1':'value3', 'key2':'value4'}]\n",
    "print(\"Original List: \")\n",
    "print(original_list)\n",
    "new_list = [{k: v for k, v in d.items() if k != 'key1'} for d in original_list]\n",
    "print(\"New List: \")\n",
    "print(new_list)"
   ]
  },
  {
   "cell_type": "code",
   "execution_count": 5,
   "id": "defc615e",
   "metadata": {},
   "outputs": [
    {
     "name": "stdout",
     "output_type": "stream",
     "text": [
      "['Red', 'Green', 'White']\n"
     ]
    }
   ],
   "source": [
    "# Write a Python program to convert a string to a list\n",
    "import ast\n",
    "color =\"['Red', 'Green', 'White']\"\n",
    "print(ast.literal_eval(color))"
   ]
  },
  {
   "cell_type": "code",
   "execution_count": 6,
   "id": "a27cccd4",
   "metadata": {},
   "outputs": [
    {
     "name": "stdout",
     "output_type": "stream",
     "text": [
      "False\n",
      "True\n"
     ]
    }
   ],
   "source": [
    "# Write a Python program to check whether all items of a list is equal to a given string. \n",
    "color1 = [\"green\", \"orange\", \"black\", \"white\"]\n",
    "color2 = [\"green\", \"green\", \"green\", \"green\"]\n",
    "\n",
    "print(all(c == 'blue' for c in color1))\n",
    "print(all(c == 'green' for c in color2))"
   ]
  },
  {
   "cell_type": "code",
   "execution_count": 7,
   "id": "d407cdcb",
   "metadata": {},
   "outputs": [
    {
     "name": "stdout",
     "output_type": "stream",
     "text": [
      "The first list is : [1, 3, 5, 7, 9, 10]\n",
      "The second list is : [2, 4, 6, 8]\n",
      "[1, 3, 5, 7, 9, 2, 4, 6, 8]\n"
     ]
    }
   ],
   "source": [
    "#Write a Python program to replace the last element in a list with another list. \n",
    "l1 = [1, 3, 5, 7, 9, 10]\n",
    "print(\"The first list is :\",l1)\n",
    "l2 = [2, 4, 6, 8]\n",
    "print(\"The second list is :\",l2)\n",
    "l1[-1:] = l2\n",
    "print(l1)"
   ]
  },
  {
   "cell_type": "code",
   "execution_count": 8,
   "id": "c7fc93a3",
   "metadata": {},
   "outputs": [
    {
     "name": "stdout",
     "output_type": "stream",
     "text": [
      "6\n"
     ]
    }
   ],
   "source": [
    "#  Write a Python program to check whether the n-th element exists in a given list\n",
    "x = [1, 2, 3, 4, 5, 6]\n",
    "xlen = len(x)-1\n",
    "print(x[xlen])"
   ]
  },
  {
   "cell_type": "code",
   "execution_count": 9,
   "id": "c1b9f73d",
   "metadata": {},
   "outputs": [
    {
     "name": "stdout",
     "output_type": "stream",
     "text": [
      "(6, 0)\n"
     ]
    }
   ],
   "source": [
    "#Write a Python program to find a tuple, the smallest second index value from a list of tuples.\n",
    "x = [(4, 1), (1, 2), (6, 0)]\n",
    "print(min(x, key=lambda n: (n[1], -n[0])))"
   ]
  },
  {
   "cell_type": "code",
   "execution_count": 10,
   "id": "d49205a6",
   "metadata": {},
   "outputs": [
    {
     "name": "stdout",
     "output_type": "stream",
     "text": [
      "[{}, {}, {}, {}, {}]\n"
     ]
    }
   ],
   "source": [
    "#Write a Python program to create a list of empty dictionaries.\n",
    "n = 5\n",
    "l = [{} for i in range(n)]\n",
    "print(l)"
   ]
  }
 ],
 "metadata": {
  "kernelspec": {
   "display_name": "Python 3",
   "language": "python",
   "name": "python3"
  },
  "language_info": {
   "codemirror_mode": {
    "name": "ipython",
    "version": 3
   },
   "file_extension": ".py",
   "mimetype": "text/x-python",
   "name": "python",
   "nbconvert_exporter": "python",
   "pygments_lexer": "ipython3",
   "version": "3.8.8"
  }
 },
 "nbformat": 4,
 "nbformat_minor": 5
}
